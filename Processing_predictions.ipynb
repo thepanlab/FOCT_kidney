{
 "cells": [
  {
   "cell_type": "code",
   "execution_count": null,
   "metadata": {},
   "outputs": [],
   "source": [
    "# Loading data"
   ]
  },
  {
   "cell_type": "code",
   "execution_count": 218,
   "metadata": {},
   "outputs": [],
   "source": [
    "import numpy as np"
   ]
  },
  {
   "cell_type": "code",
   "execution_count": 219,
   "metadata": {},
   "outputs": [],
   "source": [
    "with open('/work/omicsbio/paulcalle/Kidney_project/kidney_data/a_images_1D.npy', 'rb') as f:\n",
    "    a_images_1D = np.load(f)\n",
    "    \n",
    "with open('/work/omicsbio/paulcalle/Kidney_project/kidney_data/a_label.npy', 'rb') as f:\n",
    "    a_label = np.load(f)"
   ]
  },
  {
   "cell_type": "code",
   "execution_count": 220,
   "metadata": {},
   "outputs": [],
   "source": [
    "with open('/work/omicsbio/paulcalle/Kidney_project/kidney_data/a_kidney_num.npy', 'rb') as f:\n",
    "    a_kidney_num = np.load(f)"
   ]
  },
  {
   "cell_type": "code",
   "execution_count": 221,
   "metadata": {},
   "outputs": [],
   "source": [
    "import numpy as np"
   ]
  },
  {
   "cell_type": "markdown",
   "metadata": {},
   "source": [
    "# Transforming labels to numerical categories"
   ]
  },
  {
   "cell_type": "code",
   "execution_count": 222,
   "metadata": {},
   "outputs": [],
   "source": [
    "a_label_num = np.copy(a_label)"
   ]
  },
  {
   "cell_type": "code",
   "execution_count": 223,
   "metadata": {},
   "outputs": [],
   "source": [
    "a_label_num[a_label_num == \"medulla\"] = 0\n",
    "a_label_num[a_label_num == \"cortex\"] = 1\n",
    "a_label_num[a_label_num == \"pelvis_calyx\"] = 2"
   ]
  },
  {
   "cell_type": "code",
   "execution_count": 224,
   "metadata": {},
   "outputs": [],
   "source": [
    "a_label_num = a_label_num.astype(int)"
   ]
  },
  {
   "cell_type": "code",
   "execution_count": 225,
   "metadata": {
    "scrolled": true
   },
   "outputs": [
    {
     "data": {
      "text/plain": [
       "array([0, 0, 0, ..., 0, 0, 0])"
      ]
     },
     "execution_count": 225,
     "metadata": {},
     "output_type": "execute_result"
    }
   ],
   "source": [
    "a_label_num"
   ]
  },
  {
   "cell_type": "markdown",
   "metadata": {},
   "source": [
    "# K10 k7"
   ]
  },
  {
   "cell_type": "code",
   "execution_count": 11,
   "metadata": {},
   "outputs": [],
   "source": [
    "with open('/scratch/paulcalle/kidney_results/archRESNET1_results/pred_val_K10_outer_k7_val.npy', 'rb') as f:\n",
    "    prob_K10_k7 = np.load(f)"
   ]
  },
  {
   "cell_type": "code",
   "execution_count": 12,
   "metadata": {},
   "outputs": [
    {
     "data": {
      "text/plain": [
       "(3000, 3)"
      ]
     },
     "execution_count": 12,
     "metadata": {},
     "output_type": "execute_result"
    }
   ],
   "source": [
    "prob_K10_k7.shape"
   ]
  },
  {
   "cell_type": "code",
   "execution_count": 13,
   "metadata": {},
   "outputs": [
    {
     "data": {
      "text/plain": [
       "array([[8.72101307e-01, 1.27897650e-01, 9.98132805e-07],\n",
       "       [1.00000000e+00, 4.23364561e-08, 4.95758989e-11],\n",
       "       [9.93215680e-01, 4.97169513e-03, 1.81271019e-03],\n",
       "       ...,\n",
       "       [2.59872086e-05, 4.61778581e-01, 5.38195491e-01],\n",
       "       [3.37402045e-04, 8.61423905e-05, 9.99576390e-01],\n",
       "       [1.36068717e-04, 9.87800360e-01, 1.20635675e-02]], dtype=float32)"
      ]
     },
     "execution_count": 13,
     "metadata": {},
     "output_type": "execute_result"
    }
   ],
   "source": [
    "prob_K10_k7"
   ]
  },
  {
   "cell_type": "code",
   "execution_count": 14,
   "metadata": {},
   "outputs": [],
   "source": [
    "pred_K10_k7 = np.argmax(prob_K10_k7, axis=-1)"
   ]
  },
  {
   "cell_type": "code",
   "execution_count": 18,
   "metadata": {},
   "outputs": [
    {
     "data": {
      "text/plain": [
       "array([0, 0, 0, ..., 2, 2, 1])"
      ]
     },
     "execution_count": 18,
     "metadata": {},
     "output_type": "execute_result"
    }
   ],
   "source": [
    "pred_K10_k7"
   ]
  },
  {
   "cell_type": "code",
   "execution_count": 15,
   "metadata": {},
   "outputs": [],
   "source": [
    "index = 10\n",
    "\n",
    "bool_kidney_num = a_kidney_num != index\n",
    "a_images_1D_9_kidneys = a_images_1D[bool_kidney_num]\n",
    "a_label_num_9_kidneys = a_label_num[bool_kidney_num]\n",
    "a_kidney_num_9_kidneys = a_kidney_num[bool_kidney_num]\n",
    "\n",
    "    \n",
    "X_cv = a_images_1D_9_kidneys\n",
    "y_cv = a_label_num_9_kidneys\n",
    "\n",
    "index_val = 7\n",
    "\n",
    "bool_val_kidney = ( a_kidney_num_9_kidneys == index_val )\n",
    "bool_train_kidney = ~bool_val_kidney\n",
    "\n",
    "y_val_K10_k7 = y_cv[bool_val_kidney] "
   ]
  },
  {
   "cell_type": "code",
   "execution_count": 16,
   "metadata": {},
   "outputs": [
    {
     "data": {
      "text/plain": [
       "array([0, 0, 0, ..., 2, 2, 2])"
      ]
     },
     "execution_count": 16,
     "metadata": {},
     "output_type": "execute_result"
    }
   ],
   "source": [
    "y_val_K10_k7"
   ]
  },
  {
   "cell_type": "code",
   "execution_count": 17,
   "metadata": {},
   "outputs": [
    {
     "name": "stderr",
     "output_type": "stream",
     "text": [
      "/opt/oscer/software/SciPy-bundle/2019.11-foss-2019a-Python-3.8.0/lib/python3.8/site-packages/scipy/optimize/_shgo.py:495: SyntaxWarning: \"is\" with a literal. Did you mean \"==\"?\n",
      "  if cons['type'] is 'ineq':\n",
      "/opt/oscer/software/SciPy-bundle/2019.11-foss-2019a-Python-3.8.0/lib/python3.8/site-packages/scipy/optimize/_shgo.py:743: SyntaxWarning: \"is not\" with a literal. Did you mean \"!=\"?\n",
      "  if len(self.X_min) is not 0:\n"
     ]
    },
    {
     "name": "stdout",
     "output_type": "stream",
     "text": [
      "[[867 131   2]\n",
      " [  8 602 390]\n",
      " [  5 371 624]]\n"
     ]
    }
   ],
   "source": [
    "from sklearn.metrics import confusion_matrix\n",
    "\n",
    "print(confusion_matrix(y_val_K10_k7, pred_K10_k7))"
   ]
  },
  {
   "cell_type": "code",
   "execution_count": 20,
   "metadata": {},
   "outputs": [
    {
     "data": {
      "text/plain": [
       "0.6976666666666667"
      ]
     },
     "execution_count": 20,
     "metadata": {},
     "output_type": "execute_result"
    }
   ],
   "source": [
    "from sklearn.metrics import accuracy_score\n",
    "accuracy_score(y_val_K10_k7, pred_K10_k7)"
   ]
  },
  {
   "cell_type": "markdown",
   "metadata": {},
   "source": [
    "# K10 k8"
   ]
  },
  {
   "cell_type": "code",
   "execution_count": 23,
   "metadata": {},
   "outputs": [],
   "source": [
    "with open('/scratch/paulcalle/kidney_results/archRESNET1_results/pred_val_K10_outer_k8_val.npy', 'rb') as f:\n",
    "    prob_K10_k8 = np.load(f)"
   ]
  },
  {
   "cell_type": "code",
   "execution_count": 24,
   "metadata": {},
   "outputs": [
    {
     "data": {
      "text/plain": [
       "(3000, 3)"
      ]
     },
     "execution_count": 24,
     "metadata": {},
     "output_type": "execute_result"
    }
   ],
   "source": [
    "prob_K10_k8.shape"
   ]
  },
  {
   "cell_type": "code",
   "execution_count": 25,
   "metadata": {},
   "outputs": [
    {
     "data": {
      "text/plain": [
       "array([[2.53345416e-08, 1.14867740e-04, 9.99885082e-01],\n",
       "       [6.05309980e-09, 1.11453225e-07, 9.99999881e-01],\n",
       "       [2.17117657e-10, 3.69737629e-10, 1.00000000e+00],\n",
       "       ...,\n",
       "       [9.99965310e-01, 2.91074739e-05, 5.61938668e-06],\n",
       "       [9.99988317e-01, 1.00531952e-05, 1.61920912e-06],\n",
       "       [9.99943852e-01, 2.76550891e-05, 2.85154656e-05]], dtype=float32)"
      ]
     },
     "execution_count": 25,
     "metadata": {},
     "output_type": "execute_result"
    }
   ],
   "source": [
    "prob_K10_k8"
   ]
  },
  {
   "cell_type": "code",
   "execution_count": 26,
   "metadata": {},
   "outputs": [],
   "source": [
    "pred_K10_k8 = np.argmax(prob_K10_k8, axis=-1)"
   ]
  },
  {
   "cell_type": "code",
   "execution_count": 27,
   "metadata": {},
   "outputs": [],
   "source": [
    "index = 10\n",
    "\n",
    "bool_kidney_num = a_kidney_num != index\n",
    "a_images_1D_9_kidneys = a_images_1D[bool_kidney_num]\n",
    "a_label_num_9_kidneys = a_label_num[bool_kidney_num]\n",
    "a_kidney_num_9_kidneys = a_kidney_num[bool_kidney_num]\n",
    "\n",
    "    \n",
    "X_cv = a_images_1D_9_kidneys\n",
    "y_cv = a_label_num_9_kidneys\n",
    "\n",
    "index_val = 8\n",
    "\n",
    "bool_val_kidney = ( a_kidney_num_9_kidneys == index_val )\n",
    "bool_train_kidney = ~bool_val_kidney\n",
    "\n",
    "y_val_K10_k8 = y_cv[bool_val_kidney] "
   ]
  },
  {
   "cell_type": "code",
   "execution_count": 28,
   "metadata": {},
   "outputs": [
    {
     "data": {
      "text/plain": [
       "array([2, 2, 2, ..., 0, 0, 0])"
      ]
     },
     "execution_count": 28,
     "metadata": {},
     "output_type": "execute_result"
    }
   ],
   "source": [
    "y_val_K10_k8"
   ]
  },
  {
   "cell_type": "code",
   "execution_count": 29,
   "metadata": {},
   "outputs": [
    {
     "name": "stdout",
     "output_type": "stream",
     "text": [
      "[[ 747   84  169]\n",
      " [ 178  656  166]\n",
      " [   0    0 1000]]\n"
     ]
    }
   ],
   "source": [
    "from sklearn.metrics import confusion_matrix\n",
    "\n",
    "print(confusion_matrix(y_val_K10_k8, pred_K10_k8))"
   ]
  },
  {
   "cell_type": "markdown",
   "metadata": {},
   "source": [
    "# K10 k9"
   ]
  },
  {
   "cell_type": "code",
   "execution_count": 31,
   "metadata": {},
   "outputs": [],
   "source": [
    "with open('/scratch/paulcalle/kidney_results/archRESNET1_results/pred_val_K10_outer_k9_val.npy', 'rb') as f:\n",
    "    prob_K10_k9 = np.load(f)"
   ]
  },
  {
   "cell_type": "code",
   "execution_count": 32,
   "metadata": {},
   "outputs": [
    {
     "data": {
      "text/plain": [
       "(3000, 3)"
      ]
     },
     "execution_count": 32,
     "metadata": {},
     "output_type": "execute_result"
    }
   ],
   "source": [
    "prob_K10_k9.shape"
   ]
  },
  {
   "cell_type": "code",
   "execution_count": 33,
   "metadata": {},
   "outputs": [
    {
     "data": {
      "text/plain": [
       "array([[4.0766250e-07, 1.7998410e-10, 9.9999964e-01],\n",
       "       [1.4980793e-12, 1.3727282e-13, 1.0000000e+00],\n",
       "       [2.3796452e-14, 1.1479236e-15, 1.0000000e+00],\n",
       "       ...,\n",
       "       [9.8145896e-01, 1.8540826e-02, 1.9154415e-07],\n",
       "       [8.7451088e-05, 9.9966240e-01, 2.5010071e-04],\n",
       "       [1.3576543e-04, 9.9986184e-01, 2.4170165e-06]], dtype=float32)"
      ]
     },
     "execution_count": 33,
     "metadata": {},
     "output_type": "execute_result"
    }
   ],
   "source": [
    "prob_K10_k9"
   ]
  },
  {
   "cell_type": "code",
   "execution_count": 34,
   "metadata": {},
   "outputs": [],
   "source": [
    "pred_K10_k9 = np.argmax(prob_K10_k9, axis=-1)"
   ]
  },
  {
   "cell_type": "code",
   "execution_count": 38,
   "metadata": {},
   "outputs": [],
   "source": [
    "index = 10\n",
    "\n",
    "bool_kidney_num = a_kidney_num != index\n",
    "a_images_1D_9_kidneys = a_images_1D[bool_kidney_num]\n",
    "a_label_num_9_kidneys = a_label_num[bool_kidney_num]\n",
    "a_kidney_num_9_kidneys = a_kidney_num[bool_kidney_num]\n",
    "\n",
    "    \n",
    "X_cv = a_images_1D_9_kidneys\n",
    "y_cv = a_label_num_9_kidneys\n",
    "\n",
    "index_val = 9\n",
    "\n",
    "bool_val_kidney = ( a_kidney_num_9_kidneys == index_val )\n",
    "bool_train_kidney = ~bool_val_kidney\n",
    "\n",
    "y_val_K10_k9 = y_cv[bool_val_kidney] "
   ]
  },
  {
   "cell_type": "code",
   "execution_count": 39,
   "metadata": {},
   "outputs": [
    {
     "data": {
      "text/plain": [
       "array([2, 2, 2, ..., 1, 1, 1])"
      ]
     },
     "execution_count": 39,
     "metadata": {},
     "output_type": "execute_result"
    }
   ],
   "source": [
    "y_val_K10_k9"
   ]
  },
  {
   "cell_type": "code",
   "execution_count": 40,
   "metadata": {},
   "outputs": [
    {
     "name": "stdout",
     "output_type": "stream",
     "text": [
      "[[1000    0    0]\n",
      " [  91  878   31]\n",
      " [ 132    0  868]]\n"
     ]
    }
   ],
   "source": [
    "from sklearn.metrics import confusion_matrix\n",
    "\n",
    "print(confusion_matrix(y_val_K10_k9, pred_K10_k9))"
   ]
  },
  {
   "cell_type": "markdown",
   "metadata": {},
   "source": [
    "# K1 Outer"
   ]
  },
  {
   "cell_type": "code",
   "execution_count": 301,
   "metadata": {},
   "outputs": [],
   "source": [
    "with open('/scratch/paulcalle/kidney_results/summit/archRESNET50_tl_outer_results/pred_val_b_K1_outer.npy', 'rb') as f:\n",
    "    prob_K1 = np.load(f)"
   ]
  },
  {
   "cell_type": "code",
   "execution_count": 302,
   "metadata": {},
   "outputs": [
    {
     "data": {
      "text/plain": [
       "(3000, 3)"
      ]
     },
     "execution_count": 302,
     "metadata": {},
     "output_type": "execute_result"
    }
   ],
   "source": [
    "prob_K1.shape"
   ]
  },
  {
   "cell_type": "code",
   "execution_count": 303,
   "metadata": {},
   "outputs": [
    {
     "data": {
      "text/plain": [
       "array([[2.0137679e-02, 9.7977406e-01, 8.8273759e-05],\n",
       "       [8.6152768e-01, 1.3845819e-01, 1.4131597e-05],\n",
       "       [8.7955326e-01, 1.2043845e-01, 8.2338420e-06],\n",
       "       ...,\n",
       "       [4.6975953e-22, 7.5808555e-17, 1.0000000e+00],\n",
       "       [2.4474801e-20, 1.5563810e-16, 1.0000000e+00],\n",
       "       [1.9317127e-19, 1.4641974e-12, 1.0000000e+00]], dtype=float32)"
      ]
     },
     "execution_count": 303,
     "metadata": {},
     "output_type": "execute_result"
    }
   ],
   "source": [
    "prob_K1"
   ]
  },
  {
   "cell_type": "code",
   "execution_count": 304,
   "metadata": {},
   "outputs": [],
   "source": [
    "pred_K1 = np.argmax(prob_K1, axis=-1)"
   ]
  },
  {
   "cell_type": "code",
   "execution_count": 305,
   "metadata": {},
   "outputs": [
    {
     "data": {
      "text/plain": [
       "array([1, 0, 0, ..., 2, 2, 2])"
      ]
     },
     "execution_count": 305,
     "metadata": {},
     "output_type": "execute_result"
    }
   ],
   "source": [
    "pred_K1"
   ]
  },
  {
   "cell_type": "code",
   "execution_count": 306,
   "metadata": {},
   "outputs": [
    {
     "data": {
      "text/plain": [
       "array([7, 7, 7, ..., 5, 5, 5])"
      ]
     },
     "execution_count": 306,
     "metadata": {},
     "output_type": "execute_result"
    }
   ],
   "source": [
    "a_kidney_num"
   ]
  },
  {
   "cell_type": "code",
   "execution_count": 307,
   "metadata": {},
   "outputs": [],
   "source": [
    "index = 1\n",
    "\n",
    "bool_kidney_test = a_kidney_num == index\n",
    "\n",
    "y_test_K1 = a_label_num[bool_kidney_test]"
   ]
  },
  {
   "cell_type": "code",
   "execution_count": 308,
   "metadata": {},
   "outputs": [
    {
     "data": {
      "text/plain": [
       "array([1, 1, 1, ..., 2, 2, 2])"
      ]
     },
     "execution_count": 308,
     "metadata": {},
     "output_type": "execute_result"
    }
   ],
   "source": [
    "y_test_K1"
   ]
  },
  {
   "cell_type": "code",
   "execution_count": 309,
   "metadata": {},
   "outputs": [
    {
     "data": {
      "text/plain": [
       "(3000,)"
      ]
     },
     "execution_count": 309,
     "metadata": {},
     "output_type": "execute_result"
    }
   ],
   "source": [
    "y_test_K1.shape"
   ]
  },
  {
   "cell_type": "code",
   "execution_count": 310,
   "metadata": {},
   "outputs": [
    {
     "data": {
      "text/plain": [
       "2261"
      ]
     },
     "execution_count": 310,
     "metadata": {},
     "output_type": "execute_result"
    }
   ],
   "source": [
    "np.sum(pred_K1 == y_test_K1)"
   ]
  },
  {
   "cell_type": "code",
   "execution_count": 311,
   "metadata": {},
   "outputs": [
    {
     "data": {
      "text/plain": [
       "array([1, 0, 0, ..., 2, 2, 2])"
      ]
     },
     "execution_count": 311,
     "metadata": {},
     "output_type": "execute_result"
    }
   ],
   "source": [
    "pred_K1"
   ]
  },
  {
   "cell_type": "code",
   "execution_count": 312,
   "metadata": {},
   "outputs": [
    {
     "name": "stdout",
     "output_type": "stream",
     "text": [
      "[[990  10   0]\n",
      " [703 297   0]\n",
      " [ 26   0 974]]\n"
     ]
    }
   ],
   "source": [
    "from sklearn.metrics import confusion_matrix\n",
    "\n",
    "print(confusion_matrix(y_test_K1, pred_K1))"
   ]
  },
  {
   "cell_type": "markdown",
   "metadata": {},
   "source": [
    "## ROC"
   ]
  },
  {
   "cell_type": "markdown",
   "metadata": {},
   "source": [
    "Source: [Link](https://scikit-learn.org/stable/auto_examples/model_selection/plot_roc.html)"
   ]
  },
  {
   "cell_type": "code",
   "execution_count": 313,
   "metadata": {},
   "outputs": [],
   "source": [
    "from sklearn.preprocessing import label_binarize\n",
    "from sklearn.metrics import roc_auc_score\n",
    "from sklearn.metrics import roc_curve, auc\n",
    "from scipy import interp\n",
    "\n",
    "import numpy as np\n",
    "import matplotlib.pyplot as plt\n",
    "from itertools import cycle"
   ]
  },
  {
   "cell_type": "code",
   "execution_count": 314,
   "metadata": {},
   "outputs": [],
   "source": [
    "y_test_K1_bin = label_binarize(y_test_K1, classes=[0, 1, 2])"
   ]
  },
  {
   "cell_type": "code",
   "execution_count": 315,
   "metadata": {},
   "outputs": [
    {
     "data": {
      "text/plain": [
       "array([[0, 1, 0],\n",
       "       [0, 1, 0],\n",
       "       [0, 1, 0],\n",
       "       ...,\n",
       "       [0, 0, 1],\n",
       "       [0, 0, 1],\n",
       "       [0, 0, 1]])"
      ]
     },
     "execution_count": 315,
     "metadata": {},
     "output_type": "execute_result"
    }
   ],
   "source": [
    "y_test_K1_bin"
   ]
  },
  {
   "cell_type": "code",
   "execution_count": 316,
   "metadata": {},
   "outputs": [
    {
     "data": {
      "text/plain": [
       "(3000, 3)"
      ]
     },
     "execution_count": 316,
     "metadata": {},
     "output_type": "execute_result"
    }
   ],
   "source": [
    "y_test_K1_bin.shape"
   ]
  },
  {
   "cell_type": "code",
   "execution_count": 317,
   "metadata": {},
   "outputs": [
    {
     "data": {
      "text/plain": [
       "array([1, 0, 0, ..., 2, 2, 2])"
      ]
     },
     "execution_count": 317,
     "metadata": {},
     "output_type": "execute_result"
    }
   ],
   "source": [
    "pred_K1"
   ]
  },
  {
   "cell_type": "code",
   "execution_count": 318,
   "metadata": {},
   "outputs": [],
   "source": [
    "n_classes = 3\n",
    "\n",
    "fpr = dict()\n",
    "tpr = dict()\n",
    "roc_auc = dict()\n",
    "for i in range(n_classes):\n",
    "    fpr[i], tpr[i], _ = roc_curve(y_test_K1_bin[:, i], prob_K1[:, i])\n",
    "    roc_auc[i] = auc(fpr[i], tpr[i])"
   ]
  },
  {
   "cell_type": "code",
   "execution_count": 319,
   "metadata": {},
   "outputs": [],
   "source": [
    "# Compute micro-average ROC curve and ROC area\n",
    "fpr[\"micro\"], tpr[\"micro\"], _ = roc_curve(y_test_K1_bin.ravel(), prob_K1.ravel())\n",
    "roc_auc[\"micro\"] = auc(fpr[\"micro\"], tpr[\"micro\"])"
   ]
  },
  {
   "cell_type": "code",
   "execution_count": 320,
   "metadata": {
    "scrolled": true
   },
   "outputs": [
    {
     "name": "stderr",
     "output_type": "stream",
     "text": [
      "<ipython-input-320-b0db13c90227>:7: DeprecationWarning: scipy.interp is deprecated and will be removed in SciPy 2.0.0, use numpy.interp instead\n",
      "  mean_tpr += interp(all_fpr, fpr[i], tpr[i])\n"
     ]
    },
    {
     "data": {
      "image/png": "[encoded data removed]",
      "text/plain": [
       "<Figure size 432x288 with 1 Axes>"
      ]
     },
     "metadata": {
      "needs_background": "light"
     },
     "output_type": "display_data"
    }
   ],
   "source": [
    "# First aggregate all false positive rates\n",
    "all_fpr = np.unique(np.concatenate([fpr[i] for i in range(n_classes)]))\n",
    "\n",
    "# Then interpolate all ROC curves at this points\n",
    "mean_tpr = np.zeros_like(all_fpr)\n",
    "for i in range(n_classes):\n",
    "    mean_tpr += interp(all_fpr, fpr[i], tpr[i])\n",
    "\n",
    "# Finally average it and compute AUC\n",
    "mean_tpr /= n_classes\n",
    "\n",
    "fpr[\"macro\"] = all_fpr\n",
    "tpr[\"macro\"] = mean_tpr\n",
    "roc_auc[\"macro\"] = auc(fpr[\"macro\"], tpr[\"macro\"])\n",
    "\n",
    "# Plot all ROC curves\n",
    "# plt.figure()\n",
    "# plt.plot(fpr[\"micro\"], tpr[\"micro\"],\n",
    "#          label='micro-average (area = {0:0.2f})'\n",
    "#                ''.format(roc_auc[\"micro\"]),\n",
    "#          color='deeppink', linestyle=':', linewidth=4)\n",
    "\n",
    "# plt.plot(fpr[\"macro\"], tpr[\"macro\"],\n",
    "#          label='macro-average (area = {0:0.2f})'\n",
    "#                ''.format(roc_auc[\"macro\"]),\n",
    "#          color='navy', linestyle=':', linewidth=4)\n",
    "\n",
    "lw = 2\n",
    "\n",
    "l_types = [\"cortex\",\"medulla\",\"calyx\"]\n",
    "\n",
    "colors = cycle(['aqua', 'darkorange', 'cornflowerblue'])\n",
    "for i, type_name, color in zip([1,0,2], l_types, colors):\n",
    "    plt.plot(fpr[i], tpr[i], color=color, lw=lw,\n",
    "             label='{0} (AUC = {1:0.2f})'\n",
    "             ''.format(type_name, roc_auc[i]))\n",
    "\n",
    "\n",
    "    \n",
    "plt.plot([0, 1], [0, 1], 'k--', lw=lw)\n",
    "plt.xlim([0.0, 1.0])\n",
    "plt.ylim([0.0, 1.05])\n",
    "plt.xlabel('1 - Specificity')\n",
    "plt.ylabel('Sensitivity')\n",
    "plt.title('Receiver operating characteristic(ROC) multi-class Testing kidney 1')\n",
    "plt.legend(loc=\"lower right\")\n",
    "plt.savefig(\"./ROC_tests/ROC_kidney1.jpg\", dpi=300)\n",
    "plt.show()"
   ]
  },
  {
   "cell_type": "markdown",
   "metadata": {},
   "source": [
    "# K2 Outer"
   ]
  },
  {
   "cell_type": "code",
   "execution_count": 429,
   "metadata": {},
   "outputs": [],
   "source": [
    "with open('/scratch/paulcalle/kidney_results/summit/archRESNET50_tl_outer_results/pred_val_b_K2_outer.npy', 'rb') as f:\n",
    "    prob_K2 = np.load(f)"
   ]
  },
  {
   "cell_type": "code",
   "execution_count": 430,
   "metadata": {},
   "outputs": [
    {
     "data": {
      "text/plain": [
       "(3000, 3)"
      ]
     },
     "execution_count": 430,
     "metadata": {},
     "output_type": "execute_result"
    }
   ],
   "source": [
    "prob_K2.shape"
   ]
  },
  {
   "cell_type": "code",
   "execution_count": 431,
   "metadata": {},
   "outputs": [
    {
     "data": {
      "text/plain": [
       "array([[9.99982238e-01, 1.77647926e-05, 1.51365444e-12],\n",
       "       [1.00000000e+00, 1.21427224e-08, 1.38943208e-16],\n",
       "       [1.12993344e-04, 9.89793658e-01, 1.00932941e-02],\n",
       "       ...,\n",
       "       [6.76631974e-03, 9.93219793e-01, 1.40138500e-05],\n",
       "       [3.08215781e-03, 9.96811807e-01, 1.06009713e-04],\n",
       "       [3.27764195e-03, 9.96702492e-01, 1.97935042e-05]], dtype=float32)"
      ]
     },
     "execution_count": 431,
     "metadata": {},
     "output_type": "execute_result"
    }
   ],
   "source": [
    "prob_K2"
   ]
  },
  {
   "cell_type": "code",
   "execution_count": 432,
   "metadata": {},
   "outputs": [],
   "source": [
    "pred_K2 = np.argmax(prob_K2, axis=-1)"
   ]
  },
  {
   "cell_type": "code",
   "execution_count": 433,
   "metadata": {},
   "outputs": [
    {
     "data": {
      "text/plain": [
       "array([0, 0, 1, ..., 1, 1, 1])"
      ]
     },
     "execution_count": 433,
     "metadata": {},
     "output_type": "execute_result"
    }
   ],
   "source": [
    "pred_K2"
   ]
  },
  {
   "cell_type": "code",
   "execution_count": 434,
   "metadata": {},
   "outputs": [
    {
     "data": {
      "text/plain": [
       "array([7, 7, 7, ..., 5, 5, 5])"
      ]
     },
     "execution_count": 434,
     "metadata": {},
     "output_type": "execute_result"
    }
   ],
   "source": [
    "a_kidney_num"
   ]
  },
  {
   "cell_type": "code",
   "execution_count": 435,
   "metadata": {},
   "outputs": [],
   "source": [
    "index = 2\n",
    "\n",
    "bool_kidney_test = a_kidney_num == index\n",
    "\n",
    "y_test_K2 = a_label_num[bool_kidney_test]"
   ]
  },
  {
   "cell_type": "code",
   "execution_count": 436,
   "metadata": {},
   "outputs": [
    {
     "data": {
      "text/plain": [
       "array([0, 0, 0, ..., 1, 1, 1])"
      ]
     },
     "execution_count": 436,
     "metadata": {},
     "output_type": "execute_result"
    }
   ],
   "source": [
    "y_test_K2"
   ]
  },
  {
   "cell_type": "code",
   "execution_count": 437,
   "metadata": {},
   "outputs": [
    {
     "data": {
      "text/plain": [
       "(3000,)"
      ]
     },
     "execution_count": 437,
     "metadata": {},
     "output_type": "execute_result"
    }
   ],
   "source": [
    "y_test_K2.shape"
   ]
  },
  {
   "cell_type": "code",
   "execution_count": 438,
   "metadata": {},
   "outputs": [
    {
     "data": {
      "text/plain": [
       "2636"
      ]
     },
     "execution_count": 438,
     "metadata": {},
     "output_type": "execute_result"
    }
   ],
   "source": [
    "np.sum(pred_K2 == y_test_K2)"
   ]
  },
  {
   "cell_type": "code",
   "execution_count": 439,
   "metadata": {},
   "outputs": [
    {
     "data": {
      "text/plain": [
       "array([0, 0, 1, ..., 1, 1, 1])"
      ]
     },
     "execution_count": 439,
     "metadata": {},
     "output_type": "execute_result"
    }
   ],
   "source": [
    "pred_K2"
   ]
  },
  {
   "cell_type": "code",
   "execution_count": 440,
   "metadata": {},
   "outputs": [
    {
     "name": "stdout",
     "output_type": "stream",
     "text": [
      "[[713 262  25]\n",
      " [  2 990   8]\n",
      " [  0  67 933]]\n"
     ]
    }
   ],
   "source": [
    "from sklearn.metrics import confusion_matrix\n",
    "\n",
    "print(confusion_matrix(y_test_K2, pred_K2))"
   ]
  },
  {
   "cell_type": "markdown",
   "metadata": {},
   "source": [
    "## ROC"
   ]
  },
  {
   "cell_type": "markdown",
   "metadata": {},
   "source": [
    "Source: [Link](https://scikit-learn.org/stable/auto_examples/model_selection/plot_roc.html)"
   ]
  },
  {
   "cell_type": "code",
   "execution_count": 441,
   "metadata": {},
   "outputs": [],
   "source": [
    "from sklearn.preprocessing import label_binarize\n",
    "from sklearn.metrics import roc_auc_score\n",
    "from sklearn.metrics import roc_curve, auc\n",
    "from scipy import interp\n",
    "\n",
    "import numpy as np\n",
    "import matplotlib.pyplot as plt\n",
    "from itertools import cycle"
   ]
  },
  {
   "cell_type": "code",
   "execution_count": 442,
   "metadata": {},
   "outputs": [
    {
     "name": "stderr",
     "output_type": "stream",
     "text": [
      "<ipython-input-442-cbb122f0a9b6>:22: DeprecationWarning: scipy.interp is deprecated and will be removed in SciPy 2.0.0, use numpy.interp instead\n",
      "  mean_tpr += interp(all_fpr, fpr[i], tpr[i])\n"
     ]
    },
    {
     "data": {
      "image/png": "[encoded data removed]",
      "text/plain": [
       "<Figure size 432x288 with 1 Axes>"
      ]
     },
     "metadata": {
      "needs_background": "light"
     },
     "output_type": "display_data"
    }
   ],
   "source": [
    "y_test_K2_bin = label_binarize(y_test_K2, classes=[0, 1, 2])\n",
    "\n",
    "n_classes = 3\n",
    "\n",
    "fpr = dict()\n",
    "tpr = dict()\n",
    "roc_auc = dict()\n",
    "for i in range(n_classes):\n",
    "    fpr[i], tpr[i], _ = roc_curve(y_test_K2_bin[:, i], prob_K2[:, i])\n",
    "    roc_auc[i] = auc(fpr[i], tpr[i])\n",
    "\n",
    "# Compute micro-average ROC curve and ROC area\n",
    "fpr[\"micro\"], tpr[\"micro\"], _ = roc_curve(y_test_K2_bin.ravel(), prob_K2.ravel())\n",
    "roc_auc[\"micro\"] = auc(fpr[\"micro\"], tpr[\"micro\"])\n",
    "\n",
    "# First aggregate all false positive rates\n",
    "all_fpr = np.unique(np.concatenate([fpr[i] for i in range(n_classes)]))\n",
    "\n",
    "# Then interpolate all ROC curves at this points\n",
    "mean_tpr = np.zeros_like(all_fpr)\n",
    "for i in range(n_classes):\n",
    "    mean_tpr += interp(all_fpr, fpr[i], tpr[i])\n",
    "\n",
    "# Finally average it and compute AUC\n",
    "mean_tpr /= n_classes\n",
    "\n",
    "fpr[\"macro\"] = all_fpr\n",
    "tpr[\"macro\"] = mean_tpr\n",
    "roc_auc[\"macro\"] = auc(fpr[\"macro\"], tpr[\"macro\"])\n",
    "\n",
    "# Plot all ROC curves\n",
    "# plt.figure()\n",
    "# plt.plot(fpr[\"micro\"], tpr[\"micro\"],\n",
    "#          label='micro-average (AUC = {0:0.2f})'\n",
    "#                ''.format(roc_auc[\"micro\"]),\n",
    "#          color='deeppink', linestyle=':', linewidth=4)\n",
    "\n",
    "# plt.plot(fpr[\"macro\"], tpr[\"macro\"],\n",
    "#          label='macro-average (area = {0:0.2f})'\n",
    "#                ''.format(roc_auc[\"macro\"]),\n",
    "#          color='navy', linestyle=':', linewidth=4)\n",
    "\n",
    "lw = 2\n",
    "\n",
    "l_types = [\"cortex\",\"medulla\",\"calyx\"]\n",
    "\n",
    "colors = cycle(['aqua', 'darkorange', 'cornflowerblue'])\n",
    "for i, type_name, color in zip([1,0,2], l_types, colors):\n",
    "    plt.plot(fpr[i], tpr[i], color=color, lw=lw,\n",
    "             label='{0} (AUC = {1:0.2f})'\n",
    "             ''.format(type_name, roc_auc[i]))\n",
    "\n",
    "\n",
    "    \n",
    "plt.plot([0, 1], [0, 1], 'k--', lw=lw)\n",
    "plt.xlim([0.0, 1.0])\n",
    "plt.ylim([0.0, 1.05])\n",
    "plt.xlabel('1 - Specificity')\n",
    "plt.ylabel('Sensitivity')\n",
    "plt.title('Receiver operating characteristic(ROC) multi-class Testing kidney 2')\n",
    "plt.legend(loc=\"lower right\")\n",
    "plt.savefig(\"./ROC_tests/ROC_kidney2.jpg\", dpi=300)\n",
    "plt.show()"
   ]
  },
  {
   "cell_type": "markdown",
   "metadata": {},
   "source": [
    "# K3 Outer"
   ]
  },
  {
   "cell_type": "code",
   "execution_count": 443,
   "metadata": {},
   "outputs": [],
   "source": [
    "with open('/scratch/paulcalle/kidney_results/summit/archRESNET50_outer_results/pred_val_K3_outer.npy', 'rb') as f:\n",
    "    prob_K3 = np.load(f)"
   ]
  },
  {
   "cell_type": "code",
   "execution_count": 444,
   "metadata": {},
   "outputs": [
    {
     "data": {
      "text/plain": [
       "(3000, 3)"
      ]
     },
     "execution_count": 444,
     "metadata": {},
     "output_type": "execute_result"
    }
   ],
   "source": [
    "prob_K3.shape"
   ]
  },
  {
   "cell_type": "code",
   "execution_count": 445,
   "metadata": {},
   "outputs": [
    {
     "data": {
      "text/plain": [
       "array([[7.6311362e-01, 2.3595740e-01, 9.2899654e-04],\n",
       "       [9.3171477e-01, 6.8116426e-02, 1.6880636e-04],\n",
       "       [3.8979703e-01, 6.0897946e-01, 1.2235283e-03],\n",
       "       ...,\n",
       "       [7.8706294e-01, 2.1293372e-01, 3.3993670e-06],\n",
       "       [1.0053289e-01, 8.6712283e-01, 3.2344300e-02],\n",
       "       [5.0717574e-02, 9.4902074e-01, 2.6167987e-04]], dtype=float32)"
      ]
     },
     "execution_count": 445,
     "metadata": {},
     "output_type": "execute_result"
    }
   ],
   "source": [
    "prob_K3"
   ]
  },
  {
   "cell_type": "code",
   "execution_count": 446,
   "metadata": {},
   "outputs": [],
   "source": [
    "pred_K3 = np.argmax(prob_K3, axis=-1)"
   ]
  },
  {
   "cell_type": "code",
   "execution_count": 447,
   "metadata": {},
   "outputs": [
    {
     "data": {
      "text/plain": [
       "array([0, 0, 1, ..., 0, 1, 1])"
      ]
     },
     "execution_count": 447,
     "metadata": {},
     "output_type": "execute_result"
    }
   ],
   "source": [
    "pred_K3"
   ]
  },
  {
   "cell_type": "code",
   "execution_count": 448,
   "metadata": {},
   "outputs": [
    {
     "data": {
      "text/plain": [
       "array([7, 7, 7, ..., 5, 5, 5])"
      ]
     },
     "execution_count": 448,
     "metadata": {},
     "output_type": "execute_result"
    }
   ],
   "source": [
    "a_kidney_num"
   ]
  },
  {
   "cell_type": "code",
   "execution_count": 449,
   "metadata": {},
   "outputs": [],
   "source": [
    "index = 3\n",
    "\n",
    "bool_kidney_test = a_kidney_num == index\n",
    "\n",
    "y_test_K3 = a_label_num[bool_kidney_test]"
   ]
  },
  {
   "cell_type": "code",
   "execution_count": 450,
   "metadata": {},
   "outputs": [
    {
     "data": {
      "text/plain": [
       "array([0, 0, 0, ..., 1, 1, 1])"
      ]
     },
     "execution_count": 450,
     "metadata": {},
     "output_type": "execute_result"
    }
   ],
   "source": [
    "y_test_K3"
   ]
  },
  {
   "cell_type": "code",
   "execution_count": 451,
   "metadata": {},
   "outputs": [
    {
     "data": {
      "text/plain": [
       "(3000,)"
      ]
     },
     "execution_count": 451,
     "metadata": {},
     "output_type": "execute_result"
    }
   ],
   "source": [
    "y_test_K3.shape"
   ]
  },
  {
   "cell_type": "code",
   "execution_count": 452,
   "metadata": {},
   "outputs": [
    {
     "data": {
      "text/plain": [
       "2141"
      ]
     },
     "execution_count": 452,
     "metadata": {},
     "output_type": "execute_result"
    }
   ],
   "source": [
    "np.sum(pred_K3 == y_test_K3)"
   ]
  },
  {
   "cell_type": "code",
   "execution_count": 453,
   "metadata": {},
   "outputs": [
    {
     "data": {
      "text/plain": [
       "array([0, 0, 1, ..., 0, 1, 1])"
      ]
     },
     "execution_count": 453,
     "metadata": {},
     "output_type": "execute_result"
    }
   ],
   "source": [
    "pred_K3"
   ]
  },
  {
   "cell_type": "code",
   "execution_count": 454,
   "metadata": {},
   "outputs": [
    {
     "name": "stdout",
     "output_type": "stream",
     "text": [
      "[[750 250   0]\n",
      " [593 407   0]\n",
      " [  0  16 984]]\n"
     ]
    }
   ],
   "source": [
    "from sklearn.metrics import confusion_matrix\n",
    "\n",
    "print(confusion_matrix(y_test_K3, pred_K3))"
   ]
  },
  {
   "cell_type": "code",
   "execution_count": null,
   "metadata": {},
   "outputs": [],
   "source": []
  },
  {
   "cell_type": "markdown",
   "metadata": {},
   "source": [
    "## ROC"
   ]
  },
  {
   "cell_type": "markdown",
   "metadata": {},
   "source": [
    "Source: [Link](https://scikit-learn.org/stable/auto_examples/model_selection/plot_roc.html)"
   ]
  },
  {
   "cell_type": "code",
   "execution_count": 455,
   "metadata": {},
   "outputs": [],
   "source": [
    "from sklearn.preprocessing import label_binarize\n",
    "from sklearn.metrics import roc_auc_score\n",
    "from sklearn.metrics import roc_curve, auc\n",
    "from scipy import interp\n",
    "\n",
    "import numpy as np\n",
    "import matplotlib.pyplot as plt\n",
    "from itertools import cycle"
   ]
  },
  {
   "cell_type": "code",
   "execution_count": 457,
   "metadata": {},
   "outputs": [
    {
     "name": "stderr",
     "output_type": "stream",
     "text": [
      "<ipython-input-457-a7df50c1b8f6>:22: DeprecationWarning: scipy.interp is deprecated and will be removed in SciPy 2.0.0, use numpy.interp instead\n",
      "  mean_tpr += interp(all_fpr, fpr[i], tpr[i])\n"
     ]
    },
    {
     "data": {
      "image/png": "[encoded data removed]",
      "text/plain": [
       "<Figure size 432x288 with 1 Axes>"
      ]
     },
     "metadata": {
      "needs_background": "light"
     },
     "output_type": "display_data"
    }
   ],
   "source": [
    "y_test_K3_bin = label_binarize(y_test_K3, classes=[0, 1, 2])\n",
    "\n",
    "n_classes = 3\n",
    "\n",
    "fpr = dict()\n",
    "tpr = dict()\n",
    "roc_auc = dict()\n",
    "for i in range(n_classes):\n",
    "    fpr[i], tpr[i], _ = roc_curve(y_test_K3_bin[:, i], prob_K3[:, i])\n",
    "    roc_auc[i] = auc(fpr[i], tpr[i])\n",
    "\n",
    "# Compute micro-average ROC curve and ROC area\n",
    "fpr[\"micro\"], tpr[\"micro\"], _ = roc_curve(y_test_K3_bin.ravel(), prob_K3.ravel())\n",
    "roc_auc[\"micro\"] = auc(fpr[\"micro\"], tpr[\"micro\"])\n",
    "\n",
    "# First aggregate all false positive rates\n",
    "all_fpr = np.unique(np.concatenate([fpr[i] for i in range(n_classes)]))\n",
    "\n",
    "# Then interpolate all ROC curves at this points\n",
    "mean_tpr = np.zeros_like(all_fpr)\n",
    "for i in range(n_classes):\n",
    "    mean_tpr += interp(all_fpr, fpr[i], tpr[i])\n",
    "\n",
    "# Finally average it and compute AUC\n",
    "mean_tpr /= n_classes\n",
    "\n",
    "fpr[\"macro\"] = all_fpr\n",
    "tpr[\"macro\"] = mean_tpr\n",
    "roc_auc[\"macro\"] = auc(fpr[\"macro\"], tpr[\"macro\"])\n",
    "\n",
    "# Plot all ROC curves\n",
    "plt.figure()\n",
    "# plt.plot(fpr[\"micro\"], tpr[\"micro\"],\n",
    "#          label='micro-average (area = {0:0.2f})'\n",
    "#                ''.format(roc_auc[\"micro\"]),\n",
    "#          color='deeppink', linestyle=':', linewidth=4)\n",
    "\n",
    "# plt.plot(fpr[\"macro\"], tpr[\"macro\"],\n",
    "#          label='macro-average (area = {0:0.2f})'\n",
    "#                ''.format(roc_auc[\"macro\"]),\n",
    "#          color='navy', linestyle=':', linewidth=4)\n",
    "\n",
    "lw = 2\n",
    "\n",
    "l_types = [\"cortex\",\"medulla\",\"pelvis_calyx\"]\n",
    "\n",
    "colors = cycle(['aqua', 'darkorange', 'cornflowerblue'])\n",
    "for i, type_name, color in zip([1,0,2], l_types, colors):\n",
    "    plt.plot(fpr[i], tpr[i], color=color, lw=lw,\n",
    "             label='{0} (AUC = {1:0.2f})'\n",
    "             ''.format(type_name, roc_auc[i]))\n",
    "\n",
    "\n",
    "    \n",
    "plt.plot([0, 1], [0, 1], 'k--', lw=lw)\n",
    "plt.xlim([0.0, 1.0])\n",
    "plt.ylim([0.0, 1.05])\n",
    "plt.xlabel('1 - Specificity')\n",
    "plt.ylabel('Sensitivity')\n",
    "plt.title('Receiver operating characteristic(ROC) multi-class Testing kidney 3')\n",
    "plt.legend(loc=\"lower right\")\n",
    "plt.savefig(\"./ROC_tests/ROC_kidney3.jpg\", dpi=300)\n",
    "plt.show()"
   ]
  },
  {
   "cell_type": "markdown",
   "metadata": {},
   "source": [
    "# K4 Outer"
   ]
  },
  {
   "cell_type": "code",
   "execution_count": 458,
   "metadata": {},
   "outputs": [],
   "source": [
    "with open('/scratch/paulcalle/kidney_results/summit/archRESNET50_tl_outer_results/pred_val_b_K4_outer.npy', 'rb') as f:\n",
    "    prob_K4 = np.load(f)"
   ]
  },
  {
   "cell_type": "code",
   "execution_count": 459,
   "metadata": {},
   "outputs": [
    {
     "data": {
      "text/plain": [
       "(3000, 3)"
      ]
     },
     "execution_count": 459,
     "metadata": {},
     "output_type": "execute_result"
    }
   ],
   "source": [
    "prob_K4.shape"
   ]
  },
  {
   "cell_type": "code",
   "execution_count": 460,
   "metadata": {},
   "outputs": [
    {
     "data": {
      "text/plain": [
       "array([[9.9806494e-01, 1.9350972e-03, 0.0000000e+00],\n",
       "       [9.9967992e-01, 3.2010442e-04, 0.0000000e+00],\n",
       "       [9.9998176e-01, 1.8270564e-05, 1.3393429e-24],\n",
       "       ...,\n",
       "       [2.6537940e-05, 9.9995673e-01, 1.6743781e-05],\n",
       "       [5.7793892e-04, 9.9942160e-01, 4.7642885e-07],\n",
       "       [1.1549923e-03, 9.9595660e-01, 2.8883864e-03]], dtype=float32)"
      ]
     },
     "execution_count": 460,
     "metadata": {},
     "output_type": "execute_result"
    }
   ],
   "source": [
    "prob_K4"
   ]
  },
  {
   "cell_type": "code",
   "execution_count": 461,
   "metadata": {},
   "outputs": [],
   "source": [
    "pred_K4 = np.argmax(prob_K4, axis=-1)"
   ]
  },
  {
   "cell_type": "code",
   "execution_count": 462,
   "metadata": {},
   "outputs": [
    {
     "data": {
      "text/plain": [
       "array([0, 0, 0, ..., 1, 1, 1])"
      ]
     },
     "execution_count": 462,
     "metadata": {},
     "output_type": "execute_result"
    }
   ],
   "source": [
    "pred_K4"
   ]
  },
  {
   "cell_type": "code",
   "execution_count": 463,
   "metadata": {},
   "outputs": [
    {
     "data": {
      "text/plain": [
       "array([7, 7, 7, ..., 5, 5, 5])"
      ]
     },
     "execution_count": 463,
     "metadata": {},
     "output_type": "execute_result"
    }
   ],
   "source": [
    "a_kidney_num"
   ]
  },
  {
   "cell_type": "code",
   "execution_count": 464,
   "metadata": {},
   "outputs": [],
   "source": [
    "index = 4\n",
    "\n",
    "bool_kidney_test = a_kidney_num == index\n",
    "\n",
    "y_test_K4 = a_label_num[bool_kidney_test]"
   ]
  },
  {
   "cell_type": "code",
   "execution_count": 465,
   "metadata": {},
   "outputs": [
    {
     "data": {
      "text/plain": [
       "array([0, 0, 0, ..., 1, 1, 1])"
      ]
     },
     "execution_count": 465,
     "metadata": {},
     "output_type": "execute_result"
    }
   ],
   "source": [
    "y_test_K4"
   ]
  },
  {
   "cell_type": "code",
   "execution_count": 466,
   "metadata": {},
   "outputs": [
    {
     "data": {
      "text/plain": [
       "(3000,)"
      ]
     },
     "execution_count": 466,
     "metadata": {},
     "output_type": "execute_result"
    }
   ],
   "source": [
    "y_test_K4.shape"
   ]
  },
  {
   "cell_type": "code",
   "execution_count": 467,
   "metadata": {},
   "outputs": [
    {
     "data": {
      "text/plain": [
       "2764"
      ]
     },
     "execution_count": 467,
     "metadata": {},
     "output_type": "execute_result"
    }
   ],
   "source": [
    "np.sum(pred_K4 == y_test_K4)"
   ]
  },
  {
   "cell_type": "code",
   "execution_count": 468,
   "metadata": {},
   "outputs": [
    {
     "data": {
      "text/plain": [
       "array([0, 0, 0, ..., 1, 1, 1])"
      ]
     },
     "execution_count": 468,
     "metadata": {},
     "output_type": "execute_result"
    }
   ],
   "source": [
    "pred_K4"
   ]
  },
  {
   "cell_type": "code",
   "execution_count": 469,
   "metadata": {},
   "outputs": [
    {
     "name": "stdout",
     "output_type": "stream",
     "text": [
      "[[988  12   0]\n",
      " [126 870   4]\n",
      " [ 15  79 906]]\n"
     ]
    }
   ],
   "source": [
    "from sklearn.metrics import confusion_matrix\n",
    "\n",
    "print(confusion_matrix(y_test_K4, pred_K4))"
   ]
  },
  {
   "cell_type": "markdown",
   "metadata": {},
   "source": [
    "## ROC"
   ]
  },
  {
   "cell_type": "markdown",
   "metadata": {},
   "source": [
    "Source: [Link](https://scikit-learn.org/stable/auto_examples/model_selection/plot_roc.html)"
   ]
  },
  {
   "cell_type": "code",
   "execution_count": 470,
   "metadata": {},
   "outputs": [],
   "source": [
    "from sklearn.preprocessing import label_binarize\n",
    "from sklearn.metrics import roc_auc_score\n",
    "from sklearn.metrics import roc_curve, auc\n",
    "from scipy import interp\n",
    "\n",
    "import numpy as np\n",
    "import matplotlib.pyplot as plt\n",
    "from itertools import cycle"
   ]
  },
  {
   "cell_type": "code",
   "execution_count": 471,
   "metadata": {},
   "outputs": [
    {
     "name": "stderr",
     "output_type": "stream",
     "text": [
      "<ipython-input-471-6353a8204f42>:22: DeprecationWarning: scipy.interp is deprecated and will be removed in SciPy 2.0.0, use numpy.interp instead\n",
      "  mean_tpr += interp(all_fpr, fpr[i], tpr[i])\n"
     ]
    },
    {
     "data": {
      "image/png": "[encoded data removed]",
      "text/plain": [
       "<Figure size 432x288 with 1 Axes>"
      ]
     },
     "metadata": {
      "needs_background": "light"
     },
     "output_type": "display_data"
    }
   ],
   "source": [
    "y_test_K4_bin = label_binarize(y_test_K4, classes=[0, 1, 2])\n",
    "\n",
    "n_classes = 3\n",
    "\n",
    "fpr = dict()\n",
    "tpr = dict()\n",
    "roc_auc = dict()\n",
    "for i in range(n_classes):\n",
    "    fpr[i], tpr[i], _ = roc_curve(y_test_K4_bin[:, i], prob_K4[:, i])\n",
    "    roc_auc[i] = auc(fpr[i], tpr[i])\n",
    "\n",
    "# Compute micro-average ROC curve and ROC area\n",
    "fpr[\"micro\"], tpr[\"micro\"], _ = roc_curve(y_test_K4_bin.ravel(), prob_K4.ravel())\n",
    "roc_auc[\"micro\"] = auc(fpr[\"micro\"], tpr[\"micro\"])\n",
    "\n",
    "# First aggregate all false positive rates\n",
    "all_fpr = np.unique(np.concatenate([fpr[i] for i in range(n_classes)]))\n",
    "\n",
    "# Then interpolate all ROC curves at this points\n",
    "mean_tpr = np.zeros_like(all_fpr)\n",
    "for i in range(n_classes):\n",
    "    mean_tpr += interp(all_fpr, fpr[i], tpr[i])\n",
    "\n",
    "# Finally average it and compute AUC\n",
    "mean_tpr /= n_classes\n",
    "\n",
    "fpr[\"macro\"] = all_fpr\n",
    "tpr[\"macro\"] = mean_tpr\n",
    "roc_auc[\"macro\"] = auc(fpr[\"macro\"], tpr[\"macro\"])\n",
    "\n",
    "# Plot all ROC curves\n",
    "plt.figure()\n",
    "# plt.plot(fpr[\"micro\"], tpr[\"micro\"],\n",
    "#          label='micro-average (area = {0:0.2f})'\n",
    "#                ''.format(roc_auc[\"micro\"]),\n",
    "#          color='deeppink', linestyle=':', linewidth=4)\n",
    "\n",
    "# plt.plot(fpr[\"macro\"], tpr[\"macro\"],\n",
    "#          label='macro-average (area = {0:0.2f})'\n",
    "#                ''.format(roc_auc[\"macro\"]),\n",
    "#          color='navy', linestyle=':', linewidth=4)\n",
    "\n",
    "lw = 2\n",
    "\n",
    "l_types = [\"cortex\",\"medulla\",\"calyx\"]\n",
    "\n",
    "colors = cycle(['aqua', 'darkorange', 'cornflowerblue'])\n",
    "for i, type_name, color in zip([1,0,2], l_types, colors):\n",
    "    plt.plot(fpr[i], tpr[i], color=color, lw=lw,\n",
    "             label='{0} (AUC = {1:0.2f})'\n",
    "             ''.format(type_name, roc_auc[i]))\n",
    "\n",
    "\n",
    "    \n",
    "plt.plot([0, 1], [0, 1], 'k--', lw=lw)\n",
    "plt.xlim([0.0, 1.0])\n",
    "plt.ylim([0.0, 1.05])\n",
    "plt.xlabel('1 - Specificity')\n",
    "plt.ylabel('Sensitivity')\n",
    "plt.title('Receiver operating characteristic(ROC) multi-class Testing kidney 4')\n",
    "plt.legend(loc=\"lower right\")\n",
    "plt.savefig(\"./ROC_tests/ROC_kidney4.jpg\", dpi=300)\n",
    "plt.show()"
   ]
  },
  {
   "cell_type": "markdown",
   "metadata": {},
   "source": [
    "# K5 Outer"
   ]
  },
  {
   "cell_type": "code",
   "execution_count": 472,
   "metadata": {},
   "outputs": [],
   "source": [
    "with open('/scratch/paulcalle/kidney_results/summit/archRESNET50_outer_results/pred_val_K5_outer.npy', 'rb') as f:\n",
    "    prob_K5 = np.load(f)"
   ]
  },
  {
   "cell_type": "code",
   "execution_count": 473,
   "metadata": {},
   "outputs": [
    {
     "data": {
      "text/plain": [
       "(3000, 3)"
      ]
     },
     "execution_count": 473,
     "metadata": {},
     "output_type": "execute_result"
    }
   ],
   "source": [
    "prob_K5.shape"
   ]
  },
  {
   "cell_type": "code",
   "execution_count": 474,
   "metadata": {},
   "outputs": [
    {
     "data": {
      "text/plain": [
       "array([[1.6828976e-03, 9.9547148e-01, 2.8456778e-03],\n",
       "       [4.1313036e-04, 9.9840075e-01, 1.1861153e-03],\n",
       "       [9.2473095e-03, 9.9032283e-01, 4.2979317e-04],\n",
       "       ...,\n",
       "       [9.9999142e-01, 8.5895217e-06, 3.0928919e-13],\n",
       "       [9.9999988e-01, 1.2610951e-07, 4.4409463e-15],\n",
       "       [1.0000000e+00, 6.9750372e-10, 2.1226329e-18]], dtype=float32)"
      ]
     },
     "execution_count": 474,
     "metadata": {},
     "output_type": "execute_result"
    }
   ],
   "source": [
    "prob_K5"
   ]
  },
  {
   "cell_type": "code",
   "execution_count": 475,
   "metadata": {},
   "outputs": [],
   "source": [
    "pred_K5 = np.argmax(prob_K5, axis=-1)"
   ]
  },
  {
   "cell_type": "code",
   "execution_count": 476,
   "metadata": {},
   "outputs": [
    {
     "data": {
      "text/plain": [
       "array([1, 1, 1, ..., 0, 0, 0])"
      ]
     },
     "execution_count": 476,
     "metadata": {},
     "output_type": "execute_result"
    }
   ],
   "source": [
    "pred_K5"
   ]
  },
  {
   "cell_type": "code",
   "execution_count": 477,
   "metadata": {},
   "outputs": [
    {
     "data": {
      "text/plain": [
       "array([7, 7, 7, ..., 5, 5, 5])"
      ]
     },
     "execution_count": 477,
     "metadata": {},
     "output_type": "execute_result"
    }
   ],
   "source": [
    "a_kidney_num"
   ]
  },
  {
   "cell_type": "code",
   "execution_count": 478,
   "metadata": {},
   "outputs": [],
   "source": [
    "index = 5\n",
    "\n",
    "bool_kidney_test = a_kidney_num == index\n",
    "\n",
    "y_test_K5 = a_label_num[bool_kidney_test]"
   ]
  },
  {
   "cell_type": "code",
   "execution_count": 479,
   "metadata": {},
   "outputs": [
    {
     "data": {
      "text/plain": [
       "array([1, 1, 1, ..., 0, 0, 0])"
      ]
     },
     "execution_count": 479,
     "metadata": {},
     "output_type": "execute_result"
    }
   ],
   "source": [
    "y_test_K5"
   ]
  },
  {
   "cell_type": "code",
   "execution_count": 480,
   "metadata": {},
   "outputs": [
    {
     "data": {
      "text/plain": [
       "(3000,)"
      ]
     },
     "execution_count": 480,
     "metadata": {},
     "output_type": "execute_result"
    }
   ],
   "source": [
    "y_test_K5.shape"
   ]
  },
  {
   "cell_type": "code",
   "execution_count": 481,
   "metadata": {},
   "outputs": [
    {
     "data": {
      "text/plain": [
       "2796"
      ]
     },
     "execution_count": 481,
     "metadata": {},
     "output_type": "execute_result"
    }
   ],
   "source": [
    "np.sum(pred_K5 == y_test_K5)"
   ]
  },
  {
   "cell_type": "code",
   "execution_count": 482,
   "metadata": {},
   "outputs": [
    {
     "data": {
      "text/plain": [
       "array([1, 1, 1, ..., 0, 0, 0])"
      ]
     },
     "execution_count": 482,
     "metadata": {},
     "output_type": "execute_result"
    }
   ],
   "source": [
    "pred_K5"
   ]
  },
  {
   "cell_type": "code",
   "execution_count": 483,
   "metadata": {},
   "outputs": [
    {
     "name": "stdout",
     "output_type": "stream",
     "text": [
      "[[998   2   0]\n",
      " [ 26 953  21]\n",
      " [  0 155 845]]\n"
     ]
    }
   ],
   "source": [
    "from sklearn.metrics import confusion_matrix\n",
    "\n",
    "print(confusion_matrix(y_test_K5, pred_K5))"
   ]
  },
  {
   "cell_type": "markdown",
   "metadata": {},
   "source": [
    "## ROC"
   ]
  },
  {
   "cell_type": "markdown",
   "metadata": {},
   "source": [
    "Source: [Link](https://scikit-learn.org/stable/auto_examples/model_selection/plot_roc.html)"
   ]
  },
  {
   "cell_type": "code",
   "execution_count": 484,
   "metadata": {},
   "outputs": [],
   "source": [
    "from sklearn.preprocessing import label_binarize\n",
    "from sklearn.metrics import roc_auc_score\n",
    "from sklearn.metrics import roc_curve, auc\n",
    "from scipy import interp\n",
    "\n",
    "import numpy as np\n",
    "import matplotlib.pyplot as plt\n",
    "from itertools import cycle"
   ]
  },
  {
   "cell_type": "code",
   "execution_count": 485,
   "metadata": {},
   "outputs": [
    {
     "data": {
      "text/plain": [
       "array([[1.6828976e-03, 9.9547148e-01, 2.8456778e-03],\n",
       "       [4.1313036e-04, 9.9840075e-01, 1.1861153e-03],\n",
       "       [9.2473095e-03, 9.9032283e-01, 4.2979317e-04],\n",
       "       ...,\n",
       "       [9.9999142e-01, 8.5895217e-06, 3.0928919e-13],\n",
       "       [9.9999988e-01, 1.2610951e-07, 4.4409463e-15],\n",
       "       [1.0000000e+00, 6.9750372e-10, 2.1226329e-18]], dtype=float32)"
      ]
     },
     "execution_count": 485,
     "metadata": {},
     "output_type": "execute_result"
    }
   ],
   "source": [
    "prob_K5"
   ]
  },
  {
   "cell_type": "code",
   "execution_count": 486,
   "metadata": {},
   "outputs": [
    {
     "data": {
      "text/plain": [
       "array([1.6828976e-03, 9.9547148e-01, 2.8456778e-03, ..., 1.0000000e+00,\n",
       "       6.9750372e-10, 2.1226329e-18], dtype=float32)"
      ]
     },
     "execution_count": 486,
     "metadata": {},
     "output_type": "execute_result"
    }
   ],
   "source": [
    "prob_K5.ravel()"
   ]
  },
  {
   "cell_type": "code",
   "execution_count": 487,
   "metadata": {},
   "outputs": [
    {
     "data": {
      "text/plain": [
       "array([0.00000000e+00, 0.00000000e+00, 0.00000000e+00, 0.00000000e+00,\n",
       "       0.00000000e+00, 0.00000000e+00, 0.00000000e+00, 0.00000000e+00,\n",
       "       0.00000000e+00, 0.00000000e+00, 0.00000000e+00, 0.00000000e+00,\n",
       "       0.00000000e+00, 0.00000000e+00, 0.00000000e+00, 0.00000000e+00,\n",
       "       0.00000000e+00, 0.00000000e+00, 0.00000000e+00, 0.00000000e+00,\n",
       "       0.00000000e+00, 0.00000000e+00, 0.00000000e+00, 0.00000000e+00,\n",
       "       0.00000000e+00, 0.00000000e+00, 0.00000000e+00, 0.00000000e+00,\n",
       "       0.00000000e+00, 0.00000000e+00, 0.00000000e+00, 0.00000000e+00,\n",
       "       0.00000000e+00, 0.00000000e+00, 0.00000000e+00, 0.00000000e+00,\n",
       "       0.00000000e+00, 0.00000000e+00, 0.00000000e+00, 0.00000000e+00,\n",
       "       0.00000000e+00, 0.00000000e+00, 0.00000000e+00, 0.00000000e+00,\n",
       "       0.00000000e+00, 0.00000000e+00, 0.00000000e+00, 0.00000000e+00,\n",
       "       0.00000000e+00, 0.00000000e+00, 0.00000000e+00, 0.00000000e+00,\n",
       "       0.00000000e+00, 0.00000000e+00, 0.00000000e+00, 0.00000000e+00,\n",
       "       0.00000000e+00, 0.00000000e+00, 0.00000000e+00, 0.00000000e+00,\n",
       "       0.00000000e+00, 0.00000000e+00, 0.00000000e+00, 0.00000000e+00,\n",
       "       0.00000000e+00, 0.00000000e+00, 0.00000000e+00, 0.00000000e+00,\n",
       "       0.00000000e+00, 0.00000000e+00, 0.00000000e+00, 0.00000000e+00,\n",
       "       0.00000000e+00, 0.00000000e+00, 0.00000000e+00, 0.00000000e+00,\n",
       "       0.00000000e+00, 0.00000000e+00, 0.00000000e+00, 0.00000000e+00,\n",
       "       0.00000000e+00, 0.00000000e+00, 0.00000000e+00, 0.00000000e+00,\n",
       "       0.00000000e+00, 0.00000000e+00, 0.00000000e+00, 0.00000000e+00,\n",
       "       0.00000000e+00, 0.00000000e+00, 0.00000000e+00, 0.00000000e+00,\n",
       "       0.00000000e+00, 0.00000000e+00, 0.00000000e+00, 0.00000000e+00,\n",
       "       0.00000000e+00, 0.00000000e+00, 0.00000000e+00, 0.00000000e+00,\n",
       "       0.00000000e+00, 0.00000000e+00, 0.00000000e+00, 0.00000000e+00,\n",
       "       0.00000000e+00, 0.00000000e+00, 0.00000000e+00, 0.00000000e+00,\n",
       "       0.00000000e+00, 0.00000000e+00, 0.00000000e+00, 0.00000000e+00,\n",
       "       0.00000000e+00, 0.00000000e+00, 0.00000000e+00, 0.00000000e+00,\n",
       "       0.00000000e+00, 0.00000000e+00, 0.00000000e+00, 0.00000000e+00,\n",
       "       0.00000000e+00, 0.00000000e+00, 0.00000000e+00, 0.00000000e+00,\n",
       "       0.00000000e+00, 0.00000000e+00, 0.00000000e+00, 0.00000000e+00,\n",
       "       0.00000000e+00, 0.00000000e+00, 0.00000000e+00, 0.00000000e+00,\n",
       "       0.00000000e+00, 0.00000000e+00, 0.00000000e+00, 0.00000000e+00,\n",
       "       0.00000000e+00, 0.00000000e+00, 0.00000000e+00, 0.00000000e+00,\n",
       "       0.00000000e+00, 0.00000000e+00, 0.00000000e+00, 0.00000000e+00,\n",
       "       0.00000000e+00, 0.00000000e+00, 0.00000000e+00, 0.00000000e+00,\n",
       "       0.00000000e+00, 0.00000000e+00, 0.00000000e+00, 0.00000000e+00,\n",
       "       0.00000000e+00, 0.00000000e+00, 0.00000000e+00, 0.00000000e+00,\n",
       "       0.00000000e+00, 0.00000000e+00, 0.00000000e+00, 0.00000000e+00,\n",
       "       0.00000000e+00, 0.00000000e+00, 0.00000000e+00, 0.00000000e+00,\n",
       "       0.00000000e+00, 0.00000000e+00, 0.00000000e+00, 0.00000000e+00,\n",
       "       0.00000000e+00, 0.00000000e+00, 0.00000000e+00, 0.00000000e+00,\n",
       "       0.00000000e+00, 0.00000000e+00, 0.00000000e+00, 0.00000000e+00,\n",
       "       0.00000000e+00, 0.00000000e+00, 0.00000000e+00, 0.00000000e+00,\n",
       "       0.00000000e+00, 0.00000000e+00, 0.00000000e+00, 0.00000000e+00,\n",
       "       0.00000000e+00, 0.00000000e+00, 0.00000000e+00, 0.00000000e+00,\n",
       "       0.00000000e+00, 0.00000000e+00, 0.00000000e+00, 0.00000000e+00,\n",
       "       0.00000000e+00, 0.00000000e+00, 0.00000000e+00, 0.00000000e+00,\n",
       "       0.00000000e+00, 0.00000000e+00, 0.00000000e+00, 0.00000000e+00,\n",
       "       0.00000000e+00, 0.00000000e+00, 0.00000000e+00, 0.00000000e+00,\n",
       "       0.00000000e+00, 0.00000000e+00, 0.00000000e+00, 0.00000000e+00,\n",
       "       0.00000000e+00, 0.00000000e+00, 0.00000000e+00, 0.00000000e+00,\n",
       "       0.00000000e+00, 0.00000000e+00, 0.00000000e+00, 0.00000000e+00,\n",
       "       0.00000000e+00, 0.00000000e+00, 0.00000000e+00, 0.00000000e+00,\n",
       "       0.00000000e+00, 0.00000000e+00, 0.00000000e+00, 0.00000000e+00,\n",
       "       0.00000000e+00, 0.00000000e+00, 0.00000000e+00, 0.00000000e+00,\n",
       "       0.00000000e+00, 0.00000000e+00, 0.00000000e+00, 0.00000000e+00,\n",
       "       0.00000000e+00, 0.00000000e+00, 0.00000000e+00, 0.00000000e+00,\n",
       "       0.00000000e+00, 0.00000000e+00, 0.00000000e+00, 0.00000000e+00,\n",
       "       0.00000000e+00, 0.00000000e+00, 0.00000000e+00, 0.00000000e+00,\n",
       "       0.00000000e+00, 0.00000000e+00, 0.00000000e+00, 0.00000000e+00,\n",
       "       0.00000000e+00, 0.00000000e+00, 0.00000000e+00, 0.00000000e+00,\n",
       "       0.00000000e+00, 0.00000000e+00, 0.00000000e+00, 0.00000000e+00,\n",
       "       0.00000000e+00, 0.00000000e+00, 0.00000000e+00, 0.00000000e+00,\n",
       "       0.00000000e+00, 0.00000000e+00, 0.00000000e+00, 0.00000000e+00,\n",
       "       0.00000000e+00, 0.00000000e+00, 0.00000000e+00, 0.00000000e+00,\n",
       "       0.00000000e+00, 1.66666667e-04, 1.66666667e-04, 3.33333333e-04,\n",
       "       3.33333333e-04, 6.66666667e-04, 6.66666667e-04, 8.33333333e-04,\n",
       "       8.33333333e-04, 1.00000000e-03, 1.00000000e-03, 1.16666667e-03,\n",
       "       1.16666667e-03, 1.33333333e-03, 1.33333333e-03, 1.50000000e-03,\n",
       "       1.50000000e-03, 1.66666667e-03, 1.66666667e-03, 1.83333333e-03,\n",
       "       1.83333333e-03, 2.00000000e-03, 2.00000000e-03, 2.16666667e-03,\n",
       "       2.16666667e-03, 2.33333333e-03, 2.33333333e-03, 2.50000000e-03,\n",
       "       2.50000000e-03, 2.66666667e-03, 2.66666667e-03, 2.83333333e-03,\n",
       "       2.83333333e-03, 3.00000000e-03, 3.00000000e-03, 3.16666667e-03,\n",
       "       3.16666667e-03, 3.33333333e-03, 3.33333333e-03, 3.50000000e-03,\n",
       "       3.50000000e-03, 3.66666667e-03, 3.66666667e-03, 3.83333333e-03,\n",
       "       3.83333333e-03, 4.00000000e-03, 4.00000000e-03, 4.16666667e-03,\n",
       "       4.16666667e-03, 4.33333333e-03, 4.33333333e-03, 4.50000000e-03,\n",
       "       4.50000000e-03, 4.83333333e-03, 4.83333333e-03, 5.00000000e-03,\n",
       "       5.00000000e-03, 5.33333333e-03, 5.33333333e-03, 5.50000000e-03,\n",
       "       5.50000000e-03, 5.66666667e-03, 5.66666667e-03, 5.83333333e-03,\n",
       "       5.83333333e-03, 6.00000000e-03, 6.00000000e-03, 6.16666667e-03,\n",
       "       6.16666667e-03, 6.33333333e-03, 6.33333333e-03, 6.50000000e-03,\n",
       "       6.50000000e-03, 6.66666667e-03, 6.66666667e-03, 6.83333333e-03,\n",
       "       6.83333333e-03, 7.00000000e-03, 7.00000000e-03, 7.16666667e-03,\n",
       "       7.16666667e-03, 7.33333333e-03, 7.33333333e-03, 7.50000000e-03,\n",
       "       7.50000000e-03, 7.83333333e-03, 7.83333333e-03, 8.00000000e-03,\n",
       "       8.00000000e-03, 8.16666667e-03, 8.16666667e-03, 8.33333333e-03,\n",
       "       8.33333333e-03, 8.83333333e-03, 8.83333333e-03, 9.00000000e-03,\n",
       "       9.00000000e-03, 9.16666667e-03, 9.16666667e-03, 9.33333333e-03,\n",
       "       9.33333333e-03, 9.66666667e-03, 9.66666667e-03, 9.83333333e-03,\n",
       "       9.83333333e-03, 1.00000000e-02, 1.00000000e-02, 1.01666667e-02,\n",
       "       1.01666667e-02, 1.03333333e-02, 1.03333333e-02, 1.05000000e-02,\n",
       "       1.05000000e-02, 1.08333333e-02, 1.08333333e-02, 1.10000000e-02,\n",
       "       1.10000000e-02, 1.13333333e-02, 1.13333333e-02, 1.15000000e-02,\n",
       "       1.15000000e-02, 1.16666667e-02, 1.16666667e-02, 1.18333333e-02,\n",
       "       1.18333333e-02, 1.20000000e-02, 1.20000000e-02, 1.21666667e-02,\n",
       "       1.21666667e-02, 1.26666667e-02, 1.26666667e-02, 1.30000000e-02,\n",
       "       1.30000000e-02, 1.31666667e-02, 1.31666667e-02, 1.33333333e-02,\n",
       "       1.33333333e-02, 1.36666667e-02, 1.36666667e-02, 1.38333333e-02,\n",
       "       1.38333333e-02, 1.41666667e-02, 1.41666667e-02, 1.43333333e-02,\n",
       "       1.43333333e-02, 1.45000000e-02, 1.45000000e-02, 1.46666667e-02,\n",
       "       1.46666667e-02, 1.48333333e-02, 1.48333333e-02, 1.50000000e-02,\n",
       "       1.50000000e-02, 1.51666667e-02, 1.51666667e-02, 1.53333333e-02,\n",
       "       1.53333333e-02, 1.55000000e-02, 1.55000000e-02, 1.56666667e-02,\n",
       "       1.56666667e-02, 1.58333333e-02, 1.58333333e-02, 1.60000000e-02,\n",
       "       1.60000000e-02, 1.63333333e-02, 1.63333333e-02, 1.65000000e-02,\n",
       "       1.65000000e-02, 1.68333333e-02, 1.68333333e-02, 1.70000000e-02,\n",
       "       1.70000000e-02, 1.73333333e-02, 1.73333333e-02, 1.78333333e-02,\n",
       "       1.78333333e-02, 1.81666667e-02, 1.81666667e-02, 1.86666667e-02,\n",
       "       1.86666667e-02, 1.88333333e-02, 1.88333333e-02, 1.90000000e-02,\n",
       "       1.90000000e-02, 1.91666667e-02, 1.91666667e-02, 1.93333333e-02,\n",
       "       1.93333333e-02, 1.95000000e-02, 1.95000000e-02, 1.96666667e-02,\n",
       "       1.96666667e-02, 1.98333333e-02, 1.98333333e-02, 2.00000000e-02,\n",
       "       2.00000000e-02, 2.03333333e-02, 2.03333333e-02, 2.05000000e-02,\n",
       "       2.05000000e-02, 2.08333333e-02, 2.08333333e-02, 2.10000000e-02,\n",
       "       2.10000000e-02, 2.11666667e-02, 2.11666667e-02, 2.13333333e-02,\n",
       "       2.13333333e-02, 2.15000000e-02, 2.15000000e-02, 2.16666667e-02,\n",
       "       2.16666667e-02, 2.18333333e-02, 2.18333333e-02, 2.20000000e-02,\n",
       "       2.20000000e-02, 2.23333333e-02, 2.23333333e-02, 2.26666667e-02,\n",
       "       2.26666667e-02, 2.30000000e-02, 2.30000000e-02, 2.31666667e-02,\n",
       "       2.31666667e-02, 2.33333333e-02, 2.33333333e-02, 2.35000000e-02,\n",
       "       2.35000000e-02, 2.36666667e-02, 2.36666667e-02, 2.38333333e-02,\n",
       "       2.38333333e-02, 2.40000000e-02, 2.40000000e-02, 2.41666667e-02,\n",
       "       2.41666667e-02, 2.45000000e-02, 2.45000000e-02, 2.50000000e-02,\n",
       "       2.50000000e-02, 2.51666667e-02, 2.51666667e-02, 2.53333333e-02,\n",
       "       2.53333333e-02, 2.56666667e-02, 2.56666667e-02, 2.58333333e-02,\n",
       "       2.58333333e-02, 2.61666667e-02, 2.61666667e-02, 2.63333333e-02,\n",
       "       2.63333333e-02, 2.65000000e-02, 2.65000000e-02, 2.70000000e-02,\n",
       "       2.70000000e-02, 2.71666667e-02, 2.71666667e-02, 2.75000000e-02,\n",
       "       2.75000000e-02, 2.76666667e-02, 2.76666667e-02, 2.78333333e-02,\n",
       "       2.78333333e-02, 2.83333333e-02, 2.83333333e-02, 2.85000000e-02,\n",
       "       2.85000000e-02, 2.88333333e-02, 2.88333333e-02, 2.90000000e-02,\n",
       "       2.90000000e-02, 2.91666667e-02, 2.91666667e-02, 2.93333333e-02,\n",
       "       2.93333333e-02, 2.95000000e-02, 2.95000000e-02, 2.96666667e-02,\n",
       "       2.96666667e-02, 3.00000000e-02, 3.00000000e-02, 3.06666667e-02,\n",
       "       3.06666667e-02, 3.08333333e-02, 3.08333333e-02, 3.15000000e-02,\n",
       "       3.15000000e-02, 3.18333333e-02, 3.18333333e-02, 3.20000000e-02,\n",
       "       3.20000000e-02, 3.21666667e-02, 3.21666667e-02, 3.25000000e-02,\n",
       "       3.25000000e-02, 3.26666667e-02, 3.26666667e-02, 3.30000000e-02,\n",
       "       3.30000000e-02, 3.31666667e-02, 3.31666667e-02, 3.36666667e-02,\n",
       "       3.36666667e-02, 3.41666667e-02, 3.41666667e-02, 3.43333333e-02,\n",
       "       3.43333333e-02, 3.46666667e-02, 3.46666667e-02, 3.48333333e-02,\n",
       "       3.48333333e-02, 3.50000000e-02, 3.50000000e-02, 3.51666667e-02,\n",
       "       3.51666667e-02, 3.55000000e-02, 3.55000000e-02, 3.60000000e-02,\n",
       "       3.60000000e-02, 3.61666667e-02, 3.61666667e-02, 3.71666667e-02,\n",
       "       3.71666667e-02, 3.75000000e-02, 3.75000000e-02, 3.76666667e-02,\n",
       "       3.76666667e-02, 3.83333333e-02, 3.83333333e-02, 3.95000000e-02,\n",
       "       3.95000000e-02, 3.96666667e-02, 3.96666667e-02, 3.98333333e-02,\n",
       "       3.98333333e-02, 4.00000000e-02, 4.00000000e-02, 4.01666667e-02,\n",
       "       4.01666667e-02, 4.03333333e-02, 4.03333333e-02, 4.05000000e-02,\n",
       "       4.05000000e-02, 4.08333333e-02, 4.08333333e-02, 4.10000000e-02,\n",
       "       4.10000000e-02, 4.13333333e-02, 4.13333333e-02, 4.15000000e-02,\n",
       "       4.15000000e-02, 4.18333333e-02, 4.18333333e-02, 4.30000000e-02,\n",
       "       4.30000000e-02, 4.33333333e-02, 4.33333333e-02, 4.35000000e-02,\n",
       "       4.35000000e-02, 4.38333333e-02, 4.38333333e-02, 4.41666667e-02,\n",
       "       4.41666667e-02, 4.45000000e-02, 4.45000000e-02, 4.46666667e-02,\n",
       "       4.46666667e-02, 4.48333333e-02, 4.48333333e-02, 4.56666667e-02,\n",
       "       4.56666667e-02, 4.61666667e-02, 4.61666667e-02, 4.65000000e-02,\n",
       "       4.65000000e-02, 4.68333333e-02, 4.68333333e-02, 4.75000000e-02,\n",
       "       4.75000000e-02, 4.80000000e-02, 4.80000000e-02, 4.86666667e-02,\n",
       "       4.86666667e-02, 4.90000000e-02, 4.90000000e-02, 5.01666667e-02,\n",
       "       5.01666667e-02, 5.08333333e-02, 5.08333333e-02, 5.11666667e-02,\n",
       "       5.11666667e-02, 5.15000000e-02, 5.15000000e-02, 5.21666667e-02,\n",
       "       5.21666667e-02, 5.23333333e-02, 5.23333333e-02, 5.31666667e-02,\n",
       "       5.31666667e-02, 5.33333333e-02, 5.33333333e-02, 5.46666667e-02,\n",
       "       5.46666667e-02, 5.53333333e-02, 5.53333333e-02, 5.80000000e-02,\n",
       "       5.80000000e-02, 5.86666667e-02, 5.86666667e-02, 5.96666667e-02,\n",
       "       5.96666667e-02, 6.00000000e-02, 6.00000000e-02, 6.06666667e-02,\n",
       "       6.06666667e-02, 6.08333333e-02, 6.08333333e-02, 6.25000000e-02,\n",
       "       6.25000000e-02, 6.28333333e-02, 6.28333333e-02, 6.40000000e-02,\n",
       "       6.40000000e-02, 6.41666667e-02, 6.41666667e-02, 6.46666667e-02,\n",
       "       6.46666667e-02, 6.50000000e-02, 6.50000000e-02, 6.61666667e-02,\n",
       "       6.61666667e-02, 6.70000000e-02, 6.70000000e-02, 6.76666667e-02,\n",
       "       6.76666667e-02, 6.96666667e-02, 6.96666667e-02, 7.01666667e-02,\n",
       "       7.01666667e-02, 7.20000000e-02, 7.20000000e-02, 7.35000000e-02,\n",
       "       7.35000000e-02, 7.40000000e-02, 7.40000000e-02, 7.55000000e-02,\n",
       "       7.55000000e-02, 7.58333333e-02, 7.58333333e-02, 7.66666667e-02,\n",
       "       7.66666667e-02, 7.80000000e-02, 7.80000000e-02, 7.81666667e-02,\n",
       "       7.81666667e-02, 7.88333333e-02, 7.88333333e-02, 7.91666667e-02,\n",
       "       7.91666667e-02, 8.00000000e-02, 8.00000000e-02, 8.01666667e-02,\n",
       "       8.01666667e-02, 8.05000000e-02, 8.05000000e-02, 8.11666667e-02,\n",
       "       8.11666667e-02, 8.16666667e-02, 8.16666667e-02, 8.21666667e-02,\n",
       "       8.21666667e-02, 8.25000000e-02, 8.25000000e-02, 8.28333333e-02,\n",
       "       8.28333333e-02, 8.30000000e-02, 8.30000000e-02, 8.45000000e-02,\n",
       "       8.45000000e-02, 8.46666667e-02, 8.46666667e-02, 8.53333333e-02,\n",
       "       8.53333333e-02, 8.63333333e-02, 8.63333333e-02, 8.65000000e-02,\n",
       "       8.65000000e-02, 8.68333333e-02, 8.68333333e-02, 8.70000000e-02,\n",
       "       8.70000000e-02, 8.83333333e-02, 8.83333333e-02, 8.88333333e-02,\n",
       "       8.88333333e-02, 8.95000000e-02, 8.95000000e-02, 8.96666667e-02,\n",
       "       8.96666667e-02, 8.98333333e-02, 8.98333333e-02, 9.03333333e-02,\n",
       "       9.03333333e-02, 9.05000000e-02, 9.05000000e-02, 9.35000000e-02,\n",
       "       9.35000000e-02, 9.43333333e-02, 9.43333333e-02, 9.48333333e-02,\n",
       "       9.48333333e-02, 9.51666667e-02, 9.51666667e-02, 9.53333333e-02,\n",
       "       9.53333333e-02, 9.55000000e-02, 9.55000000e-02, 9.56666667e-02,\n",
       "       9.56666667e-02, 9.60000000e-02, 9.60000000e-02, 9.66666667e-02,\n",
       "       9.66666667e-02, 9.70000000e-02, 9.70000000e-02, 9.75000000e-02,\n",
       "       9.75000000e-02, 9.78333333e-02, 9.78333333e-02, 9.80000000e-02,\n",
       "       9.80000000e-02, 9.91666667e-02, 9.91666667e-02, 9.98333333e-02,\n",
       "       9.98333333e-02, 1.00000000e-01, 1.00000000e-01, 1.00166667e-01,\n",
       "       1.00166667e-01, 1.02000000e-01, 1.02000000e-01, 1.05333333e-01,\n",
       "       1.05333333e-01, 1.07166667e-01, 1.07166667e-01, 1.07833333e-01,\n",
       "       1.07833333e-01, 1.08000000e-01, 1.08000000e-01, 1.12500000e-01,\n",
       "       1.12500000e-01, 1.12666667e-01, 1.12666667e-01, 1.14333333e-01,\n",
       "       1.14333333e-01, 1.15833333e-01, 1.15833333e-01, 1.16000000e-01,\n",
       "       1.16000000e-01, 1.16333333e-01, 1.16333333e-01, 1.17000000e-01,\n",
       "       1.17000000e-01, 1.17666667e-01, 1.17666667e-01, 1.19833333e-01,\n",
       "       1.19833333e-01, 1.20833333e-01, 1.20833333e-01, 1.21666667e-01,\n",
       "       1.21666667e-01, 1.21833333e-01, 1.21833333e-01, 1.22333333e-01,\n",
       "       1.22333333e-01, 1.24500000e-01, 1.24500000e-01, 1.25000000e-01,\n",
       "       1.25000000e-01, 1.25166667e-01, 1.25166667e-01, 1.31000000e-01,\n",
       "       1.31000000e-01, 1.31333333e-01, 1.31333333e-01, 1.33000000e-01,\n",
       "       1.33000000e-01, 1.33500000e-01, 1.33500000e-01, 1.35500000e-01,\n",
       "       1.35500000e-01, 1.36000000e-01, 1.36000000e-01, 1.36166667e-01,\n",
       "       1.36166667e-01, 1.37500000e-01, 1.37500000e-01, 1.38666667e-01,\n",
       "       1.38666667e-01, 1.38833333e-01, 1.38833333e-01, 1.40666667e-01,\n",
       "       1.40666667e-01, 1.41333333e-01, 1.41333333e-01, 1.46000000e-01,\n",
       "       1.46000000e-01, 1.48833333e-01, 1.48833333e-01, 1.50000000e-01,\n",
       "       1.50000000e-01, 1.50166667e-01, 1.50166667e-01, 1.51666667e-01,\n",
       "       1.51666667e-01, 1.51833333e-01, 1.51833333e-01, 1.55000000e-01,\n",
       "       1.55000000e-01, 1.57333333e-01, 1.57333333e-01, 1.57666667e-01,\n",
       "       1.57666667e-01, 1.58000000e-01, 1.58000000e-01, 1.61833333e-01,\n",
       "       1.61833333e-01, 1.62000000e-01, 1.62000000e-01, 1.62166667e-01,\n",
       "       1.62166667e-01, 1.68166667e-01, 1.68166667e-01, 1.68666667e-01,\n",
       "       1.68666667e-01, 1.69166667e-01, 1.69166667e-01, 1.71333333e-01,\n",
       "       1.71333333e-01, 1.74833333e-01, 1.74833333e-01, 1.75000000e-01,\n",
       "       1.75000000e-01, 1.76166667e-01, 1.76166667e-01, 1.79666667e-01,\n",
       "       1.79666667e-01, 1.80333333e-01, 1.80333333e-01, 1.81166667e-01,\n",
       "       1.81166667e-01, 1.81500000e-01, 1.81500000e-01, 1.95333333e-01,\n",
       "       1.95333333e-01, 1.98000000e-01, 1.98000000e-01, 1.99000000e-01,\n",
       "       1.99000000e-01, 2.01500000e-01, 2.01500000e-01, 2.01666667e-01,\n",
       "       2.01666667e-01, 2.06000000e-01, 2.06000000e-01, 2.15000000e-01,\n",
       "       2.15000000e-01, 2.15166667e-01, 2.15166667e-01, 2.16333333e-01,\n",
       "       2.16333333e-01, 2.18833333e-01, 2.18833333e-01, 2.20166667e-01,\n",
       "       2.20166667e-01, 2.37166667e-01, 2.37166667e-01, 2.43166667e-01,\n",
       "       2.43166667e-01, 8.74333333e-01, 1.00000000e+00])"
      ]
     },
     "execution_count": 487,
     "metadata": {},
     "output_type": "execute_result"
    }
   ],
   "source": [
    "fpr[\"micro\"]"
   ]
  },
  {
   "cell_type": "code",
   "execution_count": 488,
   "metadata": {},
   "outputs": [
    {
     "data": {
      "text/plain": [
       "{0: array([0.000e+00, 0.000e+00, 0.000e+00, 0.000e+00, 0.000e+00, 0.000e+00,\n",
       "        0.000e+00, 0.000e+00, 0.000e+00, 0.000e+00, 0.000e+00, 0.000e+00,\n",
       "        0.000e+00, 0.000e+00, 0.000e+00, 0.000e+00, 0.000e+00, 0.000e+00,\n",
       "        0.000e+00, 0.000e+00, 0.000e+00, 0.000e+00, 0.000e+00, 0.000e+00,\n",
       "        0.000e+00, 0.000e+00, 0.000e+00, 0.000e+00, 0.000e+00, 0.000e+00,\n",
       "        0.000e+00, 0.000e+00, 0.000e+00, 0.000e+00, 0.000e+00, 0.000e+00,\n",
       "        0.000e+00, 0.000e+00, 0.000e+00, 0.000e+00, 0.000e+00, 0.000e+00,\n",
       "        0.000e+00, 0.000e+00, 0.000e+00, 0.000e+00, 0.000e+00, 0.000e+00,\n",
       "        0.000e+00, 0.000e+00, 0.000e+00, 0.000e+00, 0.000e+00, 0.000e+00,\n",
       "        0.000e+00, 0.000e+00, 0.000e+00, 0.000e+00, 0.000e+00, 0.000e+00,\n",
       "        0.000e+00, 0.000e+00, 0.000e+00, 0.000e+00, 0.000e+00, 0.000e+00,\n",
       "        0.000e+00, 0.000e+00, 0.000e+00, 0.000e+00, 0.000e+00, 0.000e+00,\n",
       "        0.000e+00, 0.000e+00, 0.000e+00, 0.000e+00, 0.000e+00, 0.000e+00,\n",
       "        0.000e+00, 0.000e+00, 0.000e+00, 0.000e+00, 0.000e+00, 0.000e+00,\n",
       "        0.000e+00, 0.000e+00, 0.000e+00, 0.000e+00, 0.000e+00, 0.000e+00,\n",
       "        0.000e+00, 0.000e+00, 0.000e+00, 0.000e+00, 0.000e+00, 0.000e+00,\n",
       "        0.000e+00, 0.000e+00, 0.000e+00, 0.000e+00, 0.000e+00, 0.000e+00,\n",
       "        0.000e+00, 0.000e+00, 0.000e+00, 0.000e+00, 0.000e+00, 0.000e+00,\n",
       "        0.000e+00, 0.000e+00, 0.000e+00, 5.000e-04, 5.000e-04, 1.500e-03,\n",
       "        1.500e-03, 2.000e-03, 2.000e-03, 2.500e-03, 2.500e-03, 3.000e-03,\n",
       "        3.000e-03, 3.500e-03, 3.500e-03, 4.000e-03, 4.000e-03, 4.500e-03,\n",
       "        4.500e-03, 5.000e-03, 5.000e-03, 5.500e-03, 5.500e-03, 6.000e-03,\n",
       "        6.000e-03, 6.500e-03, 6.500e-03, 7.000e-03, 7.000e-03, 7.500e-03,\n",
       "        7.500e-03, 8.000e-03, 8.000e-03, 8.500e-03, 8.500e-03, 9.500e-03,\n",
       "        9.500e-03, 1.000e-02, 1.000e-02, 1.050e-02, 1.050e-02, 1.100e-02,\n",
       "        1.100e-02, 1.150e-02, 1.150e-02, 1.250e-02, 1.250e-02, 1.350e-02,\n",
       "        1.350e-02, 1.450e-02, 1.450e-02, 1.550e-02, 1.550e-02, 1.650e-02,\n",
       "        1.650e-02, 1.850e-02, 1.850e-02, 2.700e-02, 2.700e-02, 2.750e-02,\n",
       "        2.750e-02, 2.850e-02, 2.850e-02, 2.900e-02, 2.900e-02, 3.250e-02,\n",
       "        3.250e-02, 3.600e-02, 3.600e-02, 4.100e-02, 4.100e-02, 4.150e-02,\n",
       "        4.150e-02, 4.200e-02, 4.200e-02, 4.450e-02, 4.450e-02, 4.550e-02,\n",
       "        4.550e-02, 4.700e-02, 4.700e-02, 4.850e-02, 4.850e-02, 5.050e-02,\n",
       "        5.050e-02, 5.150e-02, 5.150e-02, 5.750e-02, 5.750e-02, 6.400e-02,\n",
       "        6.400e-02, 7.150e-02, 7.150e-02, 7.900e-02, 7.900e-02, 8.650e-02,\n",
       "        8.650e-02, 1.040e-01, 1.040e-01, 1.045e-01, 1.045e-01, 1.145e-01,\n",
       "        1.145e-01, 1.515e-01, 1.515e-01, 1.655e-01, 1.655e-01, 1.695e-01,\n",
       "        1.695e-01, 1.855e-01, 1.855e-01, 2.350e-01, 2.350e-01, 1.000e+00]),\n",
       " 1: array([0.000e+00, 0.000e+00, 0.000e+00, 0.000e+00, 0.000e+00, 0.000e+00,\n",
       "        0.000e+00, 0.000e+00, 0.000e+00, 0.000e+00, 0.000e+00, 0.000e+00,\n",
       "        0.000e+00, 5.000e-04, 5.000e-04, 1.000e-03, 1.000e-03, 1.500e-03,\n",
       "        1.500e-03, 2.000e-03, 2.000e-03, 2.500e-03, 2.500e-03, 3.000e-03,\n",
       "        3.000e-03, 4.000e-03, 4.000e-03, 4.500e-03, 4.500e-03, 5.000e-03,\n",
       "        5.000e-03, 5.500e-03, 5.500e-03, 6.000e-03, 6.000e-03, 6.500e-03,\n",
       "        6.500e-03, 7.000e-03, 7.000e-03, 7.500e-03, 7.500e-03, 8.000e-03,\n",
       "        8.000e-03, 8.500e-03, 8.500e-03, 9.000e-03, 9.000e-03, 9.500e-03,\n",
       "        9.500e-03, 1.000e-02, 1.000e-02, 1.100e-02, 1.100e-02, 1.150e-02,\n",
       "        1.150e-02, 1.200e-02, 1.200e-02, 1.250e-02, 1.250e-02, 1.300e-02,\n",
       "        1.300e-02, 1.350e-02, 1.350e-02, 1.400e-02, 1.400e-02, 1.450e-02,\n",
       "        1.450e-02, 1.500e-02, 1.500e-02, 1.550e-02, 1.550e-02, 1.600e-02,\n",
       "        1.600e-02, 1.650e-02, 1.650e-02, 1.700e-02, 1.700e-02, 1.750e-02,\n",
       "        1.750e-02, 1.800e-02, 1.800e-02, 1.850e-02, 1.850e-02, 1.950e-02,\n",
       "        1.950e-02, 2.000e-02, 2.000e-02, 2.050e-02, 2.050e-02, 2.100e-02,\n",
       "        2.100e-02, 2.150e-02, 2.150e-02, 2.200e-02, 2.200e-02, 2.250e-02,\n",
       "        2.250e-02, 2.300e-02, 2.300e-02, 2.350e-02, 2.350e-02, 2.500e-02,\n",
       "        2.500e-02, 2.550e-02, 2.550e-02, 2.600e-02, 2.600e-02, 2.650e-02,\n",
       "        2.650e-02, 2.700e-02, 2.700e-02, 2.750e-02, 2.750e-02, 2.800e-02,\n",
       "        2.800e-02, 2.850e-02, 2.850e-02, 2.950e-02, 2.950e-02, 3.000e-02,\n",
       "        3.000e-02, 3.050e-02, 3.050e-02, 3.100e-02, 3.100e-02, 3.150e-02,\n",
       "        3.150e-02, 3.200e-02, 3.200e-02, 3.250e-02, 3.250e-02, 3.350e-02,\n",
       "        3.350e-02, 3.550e-02, 3.550e-02, 3.600e-02, 3.600e-02, 3.700e-02,\n",
       "        3.700e-02, 3.800e-02, 3.800e-02, 3.850e-02, 3.850e-02, 3.900e-02,\n",
       "        3.900e-02, 3.950e-02, 3.950e-02, 4.000e-02, 4.000e-02, 4.200e-02,\n",
       "        4.200e-02, 4.350e-02, 4.350e-02, 4.550e-02, 4.550e-02, 4.600e-02,\n",
       "        4.600e-02, 4.700e-02, 4.700e-02, 4.800e-02, 4.800e-02, 4.950e-02,\n",
       "        4.950e-02, 5.000e-02, 5.000e-02, 5.050e-02, 5.050e-02, 5.100e-02,\n",
       "        5.100e-02, 5.200e-02, 5.200e-02, 5.250e-02, 5.250e-02, 5.400e-02,\n",
       "        5.400e-02, 5.500e-02, 5.500e-02, 5.600e-02, 5.600e-02, 5.650e-02,\n",
       "        5.650e-02, 5.800e-02, 5.800e-02, 6.200e-02, 6.200e-02, 6.550e-02,\n",
       "        6.550e-02, 6.600e-02, 6.600e-02, 7.000e-02, 7.000e-02, 7.100e-02,\n",
       "        7.100e-02, 7.150e-02, 7.150e-02, 7.400e-02, 7.400e-02, 7.600e-02,\n",
       "        7.600e-02, 7.850e-02, 7.850e-02, 8.100e-02, 8.100e-02, 8.150e-02,\n",
       "        8.150e-02, 8.250e-02, 8.250e-02, 8.300e-02, 8.300e-02, 8.400e-02,\n",
       "        8.400e-02, 8.450e-02, 8.450e-02, 8.500e-02, 8.500e-02, 8.550e-02,\n",
       "        8.550e-02, 8.650e-02, 8.650e-02, 8.700e-02, 8.700e-02, 8.950e-02,\n",
       "        8.950e-02, 9.000e-02, 9.000e-02, 9.150e-02, 9.150e-02, 9.300e-02,\n",
       "        9.300e-02, 9.350e-02, 9.350e-02, 9.400e-02, 9.400e-02, 9.700e-02,\n",
       "        9.700e-02, 9.750e-02, 9.750e-02, 9.800e-02, 9.800e-02, 9.950e-02,\n",
       "        9.950e-02, 1.000e-01, 1.000e-01, 1.005e-01, 1.005e-01, 1.020e-01,\n",
       "        1.020e-01, 1.025e-01, 1.025e-01, 1.040e-01, 1.040e-01, 1.060e-01,\n",
       "        1.060e-01, 1.085e-01, 1.085e-01, 1.150e-01, 1.150e-01, 1.155e-01,\n",
       "        1.155e-01, 1.185e-01, 1.185e-01, 1.190e-01, 1.190e-01, 1.210e-01,\n",
       "        1.210e-01, 1.225e-01, 1.225e-01, 1.280e-01, 1.280e-01, 1.345e-01,\n",
       "        1.345e-01, 1.350e-01, 1.350e-01, 1.355e-01, 1.355e-01, 1.370e-01,\n",
       "        1.370e-01, 1.405e-01, 1.405e-01, 1.410e-01, 1.410e-01, 1.435e-01,\n",
       "        1.435e-01, 1.455e-01, 1.455e-01, 1.515e-01, 1.515e-01, 1.620e-01,\n",
       "        1.620e-01, 1.625e-01, 1.625e-01, 1.690e-01, 1.690e-01, 1.790e-01,\n",
       "        1.790e-01, 1.795e-01, 1.795e-01, 1.825e-01, 1.825e-01, 1.880e-01,\n",
       "        1.880e-01, 1.900e-01, 1.900e-01, 1.960e-01, 1.960e-01, 1.970e-01,\n",
       "        1.970e-01, 1.990e-01, 1.990e-01, 2.250e-01, 2.250e-01, 2.285e-01,\n",
       "        2.285e-01, 2.480e-01, 2.480e-01, 2.490e-01, 2.490e-01, 1.000e+00]),\n",
       " 2: array([0.00e+00, 0.00e+00, 0.00e+00, 0.00e+00, 0.00e+00, 0.00e+00,\n",
       "        0.00e+00, 0.00e+00, 0.00e+00, 0.00e+00, 0.00e+00, 0.00e+00,\n",
       "        0.00e+00, 0.00e+00, 0.00e+00, 0.00e+00, 0.00e+00, 0.00e+00,\n",
       "        0.00e+00, 0.00e+00, 0.00e+00, 0.00e+00, 0.00e+00, 0.00e+00,\n",
       "        0.00e+00, 0.00e+00, 0.00e+00, 0.00e+00, 0.00e+00, 0.00e+00,\n",
       "        0.00e+00, 0.00e+00, 0.00e+00, 0.00e+00, 0.00e+00, 0.00e+00,\n",
       "        0.00e+00, 0.00e+00, 0.00e+00, 0.00e+00, 0.00e+00, 0.00e+00,\n",
       "        0.00e+00, 0.00e+00, 0.00e+00, 0.00e+00, 0.00e+00, 0.00e+00,\n",
       "        0.00e+00, 0.00e+00, 0.00e+00, 5.00e-04, 5.00e-04, 1.00e-03,\n",
       "        1.00e-03, 1.50e-03, 1.50e-03, 2.00e-03, 2.00e-03, 3.00e-03,\n",
       "        3.00e-03, 3.50e-03, 3.50e-03, 4.50e-03, 4.50e-03, 5.00e-03,\n",
       "        5.00e-03, 9.00e-03, 9.00e-03, 9.50e-03, 9.50e-03, 1.10e-02,\n",
       "        1.10e-02, 1.20e-02, 1.20e-02, 1.25e-02, 1.25e-02, 1.40e-02,\n",
       "        1.40e-02, 1.55e-02, 1.55e-02, 1.60e-02, 1.60e-02, 1.65e-02,\n",
       "        1.65e-02, 1.85e-02, 1.85e-02, 2.00e-02, 2.00e-02, 2.35e-02,\n",
       "        2.35e-02, 2.45e-02, 2.45e-02, 2.75e-02, 2.75e-02, 2.95e-02,\n",
       "        2.95e-02, 3.10e-02, 3.10e-02, 3.75e-02, 3.75e-02, 3.90e-02,\n",
       "        3.90e-02, 6.23e-01, 1.00e+00]),\n",
       " 'micro': array([0.00000000e+00, 0.00000000e+00, 0.00000000e+00, 0.00000000e+00,\n",
       "        0.00000000e+00, 0.00000000e+00, 0.00000000e+00, 0.00000000e+00,\n",
       "        0.00000000e+00, 0.00000000e+00, 0.00000000e+00, 0.00000000e+00,\n",
       "        0.00000000e+00, 0.00000000e+00, 0.00000000e+00, 0.00000000e+00,\n",
       "        0.00000000e+00, 0.00000000e+00, 0.00000000e+00, 0.00000000e+00,\n",
       "        0.00000000e+00, 0.00000000e+00, 0.00000000e+00, 0.00000000e+00,\n",
       "        0.00000000e+00, 0.00000000e+00, 0.00000000e+00, 0.00000000e+00,\n",
       "        0.00000000e+00, 0.00000000e+00, 0.00000000e+00, 0.00000000e+00,\n",
       "        0.00000000e+00, 0.00000000e+00, 0.00000000e+00, 0.00000000e+00,\n",
       "        0.00000000e+00, 0.00000000e+00, 0.00000000e+00, 0.00000000e+00,\n",
       "        0.00000000e+00, 0.00000000e+00, 0.00000000e+00, 0.00000000e+00,\n",
       "        0.00000000e+00, 0.00000000e+00, 0.00000000e+00, 0.00000000e+00,\n",
       "        0.00000000e+00, 0.00000000e+00, 0.00000000e+00, 0.00000000e+00,\n",
       "        0.00000000e+00, 0.00000000e+00, 0.00000000e+00, 0.00000000e+00,\n",
       "        0.00000000e+00, 0.00000000e+00, 0.00000000e+00, 0.00000000e+00,\n",
       "        0.00000000e+00, 0.00000000e+00, 0.00000000e+00, 0.00000000e+00,\n",
       "        0.00000000e+00, 0.00000000e+00, 0.00000000e+00, 0.00000000e+00,\n",
       "        0.00000000e+00, 0.00000000e+00, 0.00000000e+00, 0.00000000e+00,\n",
       "        0.00000000e+00, 0.00000000e+00, 0.00000000e+00, 0.00000000e+00,\n",
       "        0.00000000e+00, 0.00000000e+00, 0.00000000e+00, 0.00000000e+00,\n",
       "        0.00000000e+00, 0.00000000e+00, 0.00000000e+00, 0.00000000e+00,\n",
       "        0.00000000e+00, 0.00000000e+00, 0.00000000e+00, 0.00000000e+00,\n",
       "        0.00000000e+00, 0.00000000e+00, 0.00000000e+00, 0.00000000e+00,\n",
       "        0.00000000e+00, 0.00000000e+00, 0.00000000e+00, 0.00000000e+00,\n",
       "        0.00000000e+00, 0.00000000e+00, 0.00000000e+00, 0.00000000e+00,\n",
       "        0.00000000e+00, 0.00000000e+00, 0.00000000e+00, 0.00000000e+00,\n",
       "        0.00000000e+00, 0.00000000e+00, 0.00000000e+00, 0.00000000e+00,\n",
       "        0.00000000e+00, 0.00000000e+00, 0.00000000e+00, 0.00000000e+00,\n",
       "        0.00000000e+00, 0.00000000e+00, 0.00000000e+00, 0.00000000e+00,\n",
       "        0.00000000e+00, 0.00000000e+00, 0.00000000e+00, 0.00000000e+00,\n",
       "        0.00000000e+00, 0.00000000e+00, 0.00000000e+00, 0.00000000e+00,\n",
       "        0.00000000e+00, 0.00000000e+00, 0.00000000e+00, 0.00000000e+00,\n",
       "        0.00000000e+00, 0.00000000e+00, 0.00000000e+00, 0.00000000e+00,\n",
       "        0.00000000e+00, 0.00000000e+00, 0.00000000e+00, 0.00000000e+00,\n",
       "        0.00000000e+00, 0.00000000e+00, 0.00000000e+00, 0.00000000e+00,\n",
       "        0.00000000e+00, 0.00000000e+00, 0.00000000e+00, 0.00000000e+00,\n",
       "        0.00000000e+00, 0.00000000e+00, 0.00000000e+00, 0.00000000e+00,\n",
       "        0.00000000e+00, 0.00000000e+00, 0.00000000e+00, 0.00000000e+00,\n",
       "        0.00000000e+00, 0.00000000e+00, 0.00000000e+00, 0.00000000e+00,\n",
       "        0.00000000e+00, 0.00000000e+00, 0.00000000e+00, 0.00000000e+00,\n",
       "        0.00000000e+00, 0.00000000e+00, 0.00000000e+00, 0.00000000e+00,\n",
       "        0.00000000e+00, 0.00000000e+00, 0.00000000e+00, 0.00000000e+00,\n",
       "        0.00000000e+00, 0.00000000e+00, 0.00000000e+00, 0.00000000e+00,\n",
       "        0.00000000e+00, 0.00000000e+00, 0.00000000e+00, 0.00000000e+00,\n",
       "        0.00000000e+00, 0.00000000e+00, 0.00000000e+00, 0.00000000e+00,\n",
       "        0.00000000e+00, 0.00000000e+00, 0.00000000e+00, 0.00000000e+00,\n",
       "        0.00000000e+00, 0.00000000e+00, 0.00000000e+00, 0.00000000e+00,\n",
       "        0.00000000e+00, 0.00000000e+00, 0.00000000e+00, 0.00000000e+00,\n",
       "        0.00000000e+00, 0.00000000e+00, 0.00000000e+00, 0.00000000e+00,\n",
       "        0.00000000e+00, 0.00000000e+00, 0.00000000e+00, 0.00000000e+00,\n",
       "        0.00000000e+00, 0.00000000e+00, 0.00000000e+00, 0.00000000e+00,\n",
       "        0.00000000e+00, 0.00000000e+00, 0.00000000e+00, 0.00000000e+00,\n",
       "        0.00000000e+00, 0.00000000e+00, 0.00000000e+00, 0.00000000e+00,\n",
       "        0.00000000e+00, 0.00000000e+00, 0.00000000e+00, 0.00000000e+00,\n",
       "        0.00000000e+00, 0.00000000e+00, 0.00000000e+00, 0.00000000e+00,\n",
       "        0.00000000e+00, 0.00000000e+00, 0.00000000e+00, 0.00000000e+00,\n",
       "        0.00000000e+00, 0.00000000e+00, 0.00000000e+00, 0.00000000e+00,\n",
       "        0.00000000e+00, 0.00000000e+00, 0.00000000e+00, 0.00000000e+00,\n",
       "        0.00000000e+00, 0.00000000e+00, 0.00000000e+00, 0.00000000e+00,\n",
       "        0.00000000e+00, 0.00000000e+00, 0.00000000e+00, 0.00000000e+00,\n",
       "        0.00000000e+00, 0.00000000e+00, 0.00000000e+00, 0.00000000e+00,\n",
       "        0.00000000e+00, 0.00000000e+00, 0.00000000e+00, 0.00000000e+00,\n",
       "        0.00000000e+00, 0.00000000e+00, 0.00000000e+00, 0.00000000e+00,\n",
       "        0.00000000e+00, 0.00000000e+00, 0.00000000e+00, 0.00000000e+00,\n",
       "        0.00000000e+00, 0.00000000e+00, 0.00000000e+00, 0.00000000e+00,\n",
       "        0.00000000e+00, 0.00000000e+00, 0.00000000e+00, 0.00000000e+00,\n",
       "        0.00000000e+00, 0.00000000e+00, 0.00000000e+00, 0.00000000e+00,\n",
       "        0.00000000e+00, 1.66666667e-04, 1.66666667e-04, 3.33333333e-04,\n",
       "        3.33333333e-04, 6.66666667e-04, 6.66666667e-04, 8.33333333e-04,\n",
       "        8.33333333e-04, 1.00000000e-03, 1.00000000e-03, 1.16666667e-03,\n",
       "        1.16666667e-03, 1.33333333e-03, 1.33333333e-03, 1.50000000e-03,\n",
       "        1.50000000e-03, 1.66666667e-03, 1.66666667e-03, 1.83333333e-03,\n",
       "        1.83333333e-03, 2.00000000e-03, 2.00000000e-03, 2.16666667e-03,\n",
       "        2.16666667e-03, 2.33333333e-03, 2.33333333e-03, 2.50000000e-03,\n",
       "        2.50000000e-03, 2.66666667e-03, 2.66666667e-03, 2.83333333e-03,\n",
       "        2.83333333e-03, 3.00000000e-03, 3.00000000e-03, 3.16666667e-03,\n",
       "        3.16666667e-03, 3.33333333e-03, 3.33333333e-03, 3.50000000e-03,\n",
       "        3.50000000e-03, 3.66666667e-03, 3.66666667e-03, 3.83333333e-03,\n",
       "        3.83333333e-03, 4.00000000e-03, 4.00000000e-03, 4.16666667e-03,\n",
       "        4.16666667e-03, 4.33333333e-03, 4.33333333e-03, 4.50000000e-03,\n",
       "        4.50000000e-03, 4.83333333e-03, 4.83333333e-03, 5.00000000e-03,\n",
       "        5.00000000e-03, 5.33333333e-03, 5.33333333e-03, 5.50000000e-03,\n",
       "        5.50000000e-03, 5.66666667e-03, 5.66666667e-03, 5.83333333e-03,\n",
       "        5.83333333e-03, 6.00000000e-03, 6.00000000e-03, 6.16666667e-03,\n",
       "        6.16666667e-03, 6.33333333e-03, 6.33333333e-03, 6.50000000e-03,\n",
       "        6.50000000e-03, 6.66666667e-03, 6.66666667e-03, 6.83333333e-03,\n",
       "        6.83333333e-03, 7.00000000e-03, 7.00000000e-03, 7.16666667e-03,\n",
       "        7.16666667e-03, 7.33333333e-03, 7.33333333e-03, 7.50000000e-03,\n",
       "        7.50000000e-03, 7.83333333e-03, 7.83333333e-03, 8.00000000e-03,\n",
       "        8.00000000e-03, 8.16666667e-03, 8.16666667e-03, 8.33333333e-03,\n",
       "        8.33333333e-03, 8.83333333e-03, 8.83333333e-03, 9.00000000e-03,\n",
       "        9.00000000e-03, 9.16666667e-03, 9.16666667e-03, 9.33333333e-03,\n",
       "        9.33333333e-03, 9.66666667e-03, 9.66666667e-03, 9.83333333e-03,\n",
       "        9.83333333e-03, 1.00000000e-02, 1.00000000e-02, 1.01666667e-02,\n",
       "        1.01666667e-02, 1.03333333e-02, 1.03333333e-02, 1.05000000e-02,\n",
       "        1.05000000e-02, 1.08333333e-02, 1.08333333e-02, 1.10000000e-02,\n",
       "        1.10000000e-02, 1.13333333e-02, 1.13333333e-02, 1.15000000e-02,\n",
       "        1.15000000e-02, 1.16666667e-02, 1.16666667e-02, 1.18333333e-02,\n",
       "        1.18333333e-02, 1.20000000e-02, 1.20000000e-02, 1.21666667e-02,\n",
       "        1.21666667e-02, 1.26666667e-02, 1.26666667e-02, 1.30000000e-02,\n",
       "        1.30000000e-02, 1.31666667e-02, 1.31666667e-02, 1.33333333e-02,\n",
       "        1.33333333e-02, 1.36666667e-02, 1.36666667e-02, 1.38333333e-02,\n",
       "        1.38333333e-02, 1.41666667e-02, 1.41666667e-02, 1.43333333e-02,\n",
       "        1.43333333e-02, 1.45000000e-02, 1.45000000e-02, 1.46666667e-02,\n",
       "        1.46666667e-02, 1.48333333e-02, 1.48333333e-02, 1.50000000e-02,\n",
       "        1.50000000e-02, 1.51666667e-02, 1.51666667e-02, 1.53333333e-02,\n",
       "        1.53333333e-02, 1.55000000e-02, 1.55000000e-02, 1.56666667e-02,\n",
       "        1.56666667e-02, 1.58333333e-02, 1.58333333e-02, 1.60000000e-02,\n",
       "        1.60000000e-02, 1.63333333e-02, 1.63333333e-02, 1.65000000e-02,\n",
       "        1.65000000e-02, 1.68333333e-02, 1.68333333e-02, 1.70000000e-02,\n",
       "        1.70000000e-02, 1.73333333e-02, 1.73333333e-02, 1.78333333e-02,\n",
       "        1.78333333e-02, 1.81666667e-02, 1.81666667e-02, 1.86666667e-02,\n",
       "        1.86666667e-02, 1.88333333e-02, 1.88333333e-02, 1.90000000e-02,\n",
       "        1.90000000e-02, 1.91666667e-02, 1.91666667e-02, 1.93333333e-02,\n",
       "        1.93333333e-02, 1.95000000e-02, 1.95000000e-02, 1.96666667e-02,\n",
       "        1.96666667e-02, 1.98333333e-02, 1.98333333e-02, 2.00000000e-02,\n",
       "        2.00000000e-02, 2.03333333e-02, 2.03333333e-02, 2.05000000e-02,\n",
       "        2.05000000e-02, 2.08333333e-02, 2.08333333e-02, 2.10000000e-02,\n",
       "        2.10000000e-02, 2.11666667e-02, 2.11666667e-02, 2.13333333e-02,\n",
       "        2.13333333e-02, 2.15000000e-02, 2.15000000e-02, 2.16666667e-02,\n",
       "        2.16666667e-02, 2.18333333e-02, 2.18333333e-02, 2.20000000e-02,\n",
       "        2.20000000e-02, 2.23333333e-02, 2.23333333e-02, 2.26666667e-02,\n",
       "        2.26666667e-02, 2.30000000e-02, 2.30000000e-02, 2.31666667e-02,\n",
       "        2.31666667e-02, 2.33333333e-02, 2.33333333e-02, 2.35000000e-02,\n",
       "        2.35000000e-02, 2.36666667e-02, 2.36666667e-02, 2.38333333e-02,\n",
       "        2.38333333e-02, 2.40000000e-02, 2.40000000e-02, 2.41666667e-02,\n",
       "        2.41666667e-02, 2.45000000e-02, 2.45000000e-02, 2.50000000e-02,\n",
       "        2.50000000e-02, 2.51666667e-02, 2.51666667e-02, 2.53333333e-02,\n",
       "        2.53333333e-02, 2.56666667e-02, 2.56666667e-02, 2.58333333e-02,\n",
       "        2.58333333e-02, 2.61666667e-02, 2.61666667e-02, 2.63333333e-02,\n",
       "        2.63333333e-02, 2.65000000e-02, 2.65000000e-02, 2.70000000e-02,\n",
       "        2.70000000e-02, 2.71666667e-02, 2.71666667e-02, 2.75000000e-02,\n",
       "        2.75000000e-02, 2.76666667e-02, 2.76666667e-02, 2.78333333e-02,\n",
       "        2.78333333e-02, 2.83333333e-02, 2.83333333e-02, 2.85000000e-02,\n",
       "        2.85000000e-02, 2.88333333e-02, 2.88333333e-02, 2.90000000e-02,\n",
       "        2.90000000e-02, 2.91666667e-02, 2.91666667e-02, 2.93333333e-02,\n",
       "        2.93333333e-02, 2.95000000e-02, 2.95000000e-02, 2.96666667e-02,\n",
       "        2.96666667e-02, 3.00000000e-02, 3.00000000e-02, 3.06666667e-02,\n",
       "        3.06666667e-02, 3.08333333e-02, 3.08333333e-02, 3.15000000e-02,\n",
       "        3.15000000e-02, 3.18333333e-02, 3.18333333e-02, 3.20000000e-02,\n",
       "        3.20000000e-02, 3.21666667e-02, 3.21666667e-02, 3.25000000e-02,\n",
       "        3.25000000e-02, 3.26666667e-02, 3.26666667e-02, 3.30000000e-02,\n",
       "        3.30000000e-02, 3.31666667e-02, 3.31666667e-02, 3.36666667e-02,\n",
       "        3.36666667e-02, 3.41666667e-02, 3.41666667e-02, 3.43333333e-02,\n",
       "        3.43333333e-02, 3.46666667e-02, 3.46666667e-02, 3.48333333e-02,\n",
       "        3.48333333e-02, 3.50000000e-02, 3.50000000e-02, 3.51666667e-02,\n",
       "        3.51666667e-02, 3.55000000e-02, 3.55000000e-02, 3.60000000e-02,\n",
       "        3.60000000e-02, 3.61666667e-02, 3.61666667e-02, 3.71666667e-02,\n",
       "        3.71666667e-02, 3.75000000e-02, 3.75000000e-02, 3.76666667e-02,\n",
       "        3.76666667e-02, 3.83333333e-02, 3.83333333e-02, 3.95000000e-02,\n",
       "        3.95000000e-02, 3.96666667e-02, 3.96666667e-02, 3.98333333e-02,\n",
       "        3.98333333e-02, 4.00000000e-02, 4.00000000e-02, 4.01666667e-02,\n",
       "        4.01666667e-02, 4.03333333e-02, 4.03333333e-02, 4.05000000e-02,\n",
       "        4.05000000e-02, 4.08333333e-02, 4.08333333e-02, 4.10000000e-02,\n",
       "        4.10000000e-02, 4.13333333e-02, 4.13333333e-02, 4.15000000e-02,\n",
       "        4.15000000e-02, 4.18333333e-02, 4.18333333e-02, 4.30000000e-02,\n",
       "        4.30000000e-02, 4.33333333e-02, 4.33333333e-02, 4.35000000e-02,\n",
       "        4.35000000e-02, 4.38333333e-02, 4.38333333e-02, 4.41666667e-02,\n",
       "        4.41666667e-02, 4.45000000e-02, 4.45000000e-02, 4.46666667e-02,\n",
       "        4.46666667e-02, 4.48333333e-02, 4.48333333e-02, 4.56666667e-02,\n",
       "        4.56666667e-02, 4.61666667e-02, 4.61666667e-02, 4.65000000e-02,\n",
       "        4.65000000e-02, 4.68333333e-02, 4.68333333e-02, 4.75000000e-02,\n",
       "        4.75000000e-02, 4.80000000e-02, 4.80000000e-02, 4.86666667e-02,\n",
       "        4.86666667e-02, 4.90000000e-02, 4.90000000e-02, 5.01666667e-02,\n",
       "        5.01666667e-02, 5.08333333e-02, 5.08333333e-02, 5.11666667e-02,\n",
       "        5.11666667e-02, 5.15000000e-02, 5.15000000e-02, 5.21666667e-02,\n",
       "        5.21666667e-02, 5.23333333e-02, 5.23333333e-02, 5.31666667e-02,\n",
       "        5.31666667e-02, 5.33333333e-02, 5.33333333e-02, 5.46666667e-02,\n",
       "        5.46666667e-02, 5.53333333e-02, 5.53333333e-02, 5.80000000e-02,\n",
       "        5.80000000e-02, 5.86666667e-02, 5.86666667e-02, 5.96666667e-02,\n",
       "        5.96666667e-02, 6.00000000e-02, 6.00000000e-02, 6.06666667e-02,\n",
       "        6.06666667e-02, 6.08333333e-02, 6.08333333e-02, 6.25000000e-02,\n",
       "        6.25000000e-02, 6.28333333e-02, 6.28333333e-02, 6.40000000e-02,\n",
       "        6.40000000e-02, 6.41666667e-02, 6.41666667e-02, 6.46666667e-02,\n",
       "        6.46666667e-02, 6.50000000e-02, 6.50000000e-02, 6.61666667e-02,\n",
       "        6.61666667e-02, 6.70000000e-02, 6.70000000e-02, 6.76666667e-02,\n",
       "        6.76666667e-02, 6.96666667e-02, 6.96666667e-02, 7.01666667e-02,\n",
       "        7.01666667e-02, 7.20000000e-02, 7.20000000e-02, 7.35000000e-02,\n",
       "        7.35000000e-02, 7.40000000e-02, 7.40000000e-02, 7.55000000e-02,\n",
       "        7.55000000e-02, 7.58333333e-02, 7.58333333e-02, 7.66666667e-02,\n",
       "        7.66666667e-02, 7.80000000e-02, 7.80000000e-02, 7.81666667e-02,\n",
       "        7.81666667e-02, 7.88333333e-02, 7.88333333e-02, 7.91666667e-02,\n",
       "        7.91666667e-02, 8.00000000e-02, 8.00000000e-02, 8.01666667e-02,\n",
       "        8.01666667e-02, 8.05000000e-02, 8.05000000e-02, 8.11666667e-02,\n",
       "        8.11666667e-02, 8.16666667e-02, 8.16666667e-02, 8.21666667e-02,\n",
       "        8.21666667e-02, 8.25000000e-02, 8.25000000e-02, 8.28333333e-02,\n",
       "        8.28333333e-02, 8.30000000e-02, 8.30000000e-02, 8.45000000e-02,\n",
       "        8.45000000e-02, 8.46666667e-02, 8.46666667e-02, 8.53333333e-02,\n",
       "        8.53333333e-02, 8.63333333e-02, 8.63333333e-02, 8.65000000e-02,\n",
       "        8.65000000e-02, 8.68333333e-02, 8.68333333e-02, 8.70000000e-02,\n",
       "        8.70000000e-02, 8.83333333e-02, 8.83333333e-02, 8.88333333e-02,\n",
       "        8.88333333e-02, 8.95000000e-02, 8.95000000e-02, 8.96666667e-02,\n",
       "        8.96666667e-02, 8.98333333e-02, 8.98333333e-02, 9.03333333e-02,\n",
       "        9.03333333e-02, 9.05000000e-02, 9.05000000e-02, 9.35000000e-02,\n",
       "        9.35000000e-02, 9.43333333e-02, 9.43333333e-02, 9.48333333e-02,\n",
       "        9.48333333e-02, 9.51666667e-02, 9.51666667e-02, 9.53333333e-02,\n",
       "        9.53333333e-02, 9.55000000e-02, 9.55000000e-02, 9.56666667e-02,\n",
       "        9.56666667e-02, 9.60000000e-02, 9.60000000e-02, 9.66666667e-02,\n",
       "        9.66666667e-02, 9.70000000e-02, 9.70000000e-02, 9.75000000e-02,\n",
       "        9.75000000e-02, 9.78333333e-02, 9.78333333e-02, 9.80000000e-02,\n",
       "        9.80000000e-02, 9.91666667e-02, 9.91666667e-02, 9.98333333e-02,\n",
       "        9.98333333e-02, 1.00000000e-01, 1.00000000e-01, 1.00166667e-01,\n",
       "        1.00166667e-01, 1.02000000e-01, 1.02000000e-01, 1.05333333e-01,\n",
       "        1.05333333e-01, 1.07166667e-01, 1.07166667e-01, 1.07833333e-01,\n",
       "        1.07833333e-01, 1.08000000e-01, 1.08000000e-01, 1.12500000e-01,\n",
       "        1.12500000e-01, 1.12666667e-01, 1.12666667e-01, 1.14333333e-01,\n",
       "        1.14333333e-01, 1.15833333e-01, 1.15833333e-01, 1.16000000e-01,\n",
       "        1.16000000e-01, 1.16333333e-01, 1.16333333e-01, 1.17000000e-01,\n",
       "        1.17000000e-01, 1.17666667e-01, 1.17666667e-01, 1.19833333e-01,\n",
       "        1.19833333e-01, 1.20833333e-01, 1.20833333e-01, 1.21666667e-01,\n",
       "        1.21666667e-01, 1.21833333e-01, 1.21833333e-01, 1.22333333e-01,\n",
       "        1.22333333e-01, 1.24500000e-01, 1.24500000e-01, 1.25000000e-01,\n",
       "        1.25000000e-01, 1.25166667e-01, 1.25166667e-01, 1.31000000e-01,\n",
       "        1.31000000e-01, 1.31333333e-01, 1.31333333e-01, 1.33000000e-01,\n",
       "        1.33000000e-01, 1.33500000e-01, 1.33500000e-01, 1.35500000e-01,\n",
       "        1.35500000e-01, 1.36000000e-01, 1.36000000e-01, 1.36166667e-01,\n",
       "        1.36166667e-01, 1.37500000e-01, 1.37500000e-01, 1.38666667e-01,\n",
       "        1.38666667e-01, 1.38833333e-01, 1.38833333e-01, 1.40666667e-01,\n",
       "        1.40666667e-01, 1.41333333e-01, 1.41333333e-01, 1.46000000e-01,\n",
       "        1.46000000e-01, 1.48833333e-01, 1.48833333e-01, 1.50000000e-01,\n",
       "        1.50000000e-01, 1.50166667e-01, 1.50166667e-01, 1.51666667e-01,\n",
       "        1.51666667e-01, 1.51833333e-01, 1.51833333e-01, 1.55000000e-01,\n",
       "        1.55000000e-01, 1.57333333e-01, 1.57333333e-01, 1.57666667e-01,\n",
       "        1.57666667e-01, 1.58000000e-01, 1.58000000e-01, 1.61833333e-01,\n",
       "        1.61833333e-01, 1.62000000e-01, 1.62000000e-01, 1.62166667e-01,\n",
       "        1.62166667e-01, 1.68166667e-01, 1.68166667e-01, 1.68666667e-01,\n",
       "        1.68666667e-01, 1.69166667e-01, 1.69166667e-01, 1.71333333e-01,\n",
       "        1.71333333e-01, 1.74833333e-01, 1.74833333e-01, 1.75000000e-01,\n",
       "        1.75000000e-01, 1.76166667e-01, 1.76166667e-01, 1.79666667e-01,\n",
       "        1.79666667e-01, 1.80333333e-01, 1.80333333e-01, 1.81166667e-01,\n",
       "        1.81166667e-01, 1.81500000e-01, 1.81500000e-01, 1.95333333e-01,\n",
       "        1.95333333e-01, 1.98000000e-01, 1.98000000e-01, 1.99000000e-01,\n",
       "        1.99000000e-01, 2.01500000e-01, 2.01500000e-01, 2.01666667e-01,\n",
       "        2.01666667e-01, 2.06000000e-01, 2.06000000e-01, 2.15000000e-01,\n",
       "        2.15000000e-01, 2.15166667e-01, 2.15166667e-01, 2.16333333e-01,\n",
       "        2.16333333e-01, 2.18833333e-01, 2.18833333e-01, 2.20166667e-01,\n",
       "        2.20166667e-01, 2.37166667e-01, 2.37166667e-01, 2.43166667e-01,\n",
       "        2.43166667e-01, 8.74333333e-01, 1.00000000e+00]),\n",
       " 'macro': array([0.000e+00, 5.000e-04, 1.000e-03, 1.500e-03, 2.000e-03, 2.500e-03,\n",
       "        3.000e-03, 3.500e-03, 4.000e-03, 4.500e-03, 5.000e-03, 5.500e-03,\n",
       "        6.000e-03, 6.500e-03, 7.000e-03, 7.500e-03, 8.000e-03, 8.500e-03,\n",
       "        9.000e-03, 9.500e-03, 1.000e-02, 1.050e-02, 1.100e-02, 1.150e-02,\n",
       "        1.200e-02, 1.250e-02, 1.300e-02, 1.350e-02, 1.400e-02, 1.450e-02,\n",
       "        1.500e-02, 1.550e-02, 1.600e-02, 1.650e-02, 1.700e-02, 1.750e-02,\n",
       "        1.800e-02, 1.850e-02, 1.950e-02, 2.000e-02, 2.050e-02, 2.100e-02,\n",
       "        2.150e-02, 2.200e-02, 2.250e-02, 2.300e-02, 2.350e-02, 2.450e-02,\n",
       "        2.500e-02, 2.550e-02, 2.600e-02, 2.650e-02, 2.700e-02, 2.750e-02,\n",
       "        2.800e-02, 2.850e-02, 2.900e-02, 2.950e-02, 3.000e-02, 3.050e-02,\n",
       "        3.100e-02, 3.150e-02, 3.200e-02, 3.250e-02, 3.350e-02, 3.550e-02,\n",
       "        3.600e-02, 3.700e-02, 3.750e-02, 3.800e-02, 3.850e-02, 3.900e-02,\n",
       "        3.950e-02, 4.000e-02, 4.100e-02, 4.150e-02, 4.200e-02, 4.350e-02,\n",
       "        4.450e-02, 4.550e-02, 4.600e-02, 4.700e-02, 4.800e-02, 4.850e-02,\n",
       "        4.950e-02, 5.000e-02, 5.050e-02, 5.100e-02, 5.150e-02, 5.200e-02,\n",
       "        5.250e-02, 5.400e-02, 5.500e-02, 5.600e-02, 5.650e-02, 5.750e-02,\n",
       "        5.800e-02, 6.200e-02, 6.400e-02, 6.550e-02, 6.600e-02, 7.000e-02,\n",
       "        7.100e-02, 7.150e-02, 7.400e-02, 7.600e-02, 7.850e-02, 7.900e-02,\n",
       "        8.100e-02, 8.150e-02, 8.250e-02, 8.300e-02, 8.400e-02, 8.450e-02,\n",
       "        8.500e-02, 8.550e-02, 8.650e-02, 8.700e-02, 8.950e-02, 9.000e-02,\n",
       "        9.150e-02, 9.300e-02, 9.350e-02, 9.400e-02, 9.700e-02, 9.750e-02,\n",
       "        9.800e-02, 9.950e-02, 1.000e-01, 1.005e-01, 1.020e-01, 1.025e-01,\n",
       "        1.040e-01, 1.045e-01, 1.060e-01, 1.085e-01, 1.145e-01, 1.150e-01,\n",
       "        1.155e-01, 1.185e-01, 1.190e-01, 1.210e-01, 1.225e-01, 1.280e-01,\n",
       "        1.345e-01, 1.350e-01, 1.355e-01, 1.370e-01, 1.405e-01, 1.410e-01,\n",
       "        1.435e-01, 1.455e-01, 1.515e-01, 1.620e-01, 1.625e-01, 1.655e-01,\n",
       "        1.690e-01, 1.695e-01, 1.790e-01, 1.795e-01, 1.825e-01, 1.855e-01,\n",
       "        1.880e-01, 1.900e-01, 1.960e-01, 1.970e-01, 1.990e-01, 2.250e-01,\n",
       "        2.285e-01, 2.350e-01, 2.480e-01, 2.490e-01, 6.230e-01, 1.000e+00])}"
      ]
     },
     "execution_count": 488,
     "metadata": {},
     "output_type": "execute_result"
    }
   ],
   "source": [
    "fpr"
   ]
  },
  {
   "cell_type": "code",
   "execution_count": 489,
   "metadata": {},
   "outputs": [
    {
     "data": {
      "text/plain": [
       "645"
      ]
     },
     "execution_count": 489,
     "metadata": {},
     "output_type": "execute_result"
    }
   ],
   "source": [
    "len( np.concatenate([fpr[i] for i in range(n_classes)]) )"
   ]
  },
  {
   "cell_type": "code",
   "execution_count": 490,
   "metadata": {},
   "outputs": [
    {
     "data": {
      "text/plain": [
       "174"
      ]
     },
     "execution_count": 490,
     "metadata": {},
     "output_type": "execute_result"
    }
   ],
   "source": [
    "len( np.unique(np.concatenate([fpr[i] for i in range(n_classes)])) )"
   ]
  },
  {
   "cell_type": "code",
   "execution_count": 491,
   "metadata": {},
   "outputs": [
    {
     "data": {
      "text/plain": [
       "array([0., 0., 0., 0., 0., 0., 0., 0., 0., 0., 0., 0., 0., 0., 0., 0., 0.,\n",
       "       0., 0., 0., 0., 0., 0., 0., 0., 0., 0., 0., 0., 0., 0., 0., 0., 0.,\n",
       "       0., 0., 0., 0., 0., 0., 0., 0., 0., 0., 0., 0., 0., 0., 0., 0., 0.,\n",
       "       0., 0., 0., 0., 0., 0., 0., 0., 0., 0., 0., 0., 0., 0., 0., 0., 0.,\n",
       "       0., 0., 0., 0., 0., 0., 0., 0., 0., 0., 0., 0., 0., 0., 0., 0., 0.,\n",
       "       0., 0., 0., 0., 0., 0., 0., 0., 0., 0., 0., 0., 0., 0., 0., 0., 0.,\n",
       "       0., 0., 0., 0., 0., 0., 0., 0., 0., 0., 0., 0., 0., 0., 0., 0., 0.,\n",
       "       0., 0., 0., 0., 0., 0., 0., 0., 0., 0., 0., 0., 0., 0., 0., 0., 0.,\n",
       "       0., 0., 0., 0., 0., 0., 0., 0., 0., 0., 0., 0., 0., 0., 0., 0., 0.,\n",
       "       0., 0., 0., 0., 0., 0., 0., 0., 0., 0., 0., 0., 0., 0., 0., 0., 0.,\n",
       "       0., 0., 0., 0.])"
      ]
     },
     "execution_count": 491,
     "metadata": {},
     "output_type": "execute_result"
    }
   ],
   "source": [
    "np.zeros_like(all_fpr)"
   ]
  },
  {
   "cell_type": "code",
   "execution_count": 492,
   "metadata": {},
   "outputs": [
    {
     "data": {
      "text/plain": [
       "array([0.000e+00, 0.000e+00, 0.000e+00, 0.000e+00, 0.000e+00, 0.000e+00,\n",
       "       0.000e+00, 0.000e+00, 0.000e+00, 0.000e+00, 0.000e+00, 0.000e+00,\n",
       "       0.000e+00, 0.000e+00, 0.000e+00, 0.000e+00, 0.000e+00, 0.000e+00,\n",
       "       0.000e+00, 0.000e+00, 0.000e+00, 0.000e+00, 0.000e+00, 0.000e+00,\n",
       "       0.000e+00, 0.000e+00, 0.000e+00, 0.000e+00, 0.000e+00, 0.000e+00,\n",
       "       0.000e+00, 0.000e+00, 0.000e+00, 0.000e+00, 0.000e+00, 0.000e+00,\n",
       "       0.000e+00, 0.000e+00, 0.000e+00, 0.000e+00, 0.000e+00, 0.000e+00,\n",
       "       0.000e+00, 0.000e+00, 0.000e+00, 0.000e+00, 0.000e+00, 0.000e+00,\n",
       "       0.000e+00, 0.000e+00, 0.000e+00, 0.000e+00, 0.000e+00, 0.000e+00,\n",
       "       0.000e+00, 0.000e+00, 0.000e+00, 0.000e+00, 0.000e+00, 0.000e+00,\n",
       "       0.000e+00, 0.000e+00, 0.000e+00, 0.000e+00, 0.000e+00, 0.000e+00,\n",
       "       0.000e+00, 0.000e+00, 0.000e+00, 0.000e+00, 0.000e+00, 0.000e+00,\n",
       "       0.000e+00, 0.000e+00, 0.000e+00, 0.000e+00, 0.000e+00, 0.000e+00,\n",
       "       0.000e+00, 0.000e+00, 0.000e+00, 0.000e+00, 0.000e+00, 0.000e+00,\n",
       "       0.000e+00, 0.000e+00, 0.000e+00, 0.000e+00, 0.000e+00, 0.000e+00,\n",
       "       0.000e+00, 0.000e+00, 0.000e+00, 0.000e+00, 0.000e+00, 0.000e+00,\n",
       "       0.000e+00, 0.000e+00, 0.000e+00, 0.000e+00, 0.000e+00, 0.000e+00,\n",
       "       0.000e+00, 0.000e+00, 0.000e+00, 0.000e+00, 0.000e+00, 0.000e+00,\n",
       "       0.000e+00, 0.000e+00, 0.000e+00, 5.000e-04, 5.000e-04, 1.500e-03,\n",
       "       1.500e-03, 2.000e-03, 2.000e-03, 2.500e-03, 2.500e-03, 3.000e-03,\n",
       "       3.000e-03, 3.500e-03, 3.500e-03, 4.000e-03, 4.000e-03, 4.500e-03,\n",
       "       4.500e-03, 5.000e-03, 5.000e-03, 5.500e-03, 5.500e-03, 6.000e-03,\n",
       "       6.000e-03, 6.500e-03, 6.500e-03, 7.000e-03, 7.000e-03, 7.500e-03,\n",
       "       7.500e-03, 8.000e-03, 8.000e-03, 8.500e-03, 8.500e-03, 9.500e-03,\n",
       "       9.500e-03, 1.000e-02, 1.000e-02, 1.050e-02, 1.050e-02, 1.100e-02,\n",
       "       1.100e-02, 1.150e-02, 1.150e-02, 1.250e-02, 1.250e-02, 1.350e-02,\n",
       "       1.350e-02, 1.450e-02, 1.450e-02, 1.550e-02, 1.550e-02, 1.650e-02,\n",
       "       1.650e-02, 1.850e-02, 1.850e-02, 2.700e-02, 2.700e-02, 2.750e-02,\n",
       "       2.750e-02, 2.850e-02, 2.850e-02, 2.900e-02, 2.900e-02, 3.250e-02,\n",
       "       3.250e-02, 3.600e-02, 3.600e-02, 4.100e-02, 4.100e-02, 4.150e-02,\n",
       "       4.150e-02, 4.200e-02, 4.200e-02, 4.450e-02, 4.450e-02, 4.550e-02,\n",
       "       4.550e-02, 4.700e-02, 4.700e-02, 4.850e-02, 4.850e-02, 5.050e-02,\n",
       "       5.050e-02, 5.150e-02, 5.150e-02, 5.750e-02, 5.750e-02, 6.400e-02,\n",
       "       6.400e-02, 7.150e-02, 7.150e-02, 7.900e-02, 7.900e-02, 8.650e-02,\n",
       "       8.650e-02, 1.040e-01, 1.040e-01, 1.045e-01, 1.045e-01, 1.145e-01,\n",
       "       1.145e-01, 1.515e-01, 1.515e-01, 1.655e-01, 1.655e-01, 1.695e-01,\n",
       "       1.695e-01, 1.855e-01, 1.855e-01, 2.350e-01, 2.350e-01, 1.000e+00])"
      ]
     },
     "execution_count": 492,
     "metadata": {},
     "output_type": "execute_result"
    }
   ],
   "source": [
    "fpr[0]"
   ]
  },
  {
   "cell_type": "code",
   "execution_count": 493,
   "metadata": {},
   "outputs": [
    {
     "data": {
      "text/plain": [
       "array([0.   , 0.039, 0.06 , 0.074, 0.085, 0.092, 0.104, 0.111, 0.115,\n",
       "       0.118, 0.122, 0.125, 0.127, 0.13 , 0.138, 0.14 , 0.146, 0.148,\n",
       "       0.152, 0.154, 0.156, 0.16 , 0.162, 0.165, 0.166, 0.17 , 0.177,\n",
       "       0.183, 0.184, 0.188, 0.191, 0.196, 0.205, 0.208, 0.211, 0.213,\n",
       "       0.216, 0.22 , 0.221, 0.224, 0.226, 0.227, 0.231, 0.232, 0.234,\n",
       "       0.237, 0.239, 0.242, 0.243, 0.249, 0.255, 0.257, 0.258, 0.26 ,\n",
       "       0.263, 0.269, 0.27 , 0.272, 0.274, 0.276, 0.281, 0.283, 0.287,\n",
       "       0.289, 0.29 , 0.296, 0.297, 0.299, 0.301, 0.303, 0.306, 0.31 ,\n",
       "       0.318, 0.32 , 0.326, 0.328, 0.331, 0.337, 0.339, 0.342, 0.343,\n",
       "       0.345, 0.348, 0.351, 0.354, 0.356, 0.359, 0.363, 0.365, 0.367,\n",
       "       0.369, 0.372, 0.412, 0.414, 0.416, 0.418, 0.419, 0.423, 0.425,\n",
       "       0.427, 0.436, 0.438, 0.464, 0.466, 0.472, 0.475, 0.537, 0.539,\n",
       "       0.604, 0.606, 0.828, 0.828, 0.852, 0.852, 0.864, 0.864, 0.884,\n",
       "       0.884, 0.886, 0.886, 0.887, 0.887, 0.891, 0.891, 0.894, 0.894,\n",
       "       0.9  , 0.9  , 0.906, 0.906, 0.907, 0.907, 0.914, 0.914, 0.92 ,\n",
       "       0.92 , 0.922, 0.922, 0.935, 0.935, 0.937, 0.937, 0.938, 0.938,\n",
       "       0.94 , 0.94 , 0.942, 0.942, 0.948, 0.948, 0.949, 0.949, 0.954,\n",
       "       0.954, 0.956, 0.956, 0.957, 0.957, 0.96 , 0.96 , 0.961, 0.961,\n",
       "       0.964, 0.964, 0.966, 0.966, 0.968, 0.968, 0.969, 0.969, 0.97 ,\n",
       "       0.97 , 0.971, 0.971, 0.972, 0.972, 0.973, 0.973, 0.974, 0.974,\n",
       "       0.975, 0.975, 0.977, 0.977, 0.978, 0.978, 0.981, 0.981, 0.983,\n",
       "       0.983, 0.984, 0.984, 0.985, 0.985, 0.986, 0.986, 0.987, 0.987,\n",
       "       0.988, 0.988, 0.989, 0.989, 0.99 , 0.99 , 0.992, 0.992, 0.993,\n",
       "       0.993, 0.994, 0.994, 0.995, 0.995, 0.996, 0.996, 0.997, 0.997,\n",
       "       0.998, 0.998, 0.999, 0.999, 1.   , 1.   ])"
      ]
     },
     "execution_count": 493,
     "metadata": {},
     "output_type": "execute_result"
    }
   ],
   "source": [
    "tpr[0]"
   ]
  },
  {
   "cell_type": "code",
   "execution_count": 494,
   "metadata": {},
   "outputs": [
    {
     "data": {
      "text/plain": [
       "array([0.000e+00, 5.000e-04, 1.000e-03, 1.500e-03, 2.000e-03, 2.500e-03,\n",
       "       3.000e-03, 3.500e-03, 4.000e-03, 4.500e-03, 5.000e-03, 5.500e-03,\n",
       "       6.000e-03, 6.500e-03, 7.000e-03, 7.500e-03, 8.000e-03, 8.500e-03,\n",
       "       9.000e-03, 9.500e-03, 1.000e-02, 1.050e-02, 1.100e-02, 1.150e-02,\n",
       "       1.200e-02, 1.250e-02, 1.300e-02, 1.350e-02, 1.400e-02, 1.450e-02,\n",
       "       1.500e-02, 1.550e-02, 1.600e-02, 1.650e-02, 1.700e-02, 1.750e-02,\n",
       "       1.800e-02, 1.850e-02, 1.950e-02, 2.000e-02, 2.050e-02, 2.100e-02,\n",
       "       2.150e-02, 2.200e-02, 2.250e-02, 2.300e-02, 2.350e-02, 2.450e-02,\n",
       "       2.500e-02, 2.550e-02, 2.600e-02, 2.650e-02, 2.700e-02, 2.750e-02,\n",
       "       2.800e-02, 2.850e-02, 2.900e-02, 2.950e-02, 3.000e-02, 3.050e-02,\n",
       "       3.100e-02, 3.150e-02, 3.200e-02, 3.250e-02, 3.350e-02, 3.550e-02,\n",
       "       3.600e-02, 3.700e-02, 3.750e-02, 3.800e-02, 3.850e-02, 3.900e-02,\n",
       "       3.950e-02, 4.000e-02, 4.100e-02, 4.150e-02, 4.200e-02, 4.350e-02,\n",
       "       4.450e-02, 4.550e-02, 4.600e-02, 4.700e-02, 4.800e-02, 4.850e-02,\n",
       "       4.950e-02, 5.000e-02, 5.050e-02, 5.100e-02, 5.150e-02, 5.200e-02,\n",
       "       5.250e-02, 5.400e-02, 5.500e-02, 5.600e-02, 5.650e-02, 5.750e-02,\n",
       "       5.800e-02, 6.200e-02, 6.400e-02, 6.550e-02, 6.600e-02, 7.000e-02,\n",
       "       7.100e-02, 7.150e-02, 7.400e-02, 7.600e-02, 7.850e-02, 7.900e-02,\n",
       "       8.100e-02, 8.150e-02, 8.250e-02, 8.300e-02, 8.400e-02, 8.450e-02,\n",
       "       8.500e-02, 8.550e-02, 8.650e-02, 8.700e-02, 8.950e-02, 9.000e-02,\n",
       "       9.150e-02, 9.300e-02, 9.350e-02, 9.400e-02, 9.700e-02, 9.750e-02,\n",
       "       9.800e-02, 9.950e-02, 1.000e-01, 1.005e-01, 1.020e-01, 1.025e-01,\n",
       "       1.040e-01, 1.045e-01, 1.060e-01, 1.085e-01, 1.145e-01, 1.150e-01,\n",
       "       1.155e-01, 1.185e-01, 1.190e-01, 1.210e-01, 1.225e-01, 1.280e-01,\n",
       "       1.345e-01, 1.350e-01, 1.355e-01, 1.370e-01, 1.405e-01, 1.410e-01,\n",
       "       1.435e-01, 1.455e-01, 1.515e-01, 1.620e-01, 1.625e-01, 1.655e-01,\n",
       "       1.690e-01, 1.695e-01, 1.790e-01, 1.795e-01, 1.825e-01, 1.855e-01,\n",
       "       1.880e-01, 1.900e-01, 1.960e-01, 1.970e-01, 1.990e-01, 2.250e-01,\n",
       "       2.285e-01, 2.350e-01, 2.480e-01, 2.490e-01, 6.230e-01, 1.000e+00])"
      ]
     },
     "execution_count": 494,
     "metadata": {},
     "output_type": "execute_result"
    }
   ],
   "source": [
    "all_fpr"
   ]
  },
  {
   "cell_type": "code",
   "execution_count": 495,
   "metadata": {},
   "outputs": [
    {
     "name": "stderr",
     "output_type": "stream",
     "text": [
      "<ipython-input-495-66abbe95d3e9>:1: DeprecationWarning: scipy.interp is deprecated and will be removed in SciPy 2.0.0, use numpy.interp instead\n",
      "  interp(all_fpr, fpr[0], tpr[0])\n"
     ]
    },
    {
     "data": {
      "text/plain": [
       "array([0.828, 0.852, 0.852, 0.864, 0.884, 0.886, 0.887, 0.891, 0.894,\n",
       "       0.9  , 0.906, 0.907, 0.914, 0.92 , 0.922, 0.935, 0.937, 0.938,\n",
       "       0.938, 0.94 , 0.942, 0.948, 0.949, 0.954, 0.954, 0.956, 0.956,\n",
       "       0.957, 0.957, 0.96 , 0.96 , 0.961, 0.961, 0.964, 0.964, 0.964,\n",
       "       0.964, 0.966, 0.966, 0.966, 0.966, 0.966, 0.966, 0.966, 0.966,\n",
       "       0.966, 0.966, 0.966, 0.966, 0.966, 0.966, 0.966, 0.968, 0.969,\n",
       "       0.969, 0.97 , 0.971, 0.971, 0.971, 0.971, 0.971, 0.971, 0.971,\n",
       "       0.972, 0.972, 0.972, 0.973, 0.973, 0.973, 0.973, 0.973, 0.973,\n",
       "       0.973, 0.973, 0.974, 0.975, 0.977, 0.977, 0.978, 0.981, 0.981,\n",
       "       0.983, 0.983, 0.984, 0.984, 0.984, 0.985, 0.985, 0.986, 0.986,\n",
       "       0.986, 0.986, 0.986, 0.986, 0.986, 0.987, 0.987, 0.987, 0.988,\n",
       "       0.988, 0.988, 0.988, 0.988, 0.989, 0.989, 0.989, 0.989, 0.99 ,\n",
       "       0.99 , 0.99 , 0.99 , 0.99 , 0.99 , 0.99 , 0.99 , 0.99 , 0.992,\n",
       "       0.992, 0.992, 0.992, 0.992, 0.992, 0.992, 0.992, 0.992, 0.992,\n",
       "       0.992, 0.992, 0.992, 0.992, 0.992, 0.992, 0.993, 0.994, 0.994,\n",
       "       0.994, 0.995, 0.995, 0.995, 0.995, 0.995, 0.995, 0.995, 0.995,\n",
       "       0.995, 0.995, 0.995, 0.995, 0.995, 0.995, 0.995, 0.995, 0.996,\n",
       "       0.996, 0.996, 0.997, 0.997, 0.998, 0.998, 0.998, 0.998, 0.999,\n",
       "       0.999, 0.999, 0.999, 0.999, 0.999, 0.999, 0.999, 1.   , 1.   ,\n",
       "       1.   , 1.   , 1.   ])"
      ]
     },
     "execution_count": 495,
     "metadata": {},
     "output_type": "execute_result"
    }
   ],
   "source": [
    "interp(all_fpr, fpr[0], tpr[0])"
   ]
  },
  {
   "cell_type": "code",
   "execution_count": 496,
   "metadata": {},
   "outputs": [
    {
     "name": "stderr",
     "output_type": "stream",
     "text": [
      "<ipython-input-496-140da9fa962e>:22: DeprecationWarning: scipy.interp is deprecated and will be removed in SciPy 2.0.0, use numpy.interp instead\n",
      "  mean_tpr += interp(all_fpr, fpr[i], tpr[i])\n"
     ]
    },
    {
     "data": {
      "image/png": "[encoded data removed]",
      "text/plain": [
       "<Figure size 432x288 with 1 Axes>"
      ]
     },
     "metadata": {
      "needs_background": "light"
     },
     "output_type": "display_data"
    }
   ],
   "source": [
    "y_test_K5_bin = label_binarize(y_test_K5, classes=[0, 1, 2])\n",
    "\n",
    "n_classes = 3\n",
    "\n",
    "fpr = dict()\n",
    "tpr = dict()\n",
    "roc_auc = dict()\n",
    "for i in range(n_classes):\n",
    "    fpr[i], tpr[i], _ = roc_curve(y_test_K5_bin[:, i], prob_K5[:, i])\n",
    "    roc_auc[i] = auc(fpr[i], tpr[i])\n",
    "\n",
    "# Compute micro-average ROC curve and ROC area\n",
    "fpr[\"micro\"], tpr[\"micro\"], _ = roc_curve(y_test_K5_bin.ravel(), prob_K5.ravel())\n",
    "roc_auc[\"micro\"] = auc(fpr[\"micro\"], tpr[\"micro\"])\n",
    "\n",
    "# First aggregate all false positive rates\n",
    "all_fpr = np.unique(np.concatenate([fpr[i] for i in range(n_classes)]))\n",
    "\n",
    "# Then interpolate all ROC curves at this points\n",
    "mean_tpr = np.zeros_like(all_fpr)\n",
    "for i in range(n_classes):\n",
    "    mean_tpr += interp(all_fpr, fpr[i], tpr[i])\n",
    "\n",
    "# Finally average it and compute AUC\n",
    "mean_tpr /= n_classes\n",
    "\n",
    "fpr[\"macro\"] = all_fpr\n",
    "tpr[\"macro\"] = mean_tpr\n",
    "roc_auc[\"macro\"] = auc(fpr[\"macro\"], tpr[\"macro\"])\n",
    "\n",
    "# Plot all ROC curves\n",
    "plt.figure()\n",
    "# plt.plot(fpr[\"micro\"], tpr[\"micro\"],\n",
    "#          label='micro-average (area = {0:0.2f})'\n",
    "#                ''.format(roc_auc[\"micro\"]),\n",
    "#          color='deeppink', linestyle=':', linewidth=4)\n",
    "\n",
    "# plt.plot(fpr[\"macro\"], tpr[\"macro\"],\n",
    "#          label='macro-average (area = {0:0.2f})'\n",
    "#                ''.format(roc_auc[\"macro\"]),\n",
    "#          color='navy', linestyle=':', linewidth=4)\n",
    "\n",
    "lw = 2\n",
    "\n",
    "l_types = [\"cortex\",\"medulla\",\"calyx\"]\n",
    "\n",
    "colors = cycle(['aqua', 'darkorange', 'cornflowerblue'])\n",
    "for i, type_name, color in zip([1,0,2], l_types, colors):\n",
    "    plt.plot(fpr[i], tpr[i], color=color, lw=lw,\n",
    "             label='{0} (AUC = {1:0.2f})'\n",
    "             ''.format(type_name, roc_auc[i]))\n",
    "\n",
    "\n",
    "    \n",
    "plt.plot([0, 1], [0, 1], 'k--', lw=lw)\n",
    "plt.xlim([0.0, 1.0])\n",
    "plt.ylim([0.0, 1.05])\n",
    "plt.xlabel('1 - Specificity')\n",
    "plt.ylabel('Sensitivity')\n",
    "plt.title('Receiver operating characteristic(ROC) multi-class Testing kidney 5')\n",
    "plt.legend(loc=\"lower right\")\n",
    "plt.savefig(\"./ROC_tests/ROC_kidney5.jpg\", dpi=300)\n",
    "plt.show()"
   ]
  },
  {
   "cell_type": "markdown",
   "metadata": {},
   "source": [
    "# K6 Outer"
   ]
  },
  {
   "cell_type": "code",
   "execution_count": 497,
   "metadata": {},
   "outputs": [],
   "source": [
    "with open('/scratch/paulcalle/kidney_results/summit/archRESNET50_outer_results/pred_val_K6_outer.npy', 'rb') as f:\n",
    "    prob_K6 = np.load(f)"
   ]
  },
  {
   "cell_type": "code",
   "execution_count": 498,
   "metadata": {},
   "outputs": [
    {
     "data": {
      "text/plain": [
       "(3000, 3)"
      ]
     },
     "execution_count": 498,
     "metadata": {},
     "output_type": "execute_result"
    }
   ],
   "source": [
    "prob_K6.shape"
   ]
  },
  {
   "cell_type": "code",
   "execution_count": 499,
   "metadata": {},
   "outputs": [
    {
     "data": {
      "text/plain": [
       "array([[9.9082059e-01, 9.1792392e-03, 1.7804136e-07],\n",
       "       [9.9930048e-01, 6.9950783e-04, 5.4422455e-10],\n",
       "       [9.9887019e-01, 1.1298336e-03, 1.5167364e-09],\n",
       "       ...,\n",
       "       [7.3019642e-08, 2.5885368e-02, 9.7411454e-01],\n",
       "       [1.3681700e-11, 6.9334533e-07, 9.9999928e-01],\n",
       "       [5.6970047e-11, 2.4647329e-07, 9.9999976e-01]], dtype=float32)"
      ]
     },
     "execution_count": 499,
     "metadata": {},
     "output_type": "execute_result"
    }
   ],
   "source": [
    "prob_K6"
   ]
  },
  {
   "cell_type": "code",
   "execution_count": 500,
   "metadata": {},
   "outputs": [],
   "source": [
    "pred_K6 = np.argmax(prob_K6, axis=-1)"
   ]
  },
  {
   "cell_type": "code",
   "execution_count": 501,
   "metadata": {},
   "outputs": [
    {
     "data": {
      "text/plain": [
       "array([0, 0, 0, ..., 2, 2, 2])"
      ]
     },
     "execution_count": 501,
     "metadata": {},
     "output_type": "execute_result"
    }
   ],
   "source": [
    "pred_K6"
   ]
  },
  {
   "cell_type": "code",
   "execution_count": 502,
   "metadata": {},
   "outputs": [
    {
     "data": {
      "text/plain": [
       "array([7, 7, 7, ..., 5, 5, 5])"
      ]
     },
     "execution_count": 502,
     "metadata": {},
     "output_type": "execute_result"
    }
   ],
   "source": [
    "a_kidney_num"
   ]
  },
  {
   "cell_type": "code",
   "execution_count": 503,
   "metadata": {},
   "outputs": [],
   "source": [
    "index = 6\n",
    "\n",
    "bool_kidney_test = a_kidney_num == index\n",
    "\n",
    "y_test_K6 = a_label_num[bool_kidney_test]"
   ]
  },
  {
   "cell_type": "code",
   "execution_count": 504,
   "metadata": {},
   "outputs": [
    {
     "data": {
      "text/plain": [
       "array([0, 0, 0, ..., 2, 2, 2])"
      ]
     },
     "execution_count": 504,
     "metadata": {},
     "output_type": "execute_result"
    }
   ],
   "source": [
    "y_test_K6"
   ]
  },
  {
   "cell_type": "code",
   "execution_count": 505,
   "metadata": {},
   "outputs": [
    {
     "data": {
      "text/plain": [
       "(3000,)"
      ]
     },
     "execution_count": 505,
     "metadata": {},
     "output_type": "execute_result"
    }
   ],
   "source": [
    "y_test_K6.shape"
   ]
  },
  {
   "cell_type": "code",
   "execution_count": 506,
   "metadata": {},
   "outputs": [
    {
     "data": {
      "text/plain": [
       "2030"
      ]
     },
     "execution_count": 506,
     "metadata": {},
     "output_type": "execute_result"
    }
   ],
   "source": [
    "np.sum(pred_K6 == y_test_K6)"
   ]
  },
  {
   "cell_type": "code",
   "execution_count": 507,
   "metadata": {},
   "outputs": [
    {
     "data": {
      "text/plain": [
       "array([0, 0, 0, ..., 2, 2, 2])"
      ]
     },
     "execution_count": 507,
     "metadata": {},
     "output_type": "execute_result"
    }
   ],
   "source": [
    "pred_K6"
   ]
  },
  {
   "cell_type": "code",
   "execution_count": 508,
   "metadata": {},
   "outputs": [
    {
     "name": "stdout",
     "output_type": "stream",
     "text": [
      "[[989  11   0]\n",
      " [  0  57 943]\n",
      " [  0  16 984]]\n"
     ]
    }
   ],
   "source": [
    "from sklearn.metrics import confusion_matrix\n",
    "\n",
    "print(confusion_matrix(y_test_K6, pred_K6))"
   ]
  },
  {
   "cell_type": "markdown",
   "metadata": {},
   "source": [
    "## ROC"
   ]
  },
  {
   "cell_type": "markdown",
   "metadata": {},
   "source": [
    "Source: [Link](https://scikit-learn.org/stable/auto_examples/model_selection/plot_roc.html)"
   ]
  },
  {
   "cell_type": "code",
   "execution_count": 509,
   "metadata": {},
   "outputs": [],
   "source": [
    "from sklearn.preprocessing import label_binarize\n",
    "from sklearn.metrics import roc_auc_score\n",
    "from sklearn.metrics import roc_curve, auc\n",
    "from scipy import interp\n",
    "\n",
    "import numpy as np\n",
    "import matplotlib.pyplot as plt\n",
    "from itertools import cycle"
   ]
  },
  {
   "cell_type": "code",
   "execution_count": 511,
   "metadata": {},
   "outputs": [
    {
     "name": "stderr",
     "output_type": "stream",
     "text": [
      "<ipython-input-511-9471fa663c28>:22: DeprecationWarning: scipy.interp is deprecated and will be removed in SciPy 2.0.0, use numpy.interp instead\n",
      "  mean_tpr += interp(all_fpr, fpr[i], tpr[i])\n"
     ]
    },
    {
     "data": {
      "image/png": "[encoded data removed]",
      "text/plain": [
       "<Figure size 432x288 with 1 Axes>"
      ]
     },
     "metadata": {
      "needs_background": "light"
     },
     "output_type": "display_data"
    }
   ],
   "source": [
    "y_test_K6_bin = label_binarize(y_test_K6, classes=[0, 1, 2])\n",
    "\n",
    "n_classes = 3\n",
    "\n",
    "fpr = dict()\n",
    "tpr = dict()\n",
    "roc_auc = dict()\n",
    "for i in range(n_classes):\n",
    "    fpr[i], tpr[i], _ = roc_curve(y_test_K6_bin[:, i], prob_K6[:, i])\n",
    "    roc_auc[i] = auc(fpr[i], tpr[i])\n",
    "\n",
    "# Compute micro-average ROC curve and ROC area\n",
    "fpr[\"micro\"], tpr[\"micro\"], _ = roc_curve(y_test_K6_bin.ravel(), prob_K6.ravel())\n",
    "roc_auc[\"micro\"] = auc(fpr[\"micro\"], tpr[\"micro\"])\n",
    "\n",
    "# First aggregate all false positive rates\n",
    "all_fpr = np.unique(np.concatenate([fpr[i] for i in range(n_classes)]))\n",
    "\n",
    "# Then interpolate all ROC curves at this points\n",
    "mean_tpr = np.zeros_like(all_fpr)\n",
    "for i in range(n_classes):\n",
    "    mean_tpr += interp(all_fpr, fpr[i], tpr[i])\n",
    "\n",
    "# Finally average it and compute AUC\n",
    "mean_tpr /= n_classes\n",
    "\n",
    "fpr[\"macro\"] = all_fpr\n",
    "tpr[\"macro\"] = mean_tpr\n",
    "roc_auc[\"macro\"] = auc(fpr[\"macro\"], tpr[\"macro\"])\n",
    "\n",
    "# Plot all ROC curves\n",
    "plt.figure()\n",
    "# plt.plot(fpr[\"micro\"], tpr[\"micro\"],\n",
    "#          label='micro-average (area = {0:0.2f})'\n",
    "#                ''.format(roc_auc[\"micro\"]),\n",
    "#          color='deeppink', linestyle=':', linewidth=4)\n",
    "\n",
    "# plt.plot(fpr[\"macro\"], tpr[\"macro\"],\n",
    "#          label='macro-average (area = {0:0.2f})'\n",
    "#                ''.format(roc_auc[\"macro\"]),\n",
    "#          color='navy', linestyle=':', linewidth=4)\n",
    "\n",
    "lw = 2\n",
    "\n",
    "l_types = [\"cortex\", \"medulla\", \"calyx\"]\n",
    "\n",
    "colors = cycle(['aqua', 'darkorange', 'cornflowerblue'])\n",
    "for i, type_name, color in zip([1,0,2], l_types, colors):\n",
    "    plt.plot(fpr[i], tpr[i], color=color, lw=lw,\n",
    "             label='{0} (AUC = {1:0.2f})'\n",
    "             ''.format(type_name, roc_auc[i]))\n",
    "\n",
    "\n",
    "    \n",
    "plt.plot([0, 1], [0, 1], 'k--', lw=lw)\n",
    "plt.xlim([0.0, 1.0])\n",
    "plt.ylim([0.0, 1.05])\n",
    "plt.xlabel('1 - Specificity')\n",
    "plt.ylabel('Sensitivity')\n",
    "plt.title('Receiver operating characteristic(ROC) multi-class Testing kidney 6')\n",
    "plt.legend(loc=\"lower right\")\n",
    "plt.savefig(\"./ROC_tests/ROC_kidney6.jpg\", dpi=300)\n",
    "plt.show()"
   ]
  },
  {
   "cell_type": "markdown",
   "metadata": {},
   "source": [
    "# K7 Outer"
   ]
  },
  {
   "cell_type": "code",
   "execution_count": 512,
   "metadata": {},
   "outputs": [],
   "source": [
    "with open('/scratch/paulcalle/kidney_results/summit/archRESNET50_outer_results/pred_val_K7_outer.npy', 'rb') as f:\n",
    "    prob_K7 = np.load(f)"
   ]
  },
  {
   "cell_type": "code",
   "execution_count": 513,
   "metadata": {},
   "outputs": [
    {
     "data": {
      "text/plain": [
       "(3000, 3)"
      ]
     },
     "execution_count": 513,
     "metadata": {},
     "output_type": "execute_result"
    }
   ],
   "source": [
    "prob_K7.shape"
   ]
  },
  {
   "cell_type": "code",
   "execution_count": 514,
   "metadata": {},
   "outputs": [
    {
     "data": {
      "text/plain": [
       "array([[9.9999666e-01, 3.3533674e-06, 2.1858928e-16],\n",
       "       [1.0000000e+00, 8.6733136e-09, 5.9096968e-18],\n",
       "       [2.8377488e-01, 7.1622509e-01, 6.1643537e-11],\n",
       "       ...,\n",
       "       [2.2909079e-10, 5.6732406e-05, 9.9994326e-01],\n",
       "       [1.2681844e-05, 9.9260408e-01, 7.3832367e-03],\n",
       "       [3.0648377e-07, 9.3013579e-01, 6.9863945e-02]], dtype=float32)"
      ]
     },
     "execution_count": 514,
     "metadata": {},
     "output_type": "execute_result"
    }
   ],
   "source": [
    "prob_K7"
   ]
  },
  {
   "cell_type": "code",
   "execution_count": 515,
   "metadata": {},
   "outputs": [],
   "source": [
    "pred_K7 = np.argmax(prob_K7, axis=-1)"
   ]
  },
  {
   "cell_type": "code",
   "execution_count": 516,
   "metadata": {},
   "outputs": [
    {
     "data": {
      "text/plain": [
       "array([0, 0, 1, ..., 2, 1, 1])"
      ]
     },
     "execution_count": 516,
     "metadata": {},
     "output_type": "execute_result"
    }
   ],
   "source": [
    "pred_K7"
   ]
  },
  {
   "cell_type": "code",
   "execution_count": 517,
   "metadata": {},
   "outputs": [
    {
     "data": {
      "text/plain": [
       "array([7, 7, 7, ..., 5, 5, 5])"
      ]
     },
     "execution_count": 517,
     "metadata": {},
     "output_type": "execute_result"
    }
   ],
   "source": [
    "a_kidney_num"
   ]
  },
  {
   "cell_type": "code",
   "execution_count": 518,
   "metadata": {},
   "outputs": [],
   "source": [
    "index = 7\n",
    "\n",
    "bool_kidney_test = a_kidney_num == index\n",
    "\n",
    "y_test_K7 = a_label_num[bool_kidney_test]"
   ]
  },
  {
   "cell_type": "code",
   "execution_count": 519,
   "metadata": {},
   "outputs": [
    {
     "data": {
      "text/plain": [
       "array([0, 0, 0, ..., 2, 2, 2])"
      ]
     },
     "execution_count": 519,
     "metadata": {},
     "output_type": "execute_result"
    }
   ],
   "source": [
    "y_test_K7"
   ]
  },
  {
   "cell_type": "code",
   "execution_count": 520,
   "metadata": {},
   "outputs": [
    {
     "data": {
      "text/plain": [
       "(3000,)"
      ]
     },
     "execution_count": 520,
     "metadata": {},
     "output_type": "execute_result"
    }
   ],
   "source": [
    "y_test_K7.shape"
   ]
  },
  {
   "cell_type": "code",
   "execution_count": 521,
   "metadata": {},
   "outputs": [
    {
     "data": {
      "text/plain": [
       "2505"
      ]
     },
     "execution_count": 521,
     "metadata": {},
     "output_type": "execute_result"
    }
   ],
   "source": [
    "np.sum(pred_K7 == y_test_K7)"
   ]
  },
  {
   "cell_type": "code",
   "execution_count": 522,
   "metadata": {},
   "outputs": [
    {
     "data": {
      "text/plain": [
       "array([0, 0, 1, ..., 2, 1, 1])"
      ]
     },
     "execution_count": 522,
     "metadata": {},
     "output_type": "execute_result"
    }
   ],
   "source": [
    "pred_K7"
   ]
  },
  {
   "cell_type": "code",
   "execution_count": 523,
   "metadata": {},
   "outputs": [
    {
     "name": "stdout",
     "output_type": "stream",
     "text": [
      "[[943  57   0]\n",
      " [  3 848 149]\n",
      " [  0 286 714]]\n"
     ]
    }
   ],
   "source": [
    "from sklearn.metrics import confusion_matrix\n",
    "\n",
    "print(confusion_matrix(y_test_K7, pred_K7))"
   ]
  },
  {
   "cell_type": "markdown",
   "metadata": {},
   "source": [
    "## ROC"
   ]
  },
  {
   "cell_type": "markdown",
   "metadata": {},
   "source": [
    "Source: [Link](https://scikit-learn.org/stable/auto_examples/model_selection/plot_roc.html)"
   ]
  },
  {
   "cell_type": "code",
   "execution_count": 524,
   "metadata": {},
   "outputs": [],
   "source": [
    "from sklearn.preprocessing import label_binarize\n",
    "from sklearn.metrics import roc_auc_score\n",
    "from sklearn.metrics import roc_curve, auc\n",
    "from scipy import interp\n",
    "\n",
    "import numpy as np\n",
    "import matplotlib.pyplot as plt\n",
    "from itertools import cycle"
   ]
  },
  {
   "cell_type": "code",
   "execution_count": 525,
   "metadata": {},
   "outputs": [
    {
     "name": "stderr",
     "output_type": "stream",
     "text": [
      "<ipython-input-525-538603e460f0>:22: DeprecationWarning: scipy.interp is deprecated and will be removed in SciPy 2.0.0, use numpy.interp instead\n",
      "  mean_tpr += interp(all_fpr, fpr[i], tpr[i])\n"
     ]
    },
    {
     "data": {
      "image/png": "[encoded data removed]",
      "text/plain": [
       "<Figure size 432x288 with 1 Axes>"
      ]
     },
     "metadata": {
      "needs_background": "light"
     },
     "output_type": "display_data"
    }
   ],
   "source": [
    "y_test_K7_bin = label_binarize(y_test_K7, classes=[0, 1, 2])\n",
    "\n",
    "n_classes = 3\n",
    "\n",
    "fpr = dict()\n",
    "tpr = dict()\n",
    "roc_auc = dict()\n",
    "for i in range(n_classes):\n",
    "    fpr[i], tpr[i], _ = roc_curve(y_test_K7_bin[:, i], prob_K7[:, i])\n",
    "    roc_auc[i] = auc(fpr[i], tpr[i])\n",
    "\n",
    "# Compute micro-average ROC curve and ROC area\n",
    "fpr[\"micro\"], tpr[\"micro\"], _ = roc_curve(y_test_K7_bin.ravel(), prob_K7.ravel())\n",
    "roc_auc[\"micro\"] = auc(fpr[\"micro\"], tpr[\"micro\"])\n",
    "\n",
    "# First aggregate all false positive rates\n",
    "all_fpr = np.unique(np.concatenate([fpr[i] for i in range(n_classes)]))\n",
    "\n",
    "# Then interpolate all ROC curves at this points\n",
    "mean_tpr = np.zeros_like(all_fpr)\n",
    "for i in range(n_classes):\n",
    "    mean_tpr += interp(all_fpr, fpr[i], tpr[i])\n",
    "\n",
    "# Finally average it and compute AUC\n",
    "mean_tpr /= n_classes\n",
    "\n",
    "fpr[\"macro\"] = all_fpr\n",
    "tpr[\"macro\"] = mean_tpr\n",
    "roc_auc[\"macro\"] = auc(fpr[\"macro\"], tpr[\"macro\"])\n",
    "\n",
    "# Plot all ROC curves\n",
    "plt.figure()\n",
    "# plt.plot(fpr[\"micro\"], tpr[\"micro\"],\n",
    "#          label='micro-average (area = {0:0.2f})'\n",
    "#                ''.format(roc_auc[\"micro\"]),\n",
    "#          color='deeppink', linestyle=':', linewidth=4)\n",
    "\n",
    "# plt.plot(fpr[\"macro\"], tpr[\"macro\"],\n",
    "#          label='macro-average (area = {0:0.2f})'\n",
    "#                ''.format(roc_auc[\"macro\"]),\n",
    "#          color='navy', linestyle=':', linewidth=4)\n",
    "\n",
    "lw = 2\n",
    "\n",
    "l_types = [\"cortex\",\"medulla\",\"calyx\"]\n",
    "\n",
    "colors = cycle(['aqua', 'darkorange', 'cornflowerblue'])\n",
    "for i, type_name, color in zip([1,0,2], l_types, colors):\n",
    "    plt.plot(fpr[i], tpr[i], color=color, lw=lw,\n",
    "             label='{0} (AUC = {1:0.2f})'\n",
    "             ''.format(type_name, roc_auc[i]))\n",
    "    \n",
    "plt.plot([0, 1], [0, 1], 'k--', lw=lw)\n",
    "plt.xlim([0.0, 1.0])\n",
    "plt.ylim([0.0, 1.05])\n",
    "plt.xlabel('1 - Specificity')\n",
    "plt.ylabel('Sensitivity')\n",
    "plt.title('Receiver operating characteristic(ROC) multi-class Testing kidney 7')\n",
    "plt.legend(loc=\"lower right\")\n",
    "plt.savefig(\"./ROC_tests/ROC_kidney7.jpg\", dpi=300)\n",
    "plt.show()"
   ]
  },
  {
   "cell_type": "markdown",
   "metadata": {},
   "source": [
    "# K8 Outer"
   ]
  },
  {
   "cell_type": "code",
   "execution_count": 526,
   "metadata": {},
   "outputs": [],
   "source": [
    "with open('/scratch/paulcalle/kidney_results/summit/archRESNET50_tl_outer_results/pred_val_b_K8_outer.npy', 'rb') as f:\n",
    "    prob_K8 = np.load(f)"
   ]
  },
  {
   "cell_type": "code",
   "execution_count": 527,
   "metadata": {},
   "outputs": [
    {
     "data": {
      "text/plain": [
       "(3000, 3)"
      ]
     },
     "execution_count": 527,
     "metadata": {},
     "output_type": "execute_result"
    }
   ],
   "source": [
    "prob_K8.shape"
   ]
  },
  {
   "cell_type": "code",
   "execution_count": 528,
   "metadata": {},
   "outputs": [
    {
     "data": {
      "text/plain": [
       "array([[1.8957677e-07, 1.3203580e-05, 9.9998665e-01],\n",
       "       [3.7960972e-09, 2.5499833e-06, 9.9999750e-01],\n",
       "       [9.4665156e-09, 8.9133215e-07, 9.9999905e-01],\n",
       "       ...,\n",
       "       [9.8080051e-01, 1.7310744e-02, 1.8887148e-03],\n",
       "       [9.7022039e-01, 2.8642718e-02, 1.1368751e-03],\n",
       "       [4.6447021e-01, 3.7796494e-01, 1.5756485e-01]], dtype=float32)"
      ]
     },
     "execution_count": 528,
     "metadata": {},
     "output_type": "execute_result"
    }
   ],
   "source": [
    "prob_K8"
   ]
  },
  {
   "cell_type": "code",
   "execution_count": 529,
   "metadata": {},
   "outputs": [],
   "source": [
    "pred_K8 = np.argmax(prob_K8, axis=-1)"
   ]
  },
  {
   "cell_type": "code",
   "execution_count": 530,
   "metadata": {},
   "outputs": [
    {
     "data": {
      "text/plain": [
       "array([2, 2, 2, ..., 0, 0, 0])"
      ]
     },
     "execution_count": 530,
     "metadata": {},
     "output_type": "execute_result"
    }
   ],
   "source": [
    "pred_K8"
   ]
  },
  {
   "cell_type": "code",
   "execution_count": 531,
   "metadata": {},
   "outputs": [
    {
     "data": {
      "text/plain": [
       "array([7, 7, 7, ..., 5, 5, 5])"
      ]
     },
     "execution_count": 531,
     "metadata": {},
     "output_type": "execute_result"
    }
   ],
   "source": [
    "a_kidney_num"
   ]
  },
  {
   "cell_type": "code",
   "execution_count": 532,
   "metadata": {},
   "outputs": [],
   "source": [
    "index = 8\n",
    "\n",
    "bool_kidney_test = a_kidney_num == index\n",
    "\n",
    "y_test_K8 = a_label_num[bool_kidney_test]"
   ]
  },
  {
   "cell_type": "code",
   "execution_count": 533,
   "metadata": {},
   "outputs": [
    {
     "data": {
      "text/plain": [
       "array([2, 2, 2, ..., 0, 0, 0])"
      ]
     },
     "execution_count": 533,
     "metadata": {},
     "output_type": "execute_result"
    }
   ],
   "source": [
    "y_test_K8"
   ]
  },
  {
   "cell_type": "code",
   "execution_count": 534,
   "metadata": {},
   "outputs": [
    {
     "data": {
      "text/plain": [
       "(3000,)"
      ]
     },
     "execution_count": 534,
     "metadata": {},
     "output_type": "execute_result"
    }
   ],
   "source": [
    "y_test_K8.shape"
   ]
  },
  {
   "cell_type": "code",
   "execution_count": 535,
   "metadata": {},
   "outputs": [
    {
     "data": {
      "text/plain": [
       "2646"
      ]
     },
     "execution_count": 535,
     "metadata": {},
     "output_type": "execute_result"
    }
   ],
   "source": [
    "np.sum(pred_K8 == y_test_K8)"
   ]
  },
  {
   "cell_type": "code",
   "execution_count": 536,
   "metadata": {},
   "outputs": [
    {
     "data": {
      "text/plain": [
       "array([2, 2, 2, ..., 0, 0, 0])"
      ]
     },
     "execution_count": 536,
     "metadata": {},
     "output_type": "execute_result"
    }
   ],
   "source": [
    "pred_K8"
   ]
  },
  {
   "cell_type": "code",
   "execution_count": 537,
   "metadata": {},
   "outputs": [
    {
     "name": "stdout",
     "output_type": "stream",
     "text": [
      "[[707 144 149]\n",
      " [  2 940  58]\n",
      " [  0   1 999]]\n"
     ]
    }
   ],
   "source": [
    "from sklearn.metrics import confusion_matrix\n",
    "\n",
    "print(confusion_matrix(y_test_K8, pred_K8))"
   ]
  },
  {
   "cell_type": "code",
   "execution_count": null,
   "metadata": {},
   "outputs": [],
   "source": []
  },
  {
   "cell_type": "markdown",
   "metadata": {},
   "source": [
    "## ROC"
   ]
  },
  {
   "cell_type": "markdown",
   "metadata": {},
   "source": [
    "Source: [Link](https://scikit-learn.org/stable/auto_examples/model_selection/plot_roc.html)"
   ]
  },
  {
   "cell_type": "code",
   "execution_count": 538,
   "metadata": {},
   "outputs": [],
   "source": [
    "from sklearn.preprocessing import label_binarize\n",
    "from sklearn.metrics import roc_auc_score\n",
    "from sklearn.metrics import roc_curve, auc\n",
    "from scipy import interp\n",
    "\n",
    "import numpy as np\n",
    "import matplotlib.pyplot as plt\n",
    "from itertools import cycle"
   ]
  },
  {
   "cell_type": "code",
   "execution_count": 539,
   "metadata": {},
   "outputs": [
    {
     "name": "stderr",
     "output_type": "stream",
     "text": [
      "<ipython-input-539-d0ef48cf54ce>:22: DeprecationWarning: scipy.interp is deprecated and will be removed in SciPy 2.0.0, use numpy.interp instead\n",
      "  mean_tpr += interp(all_fpr, fpr[i], tpr[i])\n"
     ]
    },
    {
     "data": {
      "image/png": "[encoded data removed]",
      "text/plain": [
       "<Figure size 432x288 with 1 Axes>"
      ]
     },
     "metadata": {
      "needs_background": "light"
     },
     "output_type": "display_data"
    }
   ],
   "source": [
    "y_test_K8_bin = label_binarize(y_test_K8, classes=[0, 1, 2])\n",
    "\n",
    "n_classes = 3\n",
    "\n",
    "fpr = dict()\n",
    "tpr = dict()\n",
    "roc_auc = dict()\n",
    "for i in range(n_classes):\n",
    "    fpr[i], tpr[i], _ = roc_curve(y_test_K8_bin[:, i], prob_K8[:, i])\n",
    "    roc_auc[i] = auc(fpr[i], tpr[i])\n",
    "\n",
    "# Compute micro-average ROC curve and ROC area\n",
    "fpr[\"micro\"], tpr[\"micro\"], _ = roc_curve(y_test_K8_bin.ravel(), prob_K8.ravel())\n",
    "roc_auc[\"micro\"] = auc(fpr[\"micro\"], tpr[\"micro\"])\n",
    "\n",
    "# First aggregate all false positive rates\n",
    "all_fpr = np.unique(np.concatenate([fpr[i] for i in range(n_classes)]))\n",
    "\n",
    "# Then interpolate all ROC curves at this points\n",
    "mean_tpr = np.zeros_like(all_fpr)\n",
    "for i in range(n_classes):\n",
    "    mean_tpr += interp(all_fpr, fpr[i], tpr[i])\n",
    "\n",
    "# Finally average it and compute AUC\n",
    "mean_tpr /= n_classes\n",
    "\n",
    "fpr[\"macro\"] = all_fpr\n",
    "tpr[\"macro\"] = mean_tpr\n",
    "roc_auc[\"macro\"] = auc(fpr[\"macro\"], tpr[\"macro\"])\n",
    "\n",
    "# Plot all ROC curves\n",
    "plt.figure()\n",
    "# plt.plot(fpr[\"micro\"], tpr[\"micro\"],\n",
    "#          label='micro-average (area = {0:0.2f})'\n",
    "#                ''.format(roc_auc[\"micro\"]),\n",
    "#          color='deeppink', linestyle=':', linewidth=4)\n",
    "\n",
    "# plt.plot(fpr[\"macro\"], tpr[\"macro\"],\n",
    "#          label='macro-average (area = {0:0.2f})'\n",
    "#                ''.format(roc_auc[\"macro\"]),\n",
    "#          color='navy', linestyle=':', linewidth=4)\n",
    "\n",
    "lw = 2\n",
    "\n",
    "l_types = [\"cortex\",\"medulla\",\"calyx\"]\n",
    "\n",
    "colors = cycle(['aqua', 'darkorange', 'cornflowerblue'])\n",
    "for i, type_name, color in zip([1,0,2], l_types, colors):\n",
    "    plt.plot(fpr[i], tpr[i], color=color, lw=lw,\n",
    "             label='{0} (AUC = {1:0.2f})'\n",
    "             ''.format(type_name, roc_auc[i]))\n",
    "\n",
    "\n",
    "    \n",
    "plt.plot([0, 1], [0, 1], 'k--', lw=lw)\n",
    "plt.xlim([0.0, 1.0])\n",
    "plt.ylim([0.0, 1.05])\n",
    "plt.xlabel('1 - Specificity')\n",
    "plt.ylabel('Sensitivity')\n",
    "plt.title('Receiver operating characteristic(ROC) multi-class Testing kidney 8')\n",
    "plt.legend(loc=\"lower right\")\n",
    "plt.savefig(\"./ROC_tests/ROC_kidney8.jpg\", dpi=300)\n",
    "plt.show()"
   ]
  },
  {
   "cell_type": "markdown",
   "metadata": {},
   "source": [
    "# K9 Outer"
   ]
  },
  {
   "cell_type": "code",
   "execution_count": 584,
   "metadata": {},
   "outputs": [],
   "source": [
    "with open('/scratch/paulcalle/kidney_results/summit/archRESNET50_tl_outer_results/pred_val_b_K9_outer.npy', 'rb') as f:\n",
    "    prob_K9 = np.load(f)"
   ]
  },
  {
   "cell_type": "code",
   "execution_count": 585,
   "metadata": {},
   "outputs": [
    {
     "data": {
      "text/plain": [
       "(3000, 3)"
      ]
     },
     "execution_count": 585,
     "metadata": {},
     "output_type": "execute_result"
    }
   ],
   "source": [
    "prob_K9.shape"
   ]
  },
  {
   "cell_type": "code",
   "execution_count": 586,
   "metadata": {},
   "outputs": [
    {
     "data": {
      "text/plain": [
       "array([[6.8006033e-05, 5.3484505e-04, 9.9939716e-01],\n",
       "       [3.2781625e-07, 2.7423361e-03, 9.9725741e-01],\n",
       "       [1.2174992e-05, 7.0719989e-03, 9.9291587e-01],\n",
       "       ...,\n",
       "       [1.0098423e-02, 9.8989761e-01, 4.0030141e-06],\n",
       "       [4.7420943e-03, 9.9521780e-01, 4.0140505e-05],\n",
       "       [4.4328682e-02, 9.5566595e-01, 5.4025272e-06]], dtype=float32)"
      ]
     },
     "execution_count": 586,
     "metadata": {},
     "output_type": "execute_result"
    }
   ],
   "source": [
    "prob_K9"
   ]
  },
  {
   "cell_type": "code",
   "execution_count": 587,
   "metadata": {},
   "outputs": [],
   "source": [
    "pred_K9 = np.argmax(prob_K9, axis=-1)"
   ]
  },
  {
   "cell_type": "code",
   "execution_count": 588,
   "metadata": {},
   "outputs": [
    {
     "data": {
      "text/plain": [
       "array([2, 2, 2, ..., 1, 1, 1])"
      ]
     },
     "execution_count": 588,
     "metadata": {},
     "output_type": "execute_result"
    }
   ],
   "source": [
    "pred_K9"
   ]
  },
  {
   "cell_type": "code",
   "execution_count": 589,
   "metadata": {},
   "outputs": [
    {
     "data": {
      "text/plain": [
       "array([7, 7, 7, ..., 5, 5, 5])"
      ]
     },
     "execution_count": 589,
     "metadata": {},
     "output_type": "execute_result"
    }
   ],
   "source": [
    "a_kidney_num"
   ]
  },
  {
   "cell_type": "code",
   "execution_count": 590,
   "metadata": {},
   "outputs": [],
   "source": [
    "index = 9\n",
    "\n",
    "bool_kidney_test = a_kidney_num == index\n",
    "\n",
    "y_test_K9 = a_label_num[bool_kidney_test]"
   ]
  },
  {
   "cell_type": "code",
   "execution_count": 591,
   "metadata": {},
   "outputs": [
    {
     "data": {
      "text/plain": [
       "array([2, 2, 2, ..., 1, 1, 1])"
      ]
     },
     "execution_count": 591,
     "metadata": {},
     "output_type": "execute_result"
    }
   ],
   "source": [
    "y_test_K9"
   ]
  },
  {
   "cell_type": "code",
   "execution_count": 592,
   "metadata": {},
   "outputs": [
    {
     "data": {
      "text/plain": [
       "(3000,)"
      ]
     },
     "execution_count": 592,
     "metadata": {},
     "output_type": "execute_result"
    }
   ],
   "source": [
    "y_test_K9.shape"
   ]
  },
  {
   "cell_type": "code",
   "execution_count": 593,
   "metadata": {},
   "outputs": [
    {
     "data": {
      "text/plain": [
       "2767"
      ]
     },
     "execution_count": 593,
     "metadata": {},
     "output_type": "execute_result"
    }
   ],
   "source": [
    "np.sum(pred_K9 == y_test_K9)"
   ]
  },
  {
   "cell_type": "code",
   "execution_count": 594,
   "metadata": {},
   "outputs": [
    {
     "data": {
      "text/plain": [
       "array([2, 2, 2, ..., 1, 1, 1])"
      ]
     },
     "execution_count": 594,
     "metadata": {},
     "output_type": "execute_result"
    }
   ],
   "source": [
    "pred_K9"
   ]
  },
  {
   "cell_type": "code",
   "execution_count": 595,
   "metadata": {},
   "outputs": [
    {
     "name": "stdout",
     "output_type": "stream",
     "text": [
      "[[1000    0    0]\n",
      " [   7  993    0]\n",
      " [  94  132  774]]\n"
     ]
    }
   ],
   "source": [
    "from sklearn.metrics import confusion_matrix\n",
    "\n",
    "print(confusion_matrix(y_test_K9, pred_K9))"
   ]
  },
  {
   "cell_type": "markdown",
   "metadata": {},
   "source": [
    "## ROC"
   ]
  },
  {
   "cell_type": "markdown",
   "metadata": {},
   "source": [
    "Source: [Link](https://scikit-learn.org/stable/auto_examples/model_selection/plot_roc.html)"
   ]
  },
  {
   "cell_type": "code",
   "execution_count": 596,
   "metadata": {},
   "outputs": [],
   "source": [
    "from sklearn.preprocessing import label_binarize\n",
    "from sklearn.metrics import roc_auc_score\n",
    "from sklearn.metrics import roc_curve, auc\n",
    "from scipy import interp\n",
    "\n",
    "import numpy as np\n",
    "import matplotlib.pyplot as plt\n",
    "from itertools import cycle"
   ]
  },
  {
   "cell_type": "code",
   "execution_count": 597,
   "metadata": {},
   "outputs": [
    {
     "name": "stderr",
     "output_type": "stream",
     "text": [
      "<ipython-input-597-9e5fa7a24852>:22: DeprecationWarning: scipy.interp is deprecated and will be removed in SciPy 2.0.0, use numpy.interp instead\n",
      "  mean_tpr += interp(all_fpr, fpr[i], tpr[i])\n"
     ]
    },
    {
     "data": {
      "image/png": "[encoded data removed]",
      "text/plain": [
       "<Figure size 432x288 with 1 Axes>"
      ]
     },
     "metadata": {
      "needs_background": "light"
     },
     "output_type": "display_data"
    }
   ],
   "source": [
    "y_test_K9_bin = label_binarize(y_test_K9, classes=[0, 1, 2])\n",
    "\n",
    "n_classes = 3\n",
    "\n",
    "fpr = dict()\n",
    "tpr = dict()\n",
    "roc_auc = dict()\n",
    "for i in range(n_classes):\n",
    "    fpr[i], tpr[i], _ = roc_curve(y_test_K9_bin[:, i], prob_K9[:, i])\n",
    "    roc_auc[i] = auc(fpr[i], tpr[i])\n",
    "\n",
    "# Compute micro-average ROC curve and ROC area\n",
    "fpr[\"micro\"], tpr[\"micro\"], _ = roc_curve(y_test_K9_bin.ravel(), prob_K9.ravel())\n",
    "roc_auc[\"micro\"] = auc(fpr[\"micro\"], tpr[\"micro\"])\n",
    "\n",
    "# First aggregate all false positive rates\n",
    "all_fpr = np.unique(np.concatenate([fpr[i] for i in range(n_classes)]))\n",
    "\n",
    "# Then interpolate all ROC curves at this points\n",
    "mean_tpr = np.zeros_like(all_fpr)\n",
    "for i in range(n_classes):\n",
    "    mean_tpr += interp(all_fpr, fpr[i], tpr[i])\n",
    "\n",
    "# Finally average it and compute AUC\n",
    "mean_tpr /= n_classes\n",
    "\n",
    "fpr[\"macro\"] = all_fpr\n",
    "tpr[\"macro\"] = mean_tpr\n",
    "roc_auc[\"macro\"] = auc(fpr[\"macro\"], tpr[\"macro\"])\n",
    "\n",
    "# Plot all ROC curves\n",
    "plt.figure()\n",
    "# plt.plot(fpr[\"micro\"], tpr[\"micro\"],\n",
    "#          label='micro-average (area = {0:0.2f})'\n",
    "#                ''.format(roc_auc[\"micro\"]),\n",
    "#          color='deeppink', linestyle=':', linewidth=4)\n",
    "\n",
    "# plt.plot(fpr[\"macro\"], tpr[\"macro\"],\n",
    "#          label='macro-average (area = {0:0.2f})'\n",
    "#                ''.format(roc_auc[\"macro\"]),\n",
    "#          color='navy', linestyle=':', linewidth=4)\n",
    "\n",
    "lw = 2\n",
    "\n",
    "l_types = [\"cortex\",\"medulla\",\"calyx\"]\n",
    "\n",
    "colors = cycle(['aqua', 'darkorange', 'cornflowerblue'])\n",
    "for i, type_name, color in zip( [1,0,2], l_types, colors):\n",
    "    plt.plot(fpr[i], tpr[i], color=color, lw=lw,\n",
    "             label='{0} (AUC = {1:0.2f})'\n",
    "             ''.format(type_name, roc_auc[i]))\n",
    "\n",
    "\n",
    "    \n",
    "plt.plot([0, 1], [0, 1], 'k--', lw=lw)\n",
    "plt.xlim([0.0, 1.0])\n",
    "plt.ylim([0.0, 1.05])\n",
    "plt.xlabel('1 - Specificity')\n",
    "plt.ylabel('Sensitivity')\n",
    "plt.title('Receiver operating characteristic(ROC) multi-class Testing kidney 9')\n",
    "plt.legend(loc=\"lower right\")\n",
    "plt.savefig(\"./ROC_tests/ROC_kidney9.jpg\", dpi=300)\n",
    "plt.show()"
   ]
  },
  {
   "cell_type": "markdown",
   "metadata": {},
   "source": [
    "# K10 Outer"
   ]
  },
  {
   "cell_type": "code",
   "execution_count": 554,
   "metadata": {},
   "outputs": [],
   "source": [
    "with open('/scratch/paulcalle/kidney_results/summit/archRESNET50_tl_outer_results/pred_val_b_K10_outer.npy', 'rb') as f:\n",
    "    prob_K10 = np.load(f)"
   ]
  },
  {
   "cell_type": "code",
   "execution_count": 555,
   "metadata": {},
   "outputs": [
    {
     "data": {
      "text/plain": [
       "(3000, 3)"
      ]
     },
     "execution_count": 555,
     "metadata": {},
     "output_type": "execute_result"
    }
   ],
   "source": [
    "prob_K10.shape"
   ]
  },
  {
   "cell_type": "code",
   "execution_count": 563,
   "metadata": {
    "scrolled": true
   },
   "outputs": [
    {
     "data": {
      "text/plain": [
       "array([[9.9952483e-01, 4.7523942e-04, 7.9728563e-13],\n",
       "       [9.9914515e-01, 8.5478643e-04, 8.4374388e-14],\n",
       "       [9.9954504e-01, 4.5494168e-04, 3.0381286e-14],\n",
       "       ...,\n",
       "       [9.8784453e-01, 1.2155504e-02, 1.6930472e-10],\n",
       "       [9.9903238e-01, 9.6766144e-04, 3.1609049e-12],\n",
       "       [9.4519574e-03, 9.9054807e-01, 3.1831332e-10]], dtype=float32)"
      ]
     },
     "execution_count": 563,
     "metadata": {},
     "output_type": "execute_result"
    }
   ],
   "source": [
    "prob_K10"
   ]
  },
  {
   "cell_type": "code",
   "execution_count": 564,
   "metadata": {},
   "outputs": [],
   "source": [
    "pred_K10 = np.argmax(prob_K10, axis=-1)"
   ]
  },
  {
   "cell_type": "code",
   "execution_count": 565,
   "metadata": {},
   "outputs": [
    {
     "data": {
      "text/plain": [
       "array([0, 0, 0, ..., 0, 0, 1])"
      ]
     },
     "execution_count": 565,
     "metadata": {},
     "output_type": "execute_result"
    }
   ],
   "source": [
    "pred_K10"
   ]
  },
  {
   "cell_type": "code",
   "execution_count": 566,
   "metadata": {},
   "outputs": [
    {
     "data": {
      "text/plain": [
       "array([7, 7, 7, ..., 5, 5, 5])"
      ]
     },
     "execution_count": 566,
     "metadata": {},
     "output_type": "execute_result"
    }
   ],
   "source": [
    "a_kidney_num"
   ]
  },
  {
   "cell_type": "code",
   "execution_count": 567,
   "metadata": {},
   "outputs": [],
   "source": [
    "index = 10\n",
    "\n",
    "bool_kidney_test = a_kidney_num == index\n",
    "\n",
    "y_test_K10 = a_label_num[bool_kidney_test]"
   ]
  },
  {
   "cell_type": "code",
   "execution_count": 568,
   "metadata": {},
   "outputs": [
    {
     "data": {
      "text/plain": [
       "array([0, 0, 0, ..., 1, 1, 1])"
      ]
     },
     "execution_count": 568,
     "metadata": {},
     "output_type": "execute_result"
    }
   ],
   "source": [
    "y_test_K10"
   ]
  },
  {
   "cell_type": "code",
   "execution_count": 569,
   "metadata": {},
   "outputs": [
    {
     "data": {
      "text/plain": [
       "(3000,)"
      ]
     },
     "execution_count": 569,
     "metadata": {},
     "output_type": "execute_result"
    }
   ],
   "source": [
    "y_test_K10.shape"
   ]
  },
  {
   "cell_type": "code",
   "execution_count": 570,
   "metadata": {},
   "outputs": [
    {
     "data": {
      "text/plain": [
       "2224"
      ]
     },
     "execution_count": 570,
     "metadata": {},
     "output_type": "execute_result"
    }
   ],
   "source": [
    "np.sum(pred_K10 == y_test_K10)"
   ]
  },
  {
   "cell_type": "code",
   "execution_count": 571,
   "metadata": {},
   "outputs": [
    {
     "data": {
      "text/plain": [
       "array([0, 0, 0, ..., 0, 0, 1])"
      ]
     },
     "execution_count": 571,
     "metadata": {},
     "output_type": "execute_result"
    }
   ],
   "source": [
    "pred_K10"
   ]
  },
  {
   "cell_type": "code",
   "execution_count": 572,
   "metadata": {},
   "outputs": [
    {
     "name": "stdout",
     "output_type": "stream",
     "text": [
      "[[1000    0    0]\n",
      " [ 580  419    1]\n",
      " [   1  194  805]]\n"
     ]
    }
   ],
   "source": [
    "from sklearn.metrics import confusion_matrix\n",
    "\n",
    "print(confusion_matrix(y_test_K10, pred_K10))"
   ]
  },
  {
   "cell_type": "markdown",
   "metadata": {},
   "source": [
    "## ROC"
   ]
  },
  {
   "cell_type": "markdown",
   "metadata": {},
   "source": [
    "Source: [Link](https://scikit-learn.org/stable/auto_examples/model_selection/plot_roc.html)"
   ]
  },
  {
   "cell_type": "code",
   "execution_count": 573,
   "metadata": {},
   "outputs": [],
   "source": [
    "from sklearn.preprocessing import label_binarize\n",
    "from sklearn.metrics import roc_auc_score\n",
    "from sklearn.metrics import roc_curve, auc\n",
    "from scipy import interp\n",
    "\n",
    "import numpy as np\n",
    "import matplotlib.pyplot as plt\n",
    "from itertools import cycle"
   ]
  },
  {
   "cell_type": "code",
   "execution_count": 575,
   "metadata": {},
   "outputs": [
    {
     "name": "stderr",
     "output_type": "stream",
     "text": [
      "<ipython-input-575-538fb9a9e967>:22: DeprecationWarning: scipy.interp is deprecated and will be removed in SciPy 2.0.0, use numpy.interp instead\n",
      "  mean_tpr += interp(all_fpr, fpr[i], tpr[i])\n"
     ]
    },
    {
     "data": {
      "image/png": "[encoded data removed]",
      "text/plain": [
       "<Figure size 432x288 with 1 Axes>"
      ]
     },
     "metadata": {
      "needs_background": "light"
     },
     "output_type": "display_data"
    }
   ],
   "source": [
    "y_test_K10_bin = label_binarize(y_test_K10, classes=[0, 1, 2])\n",
    "\n",
    "n_classes = 3\n",
    "\n",
    "fpr = dict()\n",
    "tpr = dict()\n",
    "roc_auc = dict()\n",
    "for i in range(n_classes):\n",
    "    fpr[i], tpr[i], _ = roc_curve(y_test_K10_bin[:, i], prob_K10[:, i])\n",
    "    roc_auc[i] = auc(fpr[i], tpr[i])\n",
    "\n",
    "# Compute micro-average ROC curve and ROC area\n",
    "fpr[\"micro\"], tpr[\"micro\"], _ = roc_curve(y_test_K10_bin.ravel(), prob_K10.ravel())\n",
    "roc_auc[\"micro\"] = auc(fpr[\"micro\"], tpr[\"micro\"])\n",
    "\n",
    "# First aggregate all false positive rates\n",
    "all_fpr = np.unique(np.concatenate([fpr[i] for i in range(n_classes)]))\n",
    "\n",
    "# Then interpolate all ROC curves at this points\n",
    "mean_tpr = np.zeros_like(all_fpr)\n",
    "for i in range(n_classes):\n",
    "    mean_tpr += interp(all_fpr, fpr[i], tpr[i])\n",
    "\n",
    "# Finally average it and compute AUC\n",
    "mean_tpr /= n_classes\n",
    "\n",
    "fpr[\"macro\"] = all_fpr\n",
    "tpr[\"macro\"] = mean_tpr\n",
    "roc_auc[\"macro\"] = auc(fpr[\"macro\"], tpr[\"macro\"])\n",
    "\n",
    "# Plot all ROC curves\n",
    "plt.figure()\n",
    "# plt.plot(fpr[\"micro\"], tpr[\"micro\"],\n",
    "#          label='micro-average (area = {0:0.2f})'\n",
    "#                ''.format(roc_auc[\"micro\"]),\n",
    "#          color='deeppink', linestyle=':', linewidth=4)\n",
    "\n",
    "# plt.plot(fpr[\"macro\"], tpr[\"macro\"],\n",
    "#          label='macro-average (area = {0:0.2f})'\n",
    "#                ''.format(roc_auc[\"macro\"]),\n",
    "#          color='navy', linestyle=':', linewidth=4)\n",
    "\n",
    "lw = 2\n",
    "\n",
    "l_types = [\"cortex\",\"medulla\",\"calyx\"]\n",
    "\n",
    "colors = cycle(['aqua', 'darkorange', 'cornflowerblue'])\n",
    "for i, type_name, color in zip([1,0,2], l_types, colors):\n",
    "    plt.plot(fpr[i], tpr[i], color=color, lw=lw,\n",
    "             label='{0} (AUC = {1:0.2f})'\n",
    "             ''.format(type_name, roc_auc[i]))\n",
    "\n",
    "\n",
    "    \n",
    "plt.plot([0, 1], [0, 1], 'k--', lw=lw)\n",
    "plt.xlim([0.0, 1.0])\n",
    "plt.ylim([0.0, 1.05])\n",
    "plt.xlabel('1 - Specificity')\n",
    "plt.ylabel('Sensitivity')\n",
    "plt.title('Receiver operating characteristic(ROC) multi-class Testing kidney 10')\n",
    "plt.legend(loc=\"lower right\")\n",
    "plt.savefig(\"./ROC_tests/ROC_kidney10.jpg\", dpi=300)\n",
    "plt.show()"
   ]
  },
  {
   "cell_type": "markdown",
   "metadata": {},
   "source": [
    "# All kidneys"
   ]
  },
  {
   "cell_type": "code",
   "execution_count": 576,
   "metadata": {},
   "outputs": [
    {
     "data": {
      "text/plain": [
       "(30000, 3)"
      ]
     },
     "execution_count": 576,
     "metadata": {},
     "output_type": "execute_result"
    }
   ],
   "source": [
    "prob_all = np.concatenate((prob_K1, prob_K2, prob_K3, prob_K4,\n",
    "                           prob_K5, prob_K6, prob_K7, prob_K8,\n",
    "                           prob_K9, prob_K10))\n",
    "\n",
    "prob_all.shape"
   ]
  },
  {
   "cell_type": "code",
   "execution_count": 577,
   "metadata": {},
   "outputs": [],
   "source": [
    "y_test_all_bin = np.concatenate((y_test_K1_bin, y_test_K2_bin, y_test_K3_bin,\n",
    "                                 y_test_K4_bin, y_test_K5_bin, y_test_K6_bin,\n",
    "                                 y_test_K7_bin, y_test_K8_bin, y_test_K9_bin,\n",
    "                                 y_test_K10_bin))"
   ]
  },
  {
   "cell_type": "code",
   "execution_count": 578,
   "metadata": {},
   "outputs": [],
   "source": [
    "# y_test_K10_bin = label_binarize(y_test_K10, classes=[0, 1, 2])\n",
    "\n",
    "n_classes = 3\n",
    "\n",
    "fpr = dict()\n",
    "tpr = dict()\n",
    "roc_auc = dict()\n",
    "for i in range(n_classes):\n",
    "    fpr[i], tpr[i], _ = roc_curve(y_test_all_bin[:, i], prob_all[:, i])\n",
    "    roc_auc[i] = auc(fpr[i], tpr[i])"
   ]
  },
  {
   "cell_type": "code",
   "execution_count": 579,
   "metadata": {},
   "outputs": [],
   "source": [
    "fpr[\"micro\"], tpr[\"micro\"], _ = roc_curve(y_test_all_bin.ravel(), prob_all.ravel())\n",
    "roc_auc[\"micro\"] = auc(fpr[\"micro\"], tpr[\"micro\"])"
   ]
  },
  {
   "cell_type": "code",
   "execution_count": 583,
   "metadata": {},
   "outputs": [
    {
     "data": {
      "image/png": "[encoded data removed]",
      "text/plain": [
       "<Figure size 432x288 with 1 Axes>"
      ]
     },
     "metadata": {
      "needs_background": "light"
     },
     "output_type": "display_data"
    }
   ],
   "source": [
    "# Plot all ROC curves\n",
    "plt.figure()\n",
    "# plt.plot(fpr[\"micro\"], tpr[\"micro\"],\n",
    "#          label='micro-average(area = {0:0.2f})'\n",
    "#                ''.format(roc_auc[\"micro\"]),\n",
    "#          color='deeppink', linestyle=':', linewidth=4)\n",
    "\n",
    "# plt.plot(fpr[\"macro\"], tpr[\"macro\"],\n",
    "#          label='macro-average ROC curve (area = {0:0.2f})'\n",
    "#                ''.format(roc_auc[\"macro\"]),\n",
    "#          color='navy', linestyle=':', linewidth=4)\n",
    "\n",
    "lw = 2\n",
    "\n",
    "l_types = [\"cortex\",\"medulla\",\"calyx\"]\n",
    "\n",
    "colors = cycle(['aqua', 'darkorange', 'cornflowerblue'])\n",
    "for i, type_name, color in zip([1,0,2], l_types, colors):\n",
    "    plt.plot(fpr[i], tpr[i], color=color, lw=lw,\n",
    "             label='{0} (AUC = {1:0.2f})'\n",
    "             ''.format(type_name, roc_auc[i]))\n",
    "\n",
    "\n",
    "    \n",
    "plt.plot([0, 1], [0, 1], 'k--', lw=lw)\n",
    "plt.xlim([0.0, 1.0])\n",
    "plt.ylim([0.0, 1.05])\n",
    "plt.xlabel('1 - Specificity')\n",
    "plt.ylabel('Sensitivity')\n",
    "plt.title('ROC multi-class micro-average 10 Kidneys')\n",
    "plt.legend(loc=\"lower right\")\n",
    "plt.savefig(\"./ROC_tests/ROC_kidney_avg.jpg\", dpi=300)\n",
    "plt.show()"
   ]
  }
 ],
 "metadata": {
  "kernelspec": {
   "display_name": "Python 3",
   "language": "python",
   "name": "python3"
  },
  "language_info": {
   "codemirror_mode": {
    "name": "ipython",
    "version": 3
   },
   "file_extension": ".py",
   "mimetype": "text/x-python",
   "name": "python",
   "nbconvert_exporter": "python",
   "pygments_lexer": "ipython3",
   "version": "3.8.2"
  },
  "toc": {
   "base_numbering": 1,
   "nav_menu": {},
   "number_sections": true,
   "sideBar": true,
   "skip_h1_title": false,
   "title_cell": "Table of Contents",
   "title_sidebar": "Contents",
   "toc_cell": false,
   "toc_position": {
    "height": "calc(100% - 180px)",
    "left": "10px",
    "top": "150px",
    "width": "294.6px"
   },
   "toc_section_display": true,
   "toc_window_display": true
  }
 },
 "nbformat": 4,
 "nbformat_minor": 4
}
